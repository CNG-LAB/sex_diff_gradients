{
 "cells": [
  {
   "cell_type": "markdown",
   "id": "734fbb4b-4bc6-4fc5-a20b-6cdeaef65a5a",
   "metadata": {
    "tags": []
   },
   "source": [
    "# Sex differences in functional cortical organization (Serio et al.)\n",
    "\n",
    "## Microstructural Data\n",
    "- also supplementary check for field bias in t1w/t2w vs MPC gradient"
   ]
  },
  {
   "cell_type": "markdown",
   "id": "bf97d713-52be-4b72-9220-411e975e1100",
   "metadata": {
    "jp-MarkdownHeadingCollapsed": true,
    "tags": []
   },
   "source": [
    "## Load packages"
   ]
  },
  {
   "cell_type": "code",
   "execution_count": 1,
   "id": "b4be22d6-3caa-4271-9e91-b27ce1438bad",
   "metadata": {},
   "outputs": [
    {
     "name": "stderr",
     "output_type": "stream",
     "text": [
      "/data/u_serio_software/anaconda3/lib/python3.9/site-packages/outdated/utils.py:14: OutdatedPackageWarning: The package pingouin is out of date. Your version is 0.5.2, the latest is 0.5.4.\n",
      "Set the environment variable OUTDATED_IGNORE=1 to disable these warnings.\n",
      "  return warn(\n"
     ]
    },
    {
     "data": {
      "application/javascript": [
       "(function(root) {\n",
       "  function now() {\n",
       "    return new Date();\n",
       "  }\n",
       "\n",
       "  var force = true;\n",
       "  var py_version = '3.1.1'.replace('rc', '-rc.');\n",
       "  var is_dev = py_version.indexOf(\"+\") !== -1 || py_version.indexOf(\"-\") !== -1;\n",
       "  var reloading = false;\n",
       "  var Bokeh = root.Bokeh;\n",
       "  var bokeh_loaded = Bokeh != null && (Bokeh.version === py_version || (Bokeh.versions !== undefined && Bokeh.versions.has(py_version)));\n",
       "\n",
       "  if (typeof (root._bokeh_timeout) === \"undefined\" || force) {\n",
       "    root._bokeh_timeout = Date.now() + 5000;\n",
       "    root._bokeh_failed_load = false;\n",
       "  }\n",
       "\n",
       "  function run_callbacks() {\n",
       "    try {\n",
       "      root._bokeh_onload_callbacks.forEach(function(callback) {\n",
       "        if (callback != null)\n",
       "          callback();\n",
       "      });\n",
       "    } finally {\n",
       "      delete root._bokeh_onload_callbacks;\n",
       "    }\n",
       "    console.debug(\"Bokeh: all callbacks have finished\");\n",
       "  }\n",
       "\n",
       "  function load_libs(css_urls, js_urls, js_modules, js_exports, callback) {\n",
       "    if (css_urls == null) css_urls = [];\n",
       "    if (js_urls == null) js_urls = [];\n",
       "    if (js_modules == null) js_modules = [];\n",
       "    if (js_exports == null) js_exports = {};\n",
       "\n",
       "    root._bokeh_onload_callbacks.push(callback);\n",
       "\n",
       "    if (root._bokeh_is_loading > 0) {\n",
       "      console.debug(\"Bokeh: BokehJS is being loaded, scheduling callback at\", now());\n",
       "      return null;\n",
       "    }\n",
       "    if (js_urls.length === 0 && js_modules.length === 0 && Object.keys(js_exports).length === 0) {\n",
       "      run_callbacks();\n",
       "      return null;\n",
       "    }\n",
       "    if (!reloading) {\n",
       "      console.debug(\"Bokeh: BokehJS not loaded, scheduling load and callback at\", now());\n",
       "    }\n",
       "\n",
       "    function on_load() {\n",
       "      root._bokeh_is_loading--;\n",
       "      if (root._bokeh_is_loading === 0) {\n",
       "        console.debug(\"Bokeh: all BokehJS libraries/stylesheets loaded\");\n",
       "        run_callbacks()\n",
       "      }\n",
       "    }\n",
       "    window._bokeh_on_load = on_load\n",
       "\n",
       "    function on_error() {\n",
       "      console.error(\"failed to load \" + url);\n",
       "    }\n",
       "\n",
       "    var skip = [];\n",
       "    if (window.requirejs) {\n",
       "      window.requirejs.config({'packages': {}, 'paths': {'vtk': 'https://cdn.jsdelivr.net/npm/vtk.js@20.0.1/vtk', 'jspanel': 'https://cdn.jsdelivr.net/npm/jspanel4@4.12.0/dist/jspanel', 'jspanel-modal': 'https://cdn.jsdelivr.net/npm/jspanel4@4.12.0/dist/extensions/modal/jspanel.modal', 'jspanel-tooltip': 'https://cdn.jsdelivr.net/npm/jspanel4@4.12.0/dist/extensions/tooltip/jspanel.tooltip', 'jspanel-hint': 'https://cdn.jsdelivr.net/npm/jspanel4@4.12.0/dist/extensions/hint/jspanel.hint', 'jspanel-layout': 'https://cdn.jsdelivr.net/npm/jspanel4@4.12.0/dist/extensions/layout/jspanel.layout', 'jspanel-contextmenu': 'https://cdn.jsdelivr.net/npm/jspanel4@4.12.0/dist/extensions/contextmenu/jspanel.contextmenu', 'jspanel-dock': 'https://cdn.jsdelivr.net/npm/jspanel4@4.12.0/dist/extensions/dock/jspanel.dock', 'gridstack': 'https://cdn.jsdelivr.net/npm/gridstack@7.2.3/dist/gridstack-all', 'notyf': 'https://cdn.jsdelivr.net/npm/notyf@3/notyf.min'}, 'shim': {'vtk': {'exports': 'vtk'}, 'jspanel': {'exports': 'jsPanel'}, 'gridstack': {'exports': 'GridStack'}}});\n",
       "      require([\"vtk\"], function() {\n",
       "\ton_load()\n",
       "      })\n",
       "      require([\"jspanel\"], function(jsPanel) {\n",
       "\twindow.jsPanel = jsPanel\n",
       "\ton_load()\n",
       "      })\n",
       "      require([\"jspanel-modal\"], function() {\n",
       "\ton_load()\n",
       "      })\n",
       "      require([\"jspanel-tooltip\"], function() {\n",
       "\ton_load()\n",
       "      })\n",
       "      require([\"jspanel-hint\"], function() {\n",
       "\ton_load()\n",
       "      })\n",
       "      require([\"jspanel-layout\"], function() {\n",
       "\ton_load()\n",
       "      })\n",
       "      require([\"jspanel-contextmenu\"], function() {\n",
       "\ton_load()\n",
       "      })\n",
       "      require([\"jspanel-dock\"], function() {\n",
       "\ton_load()\n",
       "      })\n",
       "      require([\"gridstack\"], function(GridStack) {\n",
       "\twindow.GridStack = GridStack\n",
       "\ton_load()\n",
       "      })\n",
       "      require([\"notyf\"], function() {\n",
       "\ton_load()\n",
       "      })\n",
       "      root._bokeh_is_loading = css_urls.length + 10;\n",
       "    } else {\n",
       "      root._bokeh_is_loading = css_urls.length + js_urls.length + js_modules.length + Object.keys(js_exports).length;\n",
       "    }\n",
       "\n",
       "    var existing_stylesheets = []\n",
       "    var links = document.getElementsByTagName('link')\n",
       "    for (var i = 0; i < links.length; i++) {\n",
       "      var link = links[i]\n",
       "      if (link.href != null) {\n",
       "\texisting_stylesheets.push(link.href)\n",
       "      }\n",
       "    }\n",
       "    for (var i = 0; i < css_urls.length; i++) {\n",
       "      var url = css_urls[i];\n",
       "      if (existing_stylesheets.indexOf(url) !== -1) {\n",
       "\ton_load()\n",
       "\tcontinue;\n",
       "      }\n",
       "      const element = document.createElement(\"link\");\n",
       "      element.onload = on_load;\n",
       "      element.onerror = on_error;\n",
       "      element.rel = \"stylesheet\";\n",
       "      element.type = \"text/css\";\n",
       "      element.href = url;\n",
       "      console.debug(\"Bokeh: injecting link tag for BokehJS stylesheet: \", url);\n",
       "      document.body.appendChild(element);\n",
       "    }    if (((window['vtk'] !== undefined) && (!(window['vtk'] instanceof HTMLElement))) || window.requirejs) {\n",
       "      var urls = ['https://cdn.holoviz.org/panel/1.1.0/dist/bundled/abstractvtkplot/vtk.js@20.0.1/vtk.js'];\n",
       "      for (var i = 0; i < urls.length; i++) {\n",
       "        skip.push(urls[i])\n",
       "      }\n",
       "    }    if (((window['jsPanel'] !== undefined) && (!(window['jsPanel'] instanceof HTMLElement))) || window.requirejs) {\n",
       "      var urls = ['https://cdn.holoviz.org/panel/1.1.0/dist/bundled/floatpanel/jspanel4@4.12.0/dist/jspanel.js', 'https://cdn.holoviz.org/panel/1.1.0/dist/bundled/floatpanel/jspanel4@4.12.0/dist/extensions/modal/jspanel.modal.js', 'https://cdn.holoviz.org/panel/1.1.0/dist/bundled/floatpanel/jspanel4@4.12.0/dist/extensions/tooltip/jspanel.tooltip.js', 'https://cdn.holoviz.org/panel/1.1.0/dist/bundled/floatpanel/jspanel4@4.12.0/dist/extensions/hint/jspanel.hint.js', 'https://cdn.holoviz.org/panel/1.1.0/dist/bundled/floatpanel/jspanel4@4.12.0/dist/extensions/layout/jspanel.layout.js', 'https://cdn.holoviz.org/panel/1.1.0/dist/bundled/floatpanel/jspanel4@4.12.0/dist/extensions/contextmenu/jspanel.contextmenu.js', 'https://cdn.holoviz.org/panel/1.1.0/dist/bundled/floatpanel/jspanel4@4.12.0/dist/extensions/dock/jspanel.dock.js'];\n",
       "      for (var i = 0; i < urls.length; i++) {\n",
       "        skip.push(urls[i])\n",
       "      }\n",
       "    }    if (((window['GridStack'] !== undefined) && (!(window['GridStack'] instanceof HTMLElement))) || window.requirejs) {\n",
       "      var urls = ['https://cdn.holoviz.org/panel/1.1.0/dist/bundled/gridstack/gridstack@7.2.3/dist/gridstack-all.js'];\n",
       "      for (var i = 0; i < urls.length; i++) {\n",
       "        skip.push(urls[i])\n",
       "      }\n",
       "    }    if (((window['Notyf'] !== undefined) && (!(window['Notyf'] instanceof HTMLElement))) || window.requirejs) {\n",
       "      var urls = ['https://cdn.holoviz.org/panel/1.1.0/dist/bundled/notificationarea/notyf@3/notyf.min.js'];\n",
       "      for (var i = 0; i < urls.length; i++) {\n",
       "        skip.push(urls[i])\n",
       "      }\n",
       "    }    var existing_scripts = []\n",
       "    var scripts = document.getElementsByTagName('script')\n",
       "    for (var i = 0; i < scripts.length; i++) {\n",
       "      var script = scripts[i]\n",
       "      if (script.src != null) {\n",
       "\texisting_scripts.push(script.src)\n",
       "      }\n",
       "    }\n",
       "    for (var i = 0; i < js_urls.length; i++) {\n",
       "      var url = js_urls[i];\n",
       "      if (skip.indexOf(url) !== -1 || existing_scripts.indexOf(url) !== -1) {\n",
       "\tif (!window.requirejs) {\n",
       "\t  on_load();\n",
       "\t}\n",
       "\tcontinue;\n",
       "      }\n",
       "      var element = document.createElement('script');\n",
       "      element.onload = on_load;\n",
       "      element.onerror = on_error;\n",
       "      element.async = false;\n",
       "      element.src = url;\n",
       "      console.debug(\"Bokeh: injecting script tag for BokehJS library: \", url);\n",
       "      document.head.appendChild(element);\n",
       "    }\n",
       "    for (var i = 0; i < js_modules.length; i++) {\n",
       "      var url = js_modules[i];\n",
       "      if (skip.indexOf(url) !== -1 || existing_scripts.indexOf(url) !== -1) {\n",
       "\tif (!window.requirejs) {\n",
       "\t  on_load();\n",
       "\t}\n",
       "\tcontinue;\n",
       "      }\n",
       "      var element = document.createElement('script');\n",
       "      element.onload = on_load;\n",
       "      element.onerror = on_error;\n",
       "      element.async = false;\n",
       "      element.src = url;\n",
       "      element.type = \"module\";\n",
       "      console.debug(\"Bokeh: injecting script tag for BokehJS library: \", url);\n",
       "      document.head.appendChild(element);\n",
       "    }\n",
       "    for (const name in js_exports) {\n",
       "      var url = js_exports[name];\n",
       "      if (skip.indexOf(url) >= 0 || root[name] != null) {\n",
       "\tif (!window.requirejs) {\n",
       "\t  on_load();\n",
       "\t}\n",
       "\tcontinue;\n",
       "      }\n",
       "      var element = document.createElement('script');\n",
       "      element.onerror = on_error;\n",
       "      element.async = false;\n",
       "      element.type = \"module\";\n",
       "      console.debug(\"Bokeh: injecting script tag for BokehJS library: \", url);\n",
       "      element.textContent = `\n",
       "      import ${name} from \"${url}\"\n",
       "      window.${name} = ${name}\n",
       "      window._bokeh_on_load()\n",
       "      `\n",
       "      document.head.appendChild(element);\n",
       "    }\n",
       "    if (!js_urls.length && !js_modules.length) {\n",
       "      on_load()\n",
       "    }\n",
       "  };\n",
       "\n",
       "  function inject_raw_css(css) {\n",
       "    const element = document.createElement(\"style\");\n",
       "    element.appendChild(document.createTextNode(css));\n",
       "    document.body.appendChild(element);\n",
       "  }\n",
       "\n",
       "  var js_urls = [\"https://cdn.holoviz.org/panel/1.1.0/dist/bundled/abstractvtkplot/vtk.js@20.0.1/vtk.js\", \"https://cdn.bokeh.org/bokeh/release/bokeh-3.1.1.min.js\", \"https://cdn.bokeh.org/bokeh/release/bokeh-gl-3.1.1.min.js\", \"https://cdn.bokeh.org/bokeh/release/bokeh-widgets-3.1.1.min.js\", \"https://cdn.bokeh.org/bokeh/release/bokeh-tables-3.1.1.min.js\", \"https://cdn.holoviz.org/panel/1.1.0/dist/panel.min.js\"];\n",
       "  var js_modules = [];\n",
       "  var js_exports = {};\n",
       "  var css_urls = [];\n",
       "  var inline_js = [    function(Bokeh) {\n",
       "      Bokeh.set_log_level(\"info\");\n",
       "    },\n",
       "function(Bokeh) {} // ensure no trailing comma for IE\n",
       "  ];\n",
       "\n",
       "  function run_inline_js() {\n",
       "    if ((root.Bokeh !== undefined) || (force === true)) {\n",
       "      for (var i = 0; i < inline_js.length; i++) {\n",
       "        inline_js[i].call(root, root.Bokeh);\n",
       "      }\n",
       "      // Cache old bokeh versions\n",
       "      if (Bokeh != undefined && !reloading) {\n",
       "\tvar NewBokeh = root.Bokeh;\n",
       "\tif (Bokeh.versions === undefined) {\n",
       "\t  Bokeh.versions = new Map();\n",
       "\t}\n",
       "\tif (NewBokeh.version !== Bokeh.version) {\n",
       "\t  Bokeh.versions.set(NewBokeh.version, NewBokeh)\n",
       "\t}\n",
       "\troot.Bokeh = Bokeh;\n",
       "      }} else if (Date.now() < root._bokeh_timeout) {\n",
       "      setTimeout(run_inline_js, 100);\n",
       "    } else if (!root._bokeh_failed_load) {\n",
       "      console.log(\"Bokeh: BokehJS failed to load within specified timeout.\");\n",
       "      root._bokeh_failed_load = true;\n",
       "    }\n",
       "    root._bokeh_is_initializing = false\n",
       "  }\n",
       "\n",
       "  function load_or_wait() {\n",
       "    // Implement a backoff loop that tries to ensure we do not load multiple\n",
       "    // versions of Bokeh and its dependencies at the same time.\n",
       "    // In recent versions we use the root._bokeh_is_initializing flag\n",
       "    // to determine whether there is an ongoing attempt to initialize\n",
       "    // bokeh, however for backward compatibility we also try to ensure\n",
       "    // that we do not start loading a newer (Panel>=1.0 and Bokeh>3) version\n",
       "    // before older versions are fully initialized.\n",
       "    if (root._bokeh_is_initializing && Date.now() > root._bokeh_timeout) {\n",
       "      root._bokeh_is_initializing = false;\n",
       "      root._bokeh_onload_callbacks = undefined;\n",
       "      console.log(\"Bokeh: BokehJS was loaded multiple times but one version failed to initialize.\");\n",
       "      load_or_wait();\n",
       "    } else if (root._bokeh_is_initializing || (typeof root._bokeh_is_initializing === \"undefined\" && root._bokeh_onload_callbacks !== undefined)) {\n",
       "      setTimeout(load_or_wait, 100);\n",
       "    } else {\n",
       "      Bokeh = root.Bokeh;\n",
       "      bokeh_loaded = Bokeh != null && (Bokeh.version === py_version || (Bokeh.versions !== undefined && Bokeh.versions.has(py_version)));\n",
       "      root._bokeh_is_initializing = true\n",
       "      root._bokeh_onload_callbacks = []\n",
       "      if (!reloading && (!bokeh_loaded || is_dev)) {\n",
       "\troot.Bokeh = undefined;\n",
       "      }\n",
       "      load_libs(css_urls, js_urls, js_modules, js_exports, function() {\n",
       "\tconsole.debug(\"Bokeh: BokehJS plotting callback run at\", now());\n",
       "\trun_inline_js();\n",
       "      });\n",
       "    }\n",
       "  }\n",
       "  // Give older versions of the autoload script a head-start to ensure\n",
       "  // they initialize before we start loading newer version.\n",
       "  setTimeout(load_or_wait, 100)\n",
       "}(window));"
      ],
      "application/vnd.holoviews_load.v0+json": "(function(root) {\n  function now() {\n    return new Date();\n  }\n\n  var force = true;\n  var py_version = '3.1.1'.replace('rc', '-rc.');\n  var is_dev = py_version.indexOf(\"+\") !== -1 || py_version.indexOf(\"-\") !== -1;\n  var reloading = false;\n  var Bokeh = root.Bokeh;\n  var bokeh_loaded = Bokeh != null && (Bokeh.version === py_version || (Bokeh.versions !== undefined && Bokeh.versions.has(py_version)));\n\n  if (typeof (root._bokeh_timeout) === \"undefined\" || force) {\n    root._bokeh_timeout = Date.now() + 5000;\n    root._bokeh_failed_load = false;\n  }\n\n  function run_callbacks() {\n    try {\n      root._bokeh_onload_callbacks.forEach(function(callback) {\n        if (callback != null)\n          callback();\n      });\n    } finally {\n      delete root._bokeh_onload_callbacks;\n    }\n    console.debug(\"Bokeh: all callbacks have finished\");\n  }\n\n  function load_libs(css_urls, js_urls, js_modules, js_exports, callback) {\n    if (css_urls == null) css_urls = [];\n    if (js_urls == null) js_urls = [];\n    if (js_modules == null) js_modules = [];\n    if (js_exports == null) js_exports = {};\n\n    root._bokeh_onload_callbacks.push(callback);\n\n    if (root._bokeh_is_loading > 0) {\n      console.debug(\"Bokeh: BokehJS is being loaded, scheduling callback at\", now());\n      return null;\n    }\n    if (js_urls.length === 0 && js_modules.length === 0 && Object.keys(js_exports).length === 0) {\n      run_callbacks();\n      return null;\n    }\n    if (!reloading) {\n      console.debug(\"Bokeh: BokehJS not loaded, scheduling load and callback at\", now());\n    }\n\n    function on_load() {\n      root._bokeh_is_loading--;\n      if (root._bokeh_is_loading === 0) {\n        console.debug(\"Bokeh: all BokehJS libraries/stylesheets loaded\");\n        run_callbacks()\n      }\n    }\n    window._bokeh_on_load = on_load\n\n    function on_error() {\n      console.error(\"failed to load \" + url);\n    }\n\n    var skip = [];\n    if (window.requirejs) {\n      window.requirejs.config({'packages': {}, 'paths': {'vtk': 'https://cdn.jsdelivr.net/npm/vtk.js@20.0.1/vtk', 'jspanel': 'https://cdn.jsdelivr.net/npm/jspanel4@4.12.0/dist/jspanel', 'jspanel-modal': 'https://cdn.jsdelivr.net/npm/jspanel4@4.12.0/dist/extensions/modal/jspanel.modal', 'jspanel-tooltip': 'https://cdn.jsdelivr.net/npm/jspanel4@4.12.0/dist/extensions/tooltip/jspanel.tooltip', 'jspanel-hint': 'https://cdn.jsdelivr.net/npm/jspanel4@4.12.0/dist/extensions/hint/jspanel.hint', 'jspanel-layout': 'https://cdn.jsdelivr.net/npm/jspanel4@4.12.0/dist/extensions/layout/jspanel.layout', 'jspanel-contextmenu': 'https://cdn.jsdelivr.net/npm/jspanel4@4.12.0/dist/extensions/contextmenu/jspanel.contextmenu', 'jspanel-dock': 'https://cdn.jsdelivr.net/npm/jspanel4@4.12.0/dist/extensions/dock/jspanel.dock', 'gridstack': 'https://cdn.jsdelivr.net/npm/gridstack@7.2.3/dist/gridstack-all', 'notyf': 'https://cdn.jsdelivr.net/npm/notyf@3/notyf.min'}, 'shim': {'vtk': {'exports': 'vtk'}, 'jspanel': {'exports': 'jsPanel'}, 'gridstack': {'exports': 'GridStack'}}});\n      require([\"vtk\"], function() {\n\ton_load()\n      })\n      require([\"jspanel\"], function(jsPanel) {\n\twindow.jsPanel = jsPanel\n\ton_load()\n      })\n      require([\"jspanel-modal\"], function() {\n\ton_load()\n      })\n      require([\"jspanel-tooltip\"], function() {\n\ton_load()\n      })\n      require([\"jspanel-hint\"], function() {\n\ton_load()\n      })\n      require([\"jspanel-layout\"], function() {\n\ton_load()\n      })\n      require([\"jspanel-contextmenu\"], function() {\n\ton_load()\n      })\n      require([\"jspanel-dock\"], function() {\n\ton_load()\n      })\n      require([\"gridstack\"], function(GridStack) {\n\twindow.GridStack = GridStack\n\ton_load()\n      })\n      require([\"notyf\"], function() {\n\ton_load()\n      })\n      root._bokeh_is_loading = css_urls.length + 10;\n    } else {\n      root._bokeh_is_loading = css_urls.length + js_urls.length + js_modules.length + Object.keys(js_exports).length;\n    }\n\n    var existing_stylesheets = []\n    var links = document.getElementsByTagName('link')\n    for (var i = 0; i < links.length; i++) {\n      var link = links[i]\n      if (link.href != null) {\n\texisting_stylesheets.push(link.href)\n      }\n    }\n    for (var i = 0; i < css_urls.length; i++) {\n      var url = css_urls[i];\n      if (existing_stylesheets.indexOf(url) !== -1) {\n\ton_load()\n\tcontinue;\n      }\n      const element = document.createElement(\"link\");\n      element.onload = on_load;\n      element.onerror = on_error;\n      element.rel = \"stylesheet\";\n      element.type = \"text/css\";\n      element.href = url;\n      console.debug(\"Bokeh: injecting link tag for BokehJS stylesheet: \", url);\n      document.body.appendChild(element);\n    }    if (((window['vtk'] !== undefined) && (!(window['vtk'] instanceof HTMLElement))) || window.requirejs) {\n      var urls = ['https://cdn.holoviz.org/panel/1.1.0/dist/bundled/abstractvtkplot/vtk.js@20.0.1/vtk.js'];\n      for (var i = 0; i < urls.length; i++) {\n        skip.push(urls[i])\n      }\n    }    if (((window['jsPanel'] !== undefined) && (!(window['jsPanel'] instanceof HTMLElement))) || window.requirejs) {\n      var urls = ['https://cdn.holoviz.org/panel/1.1.0/dist/bundled/floatpanel/jspanel4@4.12.0/dist/jspanel.js', 'https://cdn.holoviz.org/panel/1.1.0/dist/bundled/floatpanel/jspanel4@4.12.0/dist/extensions/modal/jspanel.modal.js', 'https://cdn.holoviz.org/panel/1.1.0/dist/bundled/floatpanel/jspanel4@4.12.0/dist/extensions/tooltip/jspanel.tooltip.js', 'https://cdn.holoviz.org/panel/1.1.0/dist/bundled/floatpanel/jspanel4@4.12.0/dist/extensions/hint/jspanel.hint.js', 'https://cdn.holoviz.org/panel/1.1.0/dist/bundled/floatpanel/jspanel4@4.12.0/dist/extensions/layout/jspanel.layout.js', 'https://cdn.holoviz.org/panel/1.1.0/dist/bundled/floatpanel/jspanel4@4.12.0/dist/extensions/contextmenu/jspanel.contextmenu.js', 'https://cdn.holoviz.org/panel/1.1.0/dist/bundled/floatpanel/jspanel4@4.12.0/dist/extensions/dock/jspanel.dock.js'];\n      for (var i = 0; i < urls.length; i++) {\n        skip.push(urls[i])\n      }\n    }    if (((window['GridStack'] !== undefined) && (!(window['GridStack'] instanceof HTMLElement))) || window.requirejs) {\n      var urls = ['https://cdn.holoviz.org/panel/1.1.0/dist/bundled/gridstack/gridstack@7.2.3/dist/gridstack-all.js'];\n      for (var i = 0; i < urls.length; i++) {\n        skip.push(urls[i])\n      }\n    }    if (((window['Notyf'] !== undefined) && (!(window['Notyf'] instanceof HTMLElement))) || window.requirejs) {\n      var urls = ['https://cdn.holoviz.org/panel/1.1.0/dist/bundled/notificationarea/notyf@3/notyf.min.js'];\n      for (var i = 0; i < urls.length; i++) {\n        skip.push(urls[i])\n      }\n    }    var existing_scripts = []\n    var scripts = document.getElementsByTagName('script')\n    for (var i = 0; i < scripts.length; i++) {\n      var script = scripts[i]\n      if (script.src != null) {\n\texisting_scripts.push(script.src)\n      }\n    }\n    for (var i = 0; i < js_urls.length; i++) {\n      var url = js_urls[i];\n      if (skip.indexOf(url) !== -1 || existing_scripts.indexOf(url) !== -1) {\n\tif (!window.requirejs) {\n\t  on_load();\n\t}\n\tcontinue;\n      }\n      var element = document.createElement('script');\n      element.onload = on_load;\n      element.onerror = on_error;\n      element.async = false;\n      element.src = url;\n      console.debug(\"Bokeh: injecting script tag for BokehJS library: \", url);\n      document.head.appendChild(element);\n    }\n    for (var i = 0; i < js_modules.length; i++) {\n      var url = js_modules[i];\n      if (skip.indexOf(url) !== -1 || existing_scripts.indexOf(url) !== -1) {\n\tif (!window.requirejs) {\n\t  on_load();\n\t}\n\tcontinue;\n      }\n      var element = document.createElement('script');\n      element.onload = on_load;\n      element.onerror = on_error;\n      element.async = false;\n      element.src = url;\n      element.type = \"module\";\n      console.debug(\"Bokeh: injecting script tag for BokehJS library: \", url);\n      document.head.appendChild(element);\n    }\n    for (const name in js_exports) {\n      var url = js_exports[name];\n      if (skip.indexOf(url) >= 0 || root[name] != null) {\n\tif (!window.requirejs) {\n\t  on_load();\n\t}\n\tcontinue;\n      }\n      var element = document.createElement('script');\n      element.onerror = on_error;\n      element.async = false;\n      element.type = \"module\";\n      console.debug(\"Bokeh: injecting script tag for BokehJS library: \", url);\n      element.textContent = `\n      import ${name} from \"${url}\"\n      window.${name} = ${name}\n      window._bokeh_on_load()\n      `\n      document.head.appendChild(element);\n    }\n    if (!js_urls.length && !js_modules.length) {\n      on_load()\n    }\n  };\n\n  function inject_raw_css(css) {\n    const element = document.createElement(\"style\");\n    element.appendChild(document.createTextNode(css));\n    document.body.appendChild(element);\n  }\n\n  var js_urls = [\"https://cdn.holoviz.org/panel/1.1.0/dist/bundled/abstractvtkplot/vtk.js@20.0.1/vtk.js\", \"https://cdn.bokeh.org/bokeh/release/bokeh-3.1.1.min.js\", \"https://cdn.bokeh.org/bokeh/release/bokeh-gl-3.1.1.min.js\", \"https://cdn.bokeh.org/bokeh/release/bokeh-widgets-3.1.1.min.js\", \"https://cdn.bokeh.org/bokeh/release/bokeh-tables-3.1.1.min.js\", \"https://cdn.holoviz.org/panel/1.1.0/dist/panel.min.js\"];\n  var js_modules = [];\n  var js_exports = {};\n  var css_urls = [];\n  var inline_js = [    function(Bokeh) {\n      Bokeh.set_log_level(\"info\");\n    },\nfunction(Bokeh) {} // ensure no trailing comma for IE\n  ];\n\n  function run_inline_js() {\n    if ((root.Bokeh !== undefined) || (force === true)) {\n      for (var i = 0; i < inline_js.length; i++) {\n        inline_js[i].call(root, root.Bokeh);\n      }\n      // Cache old bokeh versions\n      if (Bokeh != undefined && !reloading) {\n\tvar NewBokeh = root.Bokeh;\n\tif (Bokeh.versions === undefined) {\n\t  Bokeh.versions = new Map();\n\t}\n\tif (NewBokeh.version !== Bokeh.version) {\n\t  Bokeh.versions.set(NewBokeh.version, NewBokeh)\n\t}\n\troot.Bokeh = Bokeh;\n      }} else if (Date.now() < root._bokeh_timeout) {\n      setTimeout(run_inline_js, 100);\n    } else if (!root._bokeh_failed_load) {\n      console.log(\"Bokeh: BokehJS failed to load within specified timeout.\");\n      root._bokeh_failed_load = true;\n    }\n    root._bokeh_is_initializing = false\n  }\n\n  function load_or_wait() {\n    // Implement a backoff loop that tries to ensure we do not load multiple\n    // versions of Bokeh and its dependencies at the same time.\n    // In recent versions we use the root._bokeh_is_initializing flag\n    // to determine whether there is an ongoing attempt to initialize\n    // bokeh, however for backward compatibility we also try to ensure\n    // that we do not start loading a newer (Panel>=1.0 and Bokeh>3) version\n    // before older versions are fully initialized.\n    if (root._bokeh_is_initializing && Date.now() > root._bokeh_timeout) {\n      root._bokeh_is_initializing = false;\n      root._bokeh_onload_callbacks = undefined;\n      console.log(\"Bokeh: BokehJS was loaded multiple times but one version failed to initialize.\");\n      load_or_wait();\n    } else if (root._bokeh_is_initializing || (typeof root._bokeh_is_initializing === \"undefined\" && root._bokeh_onload_callbacks !== undefined)) {\n      setTimeout(load_or_wait, 100);\n    } else {\n      Bokeh = root.Bokeh;\n      bokeh_loaded = Bokeh != null && (Bokeh.version === py_version || (Bokeh.versions !== undefined && Bokeh.versions.has(py_version)));\n      root._bokeh_is_initializing = true\n      root._bokeh_onload_callbacks = []\n      if (!reloading && (!bokeh_loaded || is_dev)) {\n\troot.Bokeh = undefined;\n      }\n      load_libs(css_urls, js_urls, js_modules, js_exports, function() {\n\tconsole.debug(\"Bokeh: BokehJS plotting callback run at\", now());\n\trun_inline_js();\n      });\n    }\n  }\n  // Give older versions of the autoload script a head-start to ensure\n  // they initialize before we start loading newer version.\n  setTimeout(load_or_wait, 100)\n}(window));"
     },
     "metadata": {},
     "output_type": "display_data"
    },
    {
     "data": {
      "application/javascript": [
       "\n",
       "if ((window.PyViz === undefined) || (window.PyViz instanceof HTMLElement)) {\n",
       "  window.PyViz = {comms: {}, comm_status:{}, kernels:{}, receivers: {}, plot_index: []}\n",
       "}\n",
       "\n",
       "\n",
       "    function JupyterCommManager() {\n",
       "    }\n",
       "\n",
       "    JupyterCommManager.prototype.register_target = function(plot_id, comm_id, msg_handler) {\n",
       "      if (window.comm_manager || ((window.Jupyter !== undefined) && (Jupyter.notebook.kernel != null))) {\n",
       "        var comm_manager = window.comm_manager || Jupyter.notebook.kernel.comm_manager;\n",
       "        comm_manager.register_target(comm_id, function(comm) {\n",
       "          comm.on_msg(msg_handler);\n",
       "        });\n",
       "      } else if ((plot_id in window.PyViz.kernels) && (window.PyViz.kernels[plot_id])) {\n",
       "        window.PyViz.kernels[plot_id].registerCommTarget(comm_id, function(comm) {\n",
       "          comm.onMsg = msg_handler;\n",
       "        });\n",
       "      } else if (typeof google != 'undefined' && google.colab.kernel != null) {\n",
       "        google.colab.kernel.comms.registerTarget(comm_id, (comm) => {\n",
       "          var messages = comm.messages[Symbol.asyncIterator]();\n",
       "          function processIteratorResult(result) {\n",
       "            var message = result.value;\n",
       "            console.log(message)\n",
       "            var content = {data: message.data, comm_id};\n",
       "            var buffers = []\n",
       "            for (var buffer of message.buffers || []) {\n",
       "              buffers.push(new DataView(buffer))\n",
       "            }\n",
       "            var metadata = message.metadata || {};\n",
       "            var msg = {content, buffers, metadata}\n",
       "            msg_handler(msg);\n",
       "            return messages.next().then(processIteratorResult);\n",
       "          }\n",
       "          return messages.next().then(processIteratorResult);\n",
       "        })\n",
       "      }\n",
       "    }\n",
       "\n",
       "    JupyterCommManager.prototype.get_client_comm = function(plot_id, comm_id, msg_handler) {\n",
       "      if (comm_id in window.PyViz.comms) {\n",
       "        return window.PyViz.comms[comm_id];\n",
       "      } else if (window.comm_manager || ((window.Jupyter !== undefined) && (Jupyter.notebook.kernel != null))) {\n",
       "        var comm_manager = window.comm_manager || Jupyter.notebook.kernel.comm_manager;\n",
       "        var comm = comm_manager.new_comm(comm_id, {}, {}, {}, comm_id);\n",
       "        if (msg_handler) {\n",
       "          comm.on_msg(msg_handler);\n",
       "        }\n",
       "      } else if ((plot_id in window.PyViz.kernels) && (window.PyViz.kernels[plot_id])) {\n",
       "        var comm = window.PyViz.kernels[plot_id].connectToComm(comm_id);\n",
       "        comm.open();\n",
       "        if (msg_handler) {\n",
       "          comm.onMsg = msg_handler;\n",
       "        }\n",
       "      } else if (typeof google != 'undefined' && google.colab.kernel != null) {\n",
       "        var comm_promise = google.colab.kernel.comms.open(comm_id)\n",
       "        comm_promise.then((comm) => {\n",
       "          window.PyViz.comms[comm_id] = comm;\n",
       "          if (msg_handler) {\n",
       "            var messages = comm.messages[Symbol.asyncIterator]();\n",
       "            function processIteratorResult(result) {\n",
       "              var message = result.value;\n",
       "              var content = {data: message.data};\n",
       "              var metadata = message.metadata || {comm_id};\n",
       "              var msg = {content, metadata}\n",
       "              msg_handler(msg);\n",
       "              return messages.next().then(processIteratorResult);\n",
       "            }\n",
       "            return messages.next().then(processIteratorResult);\n",
       "          }\n",
       "        }) \n",
       "        var sendClosure = (data, metadata, buffers, disposeOnDone) => {\n",
       "          return comm_promise.then((comm) => {\n",
       "            comm.send(data, metadata, buffers, disposeOnDone);\n",
       "          });\n",
       "        };\n",
       "        var comm = {\n",
       "          send: sendClosure\n",
       "        };\n",
       "      }\n",
       "      window.PyViz.comms[comm_id] = comm;\n",
       "      return comm;\n",
       "    }\n",
       "    window.PyViz.comm_manager = new JupyterCommManager();\n",
       "    \n",
       "\n",
       "\n",
       "var JS_MIME_TYPE = 'application/javascript';\n",
       "var HTML_MIME_TYPE = 'text/html';\n",
       "var EXEC_MIME_TYPE = 'application/vnd.holoviews_exec.v0+json';\n",
       "var CLASS_NAME = 'output';\n",
       "\n",
       "/**\n",
       " * Render data to the DOM node\n",
       " */\n",
       "function render(props, node) {\n",
       "  var div = document.createElement(\"div\");\n",
       "  var script = document.createElement(\"script\");\n",
       "  node.appendChild(div);\n",
       "  node.appendChild(script);\n",
       "}\n",
       "\n",
       "/**\n",
       " * Handle when a new output is added\n",
       " */\n",
       "function handle_add_output(event, handle) {\n",
       "  var output_area = handle.output_area;\n",
       "  var output = handle.output;\n",
       "  if ((output.data == undefined) || (!output.data.hasOwnProperty(EXEC_MIME_TYPE))) {\n",
       "    return\n",
       "  }\n",
       "  var id = output.metadata[EXEC_MIME_TYPE][\"id\"];\n",
       "  var toinsert = output_area.element.find(\".\" + CLASS_NAME.split(' ')[0]);\n",
       "  if (id !== undefined) {\n",
       "    var nchildren = toinsert.length;\n",
       "    var html_node = toinsert[nchildren-1].children[0];\n",
       "    html_node.innerHTML = output.data[HTML_MIME_TYPE];\n",
       "    var scripts = [];\n",
       "    var nodelist = html_node.querySelectorAll(\"script\");\n",
       "    for (var i in nodelist) {\n",
       "      if (nodelist.hasOwnProperty(i)) {\n",
       "        scripts.push(nodelist[i])\n",
       "      }\n",
       "    }\n",
       "\n",
       "    scripts.forEach( function (oldScript) {\n",
       "      var newScript = document.createElement(\"script\");\n",
       "      var attrs = [];\n",
       "      var nodemap = oldScript.attributes;\n",
       "      for (var j in nodemap) {\n",
       "        if (nodemap.hasOwnProperty(j)) {\n",
       "          attrs.push(nodemap[j])\n",
       "        }\n",
       "      }\n",
       "      attrs.forEach(function(attr) { newScript.setAttribute(attr.name, attr.value) });\n",
       "      newScript.appendChild(document.createTextNode(oldScript.innerHTML));\n",
       "      oldScript.parentNode.replaceChild(newScript, oldScript);\n",
       "    });\n",
       "    if (JS_MIME_TYPE in output.data) {\n",
       "      toinsert[nchildren-1].children[1].textContent = output.data[JS_MIME_TYPE];\n",
       "    }\n",
       "    output_area._hv_plot_id = id;\n",
       "    if ((window.Bokeh !== undefined) && (id in Bokeh.index)) {\n",
       "      window.PyViz.plot_index[id] = Bokeh.index[id];\n",
       "    } else {\n",
       "      window.PyViz.plot_index[id] = null;\n",
       "    }\n",
       "  } else if (output.metadata[EXEC_MIME_TYPE][\"server_id\"] !== undefined) {\n",
       "    var bk_div = document.createElement(\"div\");\n",
       "    bk_div.innerHTML = output.data[HTML_MIME_TYPE];\n",
       "    var script_attrs = bk_div.children[0].attributes;\n",
       "    for (var i = 0; i < script_attrs.length; i++) {\n",
       "      toinsert[toinsert.length - 1].childNodes[1].setAttribute(script_attrs[i].name, script_attrs[i].value);\n",
       "    }\n",
       "    // store reference to server id on output_area\n",
       "    output_area._bokeh_server_id = output.metadata[EXEC_MIME_TYPE][\"server_id\"];\n",
       "  }\n",
       "}\n",
       "\n",
       "/**\n",
       " * Handle when an output is cleared or removed\n",
       " */\n",
       "function handle_clear_output(event, handle) {\n",
       "  var id = handle.cell.output_area._hv_plot_id;\n",
       "  var server_id = handle.cell.output_area._bokeh_server_id;\n",
       "  if (((id === undefined) || !(id in PyViz.plot_index)) && (server_id !== undefined)) { return; }\n",
       "  var comm = window.PyViz.comm_manager.get_client_comm(\"hv-extension-comm\", \"hv-extension-comm\", function () {});\n",
       "  if (server_id !== null) {\n",
       "    comm.send({event_type: 'server_delete', 'id': server_id});\n",
       "    return;\n",
       "  } else if (comm !== null) {\n",
       "    comm.send({event_type: 'delete', 'id': id});\n",
       "  }\n",
       "  delete PyViz.plot_index[id];\n",
       "  if ((window.Bokeh !== undefined) & (id in window.Bokeh.index)) {\n",
       "    var doc = window.Bokeh.index[id].model.document\n",
       "    doc.clear();\n",
       "    const i = window.Bokeh.documents.indexOf(doc);\n",
       "    if (i > -1) {\n",
       "      window.Bokeh.documents.splice(i, 1);\n",
       "    }\n",
       "  }\n",
       "}\n",
       "\n",
       "/**\n",
       " * Handle kernel restart event\n",
       " */\n",
       "function handle_kernel_cleanup(event, handle) {\n",
       "  delete PyViz.comms[\"hv-extension-comm\"];\n",
       "  window.PyViz.plot_index = {}\n",
       "}\n",
       "\n",
       "/**\n",
       " * Handle update_display_data messages\n",
       " */\n",
       "function handle_update_output(event, handle) {\n",
       "  handle_clear_output(event, {cell: {output_area: handle.output_area}})\n",
       "  handle_add_output(event, handle)\n",
       "}\n",
       "\n",
       "function register_renderer(events, OutputArea) {\n",
       "  function append_mime(data, metadata, element) {\n",
       "    // create a DOM node to render to\n",
       "    var toinsert = this.create_output_subarea(\n",
       "    metadata,\n",
       "    CLASS_NAME,\n",
       "    EXEC_MIME_TYPE\n",
       "    );\n",
       "    this.keyboard_manager.register_events(toinsert);\n",
       "    // Render to node\n",
       "    var props = {data: data, metadata: metadata[EXEC_MIME_TYPE]};\n",
       "    render(props, toinsert[0]);\n",
       "    element.append(toinsert);\n",
       "    return toinsert\n",
       "  }\n",
       "\n",
       "  events.on('output_added.OutputArea', handle_add_output);\n",
       "  events.on('output_updated.OutputArea', handle_update_output);\n",
       "  events.on('clear_output.CodeCell', handle_clear_output);\n",
       "  events.on('delete.Cell', handle_clear_output);\n",
       "  events.on('kernel_ready.Kernel', handle_kernel_cleanup);\n",
       "\n",
       "  OutputArea.prototype.register_mime_type(EXEC_MIME_TYPE, append_mime, {\n",
       "    safe: true,\n",
       "    index: 0\n",
       "  });\n",
       "}\n",
       "\n",
       "if (window.Jupyter !== undefined) {\n",
       "  try {\n",
       "    var events = require('base/js/events');\n",
       "    var OutputArea = require('notebook/js/outputarea').OutputArea;\n",
       "    if (OutputArea.prototype.mime_types().indexOf(EXEC_MIME_TYPE) == -1) {\n",
       "      register_renderer(events, OutputArea);\n",
       "    }\n",
       "  } catch(err) {\n",
       "  }\n",
       "}\n"
      ],
      "application/vnd.holoviews_load.v0+json": "\nif ((window.PyViz === undefined) || (window.PyViz instanceof HTMLElement)) {\n  window.PyViz = {comms: {}, comm_status:{}, kernels:{}, receivers: {}, plot_index: []}\n}\n\n\n    function JupyterCommManager() {\n    }\n\n    JupyterCommManager.prototype.register_target = function(plot_id, comm_id, msg_handler) {\n      if (window.comm_manager || ((window.Jupyter !== undefined) && (Jupyter.notebook.kernel != null))) {\n        var comm_manager = window.comm_manager || Jupyter.notebook.kernel.comm_manager;\n        comm_manager.register_target(comm_id, function(comm) {\n          comm.on_msg(msg_handler);\n        });\n      } else if ((plot_id in window.PyViz.kernels) && (window.PyViz.kernels[plot_id])) {\n        window.PyViz.kernels[plot_id].registerCommTarget(comm_id, function(comm) {\n          comm.onMsg = msg_handler;\n        });\n      } else if (typeof google != 'undefined' && google.colab.kernel != null) {\n        google.colab.kernel.comms.registerTarget(comm_id, (comm) => {\n          var messages = comm.messages[Symbol.asyncIterator]();\n          function processIteratorResult(result) {\n            var message = result.value;\n            console.log(message)\n            var content = {data: message.data, comm_id};\n            var buffers = []\n            for (var buffer of message.buffers || []) {\n              buffers.push(new DataView(buffer))\n            }\n            var metadata = message.metadata || {};\n            var msg = {content, buffers, metadata}\n            msg_handler(msg);\n            return messages.next().then(processIteratorResult);\n          }\n          return messages.next().then(processIteratorResult);\n        })\n      }\n    }\n\n    JupyterCommManager.prototype.get_client_comm = function(plot_id, comm_id, msg_handler) {\n      if (comm_id in window.PyViz.comms) {\n        return window.PyViz.comms[comm_id];\n      } else if (window.comm_manager || ((window.Jupyter !== undefined) && (Jupyter.notebook.kernel != null))) {\n        var comm_manager = window.comm_manager || Jupyter.notebook.kernel.comm_manager;\n        var comm = comm_manager.new_comm(comm_id, {}, {}, {}, comm_id);\n        if (msg_handler) {\n          comm.on_msg(msg_handler);\n        }\n      } else if ((plot_id in window.PyViz.kernels) && (window.PyViz.kernels[plot_id])) {\n        var comm = window.PyViz.kernels[plot_id].connectToComm(comm_id);\n        comm.open();\n        if (msg_handler) {\n          comm.onMsg = msg_handler;\n        }\n      } else if (typeof google != 'undefined' && google.colab.kernel != null) {\n        var comm_promise = google.colab.kernel.comms.open(comm_id)\n        comm_promise.then((comm) => {\n          window.PyViz.comms[comm_id] = comm;\n          if (msg_handler) {\n            var messages = comm.messages[Symbol.asyncIterator]();\n            function processIteratorResult(result) {\n              var message = result.value;\n              var content = {data: message.data};\n              var metadata = message.metadata || {comm_id};\n              var msg = {content, metadata}\n              msg_handler(msg);\n              return messages.next().then(processIteratorResult);\n            }\n            return messages.next().then(processIteratorResult);\n          }\n        }) \n        var sendClosure = (data, metadata, buffers, disposeOnDone) => {\n          return comm_promise.then((comm) => {\n            comm.send(data, metadata, buffers, disposeOnDone);\n          });\n        };\n        var comm = {\n          send: sendClosure\n        };\n      }\n      window.PyViz.comms[comm_id] = comm;\n      return comm;\n    }\n    window.PyViz.comm_manager = new JupyterCommManager();\n    \n\n\nvar JS_MIME_TYPE = 'application/javascript';\nvar HTML_MIME_TYPE = 'text/html';\nvar EXEC_MIME_TYPE = 'application/vnd.holoviews_exec.v0+json';\nvar CLASS_NAME = 'output';\n\n/**\n * Render data to the DOM node\n */\nfunction render(props, node) {\n  var div = document.createElement(\"div\");\n  var script = document.createElement(\"script\");\n  node.appendChild(div);\n  node.appendChild(script);\n}\n\n/**\n * Handle when a new output is added\n */\nfunction handle_add_output(event, handle) {\n  var output_area = handle.output_area;\n  var output = handle.output;\n  if ((output.data == undefined) || (!output.data.hasOwnProperty(EXEC_MIME_TYPE))) {\n    return\n  }\n  var id = output.metadata[EXEC_MIME_TYPE][\"id\"];\n  var toinsert = output_area.element.find(\".\" + CLASS_NAME.split(' ')[0]);\n  if (id !== undefined) {\n    var nchildren = toinsert.length;\n    var html_node = toinsert[nchildren-1].children[0];\n    html_node.innerHTML = output.data[HTML_MIME_TYPE];\n    var scripts = [];\n    var nodelist = html_node.querySelectorAll(\"script\");\n    for (var i in nodelist) {\n      if (nodelist.hasOwnProperty(i)) {\n        scripts.push(nodelist[i])\n      }\n    }\n\n    scripts.forEach( function (oldScript) {\n      var newScript = document.createElement(\"script\");\n      var attrs = [];\n      var nodemap = oldScript.attributes;\n      for (var j in nodemap) {\n        if (nodemap.hasOwnProperty(j)) {\n          attrs.push(nodemap[j])\n        }\n      }\n      attrs.forEach(function(attr) { newScript.setAttribute(attr.name, attr.value) });\n      newScript.appendChild(document.createTextNode(oldScript.innerHTML));\n      oldScript.parentNode.replaceChild(newScript, oldScript);\n    });\n    if (JS_MIME_TYPE in output.data) {\n      toinsert[nchildren-1].children[1].textContent = output.data[JS_MIME_TYPE];\n    }\n    output_area._hv_plot_id = id;\n    if ((window.Bokeh !== undefined) && (id in Bokeh.index)) {\n      window.PyViz.plot_index[id] = Bokeh.index[id];\n    } else {\n      window.PyViz.plot_index[id] = null;\n    }\n  } else if (output.metadata[EXEC_MIME_TYPE][\"server_id\"] !== undefined) {\n    var bk_div = document.createElement(\"div\");\n    bk_div.innerHTML = output.data[HTML_MIME_TYPE];\n    var script_attrs = bk_div.children[0].attributes;\n    for (var i = 0; i < script_attrs.length; i++) {\n      toinsert[toinsert.length - 1].childNodes[1].setAttribute(script_attrs[i].name, script_attrs[i].value);\n    }\n    // store reference to server id on output_area\n    output_area._bokeh_server_id = output.metadata[EXEC_MIME_TYPE][\"server_id\"];\n  }\n}\n\n/**\n * Handle when an output is cleared or removed\n */\nfunction handle_clear_output(event, handle) {\n  var id = handle.cell.output_area._hv_plot_id;\n  var server_id = handle.cell.output_area._bokeh_server_id;\n  if (((id === undefined) || !(id in PyViz.plot_index)) && (server_id !== undefined)) { return; }\n  var comm = window.PyViz.comm_manager.get_client_comm(\"hv-extension-comm\", \"hv-extension-comm\", function () {});\n  if (server_id !== null) {\n    comm.send({event_type: 'server_delete', 'id': server_id});\n    return;\n  } else if (comm !== null) {\n    comm.send({event_type: 'delete', 'id': id});\n  }\n  delete PyViz.plot_index[id];\n  if ((window.Bokeh !== undefined) & (id in window.Bokeh.index)) {\n    var doc = window.Bokeh.index[id].model.document\n    doc.clear();\n    const i = window.Bokeh.documents.indexOf(doc);\n    if (i > -1) {\n      window.Bokeh.documents.splice(i, 1);\n    }\n  }\n}\n\n/**\n * Handle kernel restart event\n */\nfunction handle_kernel_cleanup(event, handle) {\n  delete PyViz.comms[\"hv-extension-comm\"];\n  window.PyViz.plot_index = {}\n}\n\n/**\n * Handle update_display_data messages\n */\nfunction handle_update_output(event, handle) {\n  handle_clear_output(event, {cell: {output_area: handle.output_area}})\n  handle_add_output(event, handle)\n}\n\nfunction register_renderer(events, OutputArea) {\n  function append_mime(data, metadata, element) {\n    // create a DOM node to render to\n    var toinsert = this.create_output_subarea(\n    metadata,\n    CLASS_NAME,\n    EXEC_MIME_TYPE\n    );\n    this.keyboard_manager.register_events(toinsert);\n    // Render to node\n    var props = {data: data, metadata: metadata[EXEC_MIME_TYPE]};\n    render(props, toinsert[0]);\n    element.append(toinsert);\n    return toinsert\n  }\n\n  events.on('output_added.OutputArea', handle_add_output);\n  events.on('output_updated.OutputArea', handle_update_output);\n  events.on('clear_output.CodeCell', handle_clear_output);\n  events.on('delete.Cell', handle_clear_output);\n  events.on('kernel_ready.Kernel', handle_kernel_cleanup);\n\n  OutputArea.prototype.register_mime_type(EXEC_MIME_TYPE, append_mime, {\n    safe: true,\n    index: 0\n  });\n}\n\nif (window.Jupyter !== undefined) {\n  try {\n    var events = require('base/js/events');\n    var OutputArea = require('notebook/js/outputarea').OutputArea;\n    if (OutputArea.prototype.mime_types().indexOf(EXEC_MIME_TYPE) == -1) {\n      register_renderer(events, OutputArea);\n    }\n  } catch(err) {\n  }\n}\n"
     },
     "metadata": {},
     "output_type": "display_data"
    },
    {
     "data": {
      "text/html": [
       "<style>*[data-root-id],\n",
       "*[data-root-id] > * {\n",
       "  box-sizing: border-box;\n",
       "  font-family: var(--jp-ui-font-family);\n",
       "  font-size: var(--jp-ui-font-size1);\n",
       "  color: var(--vscode-editor-foreground, var(--jp-ui-font-color1));\n",
       "}\n",
       "\n",
       "/* Override VSCode background color */\n",
       ".cell-output-ipywidget-background:has(> .cell-output-ipywidget-background\n",
       "    > .lm-Widget\n",
       "    > *[data-root-id]),\n",
       ".cell-output-ipywidget-background:has(> .lm-Widget > *[data-root-id]) {\n",
       "  background-color: transparent !important;\n",
       "}\n",
       "</style>"
      ]
     },
     "metadata": {},
     "output_type": "display_data"
    },
    {
     "data": {
      "application/vnd.holoviews_exec.v0+json": "",
      "text/html": [
       "<div id='3b19299d-ffc3-472c-b78e-eb8aa32d33e5'>\n",
       "  <div id=\"ef8c96af-77c7-4d48-a2c0-900e9375e635\" data-root-id=\"3b19299d-ffc3-472c-b78e-eb8aa32d33e5\" style=\"display: contents;\"></div>\n",
       "</div>\n",
       "<script type=\"application/javascript\">(function(root) {\n",
       "  var docs_json = {\"0be4d395-14ad-48dd-b160-2676ef04f1cb\":{\"version\":\"3.1.1\",\"title\":\"Bokeh Application\",\"defs\":[{\"type\":\"model\",\"name\":\"ReactiveHTML1\"},{\"type\":\"model\",\"name\":\"FlexBox1\",\"properties\":[{\"name\":\"align_content\",\"kind\":\"Any\",\"default\":\"flex-start\"},{\"name\":\"align_items\",\"kind\":\"Any\",\"default\":\"flex-start\"},{\"name\":\"flex_direction\",\"kind\":\"Any\",\"default\":\"row\"},{\"name\":\"flex_wrap\",\"kind\":\"Any\",\"default\":\"wrap\"},{\"name\":\"justify_content\",\"kind\":\"Any\",\"default\":\"flex-start\"}]},{\"type\":\"model\",\"name\":\"FloatPanel1\",\"properties\":[{\"name\":\"config\",\"kind\":\"Any\",\"default\":{\"type\":\"map\"}},{\"name\":\"contained\",\"kind\":\"Any\",\"default\":true},{\"name\":\"position\",\"kind\":\"Any\",\"default\":\"right-top\"},{\"name\":\"offsetx\",\"kind\":\"Any\",\"default\":null},{\"name\":\"offsety\",\"kind\":\"Any\",\"default\":null},{\"name\":\"theme\",\"kind\":\"Any\",\"default\":\"primary\"},{\"name\":\"status\",\"kind\":\"Any\",\"default\":\"normalized\"}]},{\"type\":\"model\",\"name\":\"GridStack1\",\"properties\":[{\"name\":\"mode\",\"kind\":\"Any\",\"default\":\"warn\"},{\"name\":\"ncols\",\"kind\":\"Any\",\"default\":null},{\"name\":\"nrows\",\"kind\":\"Any\",\"default\":null},{\"name\":\"allow_resize\",\"kind\":\"Any\",\"default\":true},{\"name\":\"allow_drag\",\"kind\":\"Any\",\"default\":true},{\"name\":\"state\",\"kind\":\"Any\",\"default\":[]}]},{\"type\":\"model\",\"name\":\"drag1\",\"properties\":[{\"name\":\"slider_width\",\"kind\":\"Any\",\"default\":5},{\"name\":\"slider_color\",\"kind\":\"Any\",\"default\":\"black\"},{\"name\":\"value\",\"kind\":\"Any\",\"default\":50}]},{\"type\":\"model\",\"name\":\"click1\",\"properties\":[{\"name\":\"terminal_output\",\"kind\":\"Any\",\"default\":\"\"},{\"name\":\"debug_name\",\"kind\":\"Any\",\"default\":\"\"},{\"name\":\"clears\",\"kind\":\"Any\",\"default\":0}]},{\"type\":\"model\",\"name\":\"FastWrapper1\",\"properties\":[{\"name\":\"object\",\"kind\":\"Any\",\"default\":null},{\"name\":\"style\",\"kind\":\"Any\",\"default\":null}]},{\"type\":\"model\",\"name\":\"NotificationAreaBase1\",\"properties\":[{\"name\":\"position\",\"kind\":\"Any\",\"default\":\"bottom-right\"},{\"name\":\"_clear\",\"kind\":\"Any\",\"default\":0}]},{\"type\":\"model\",\"name\":\"NotificationArea1\",\"properties\":[{\"name\":\"notifications\",\"kind\":\"Any\",\"default\":[]},{\"name\":\"position\",\"kind\":\"Any\",\"default\":\"bottom-right\"},{\"name\":\"_clear\",\"kind\":\"Any\",\"default\":0},{\"name\":\"types\",\"kind\":\"Any\",\"default\":[{\"type\":\"map\",\"entries\":[[\"type\",\"warning\"],[\"background\",\"#ffc107\"],[\"icon\",{\"type\":\"map\",\"entries\":[[\"className\",\"fas fa-exclamation-triangle\"],[\"tagName\",\"i\"],[\"color\",\"white\"]]}]]},{\"type\":\"map\",\"entries\":[[\"type\",\"info\"],[\"background\",\"#007bff\"],[\"icon\",{\"type\":\"map\",\"entries\":[[\"className\",\"fas fa-info-circle\"],[\"tagName\",\"i\"],[\"color\",\"white\"]]}]]}]}]},{\"type\":\"model\",\"name\":\"Notification\",\"properties\":[{\"name\":\"background\",\"kind\":\"Any\",\"default\":null},{\"name\":\"duration\",\"kind\":\"Any\",\"default\":3000},{\"name\":\"icon\",\"kind\":\"Any\",\"default\":null},{\"name\":\"message\",\"kind\":\"Any\",\"default\":\"\"},{\"name\":\"notification_type\",\"kind\":\"Any\",\"default\":null},{\"name\":\"_destroyed\",\"kind\":\"Any\",\"default\":false}]},{\"type\":\"model\",\"name\":\"TemplateActions1\",\"properties\":[{\"name\":\"open_modal\",\"kind\":\"Any\",\"default\":0},{\"name\":\"close_modal\",\"kind\":\"Any\",\"default\":0}]},{\"type\":\"model\",\"name\":\"BootstrapTemplateActions1\",\"properties\":[{\"name\":\"open_modal\",\"kind\":\"Any\",\"default\":0},{\"name\":\"close_modal\",\"kind\":\"Any\",\"default\":0}]},{\"type\":\"model\",\"name\":\"MaterialTemplateActions1\",\"properties\":[{\"name\":\"open_modal\",\"kind\":\"Any\",\"default\":0},{\"name\":\"close_modal\",\"kind\":\"Any\",\"default\":0}]}],\"roots\":[{\"type\":\"object\",\"name\":\"panel.models.browser.BrowserInfo\",\"id\":\"3b19299d-ffc3-472c-b78e-eb8aa32d33e5\"},{\"type\":\"object\",\"name\":\"panel.models.comm_manager.CommManager\",\"id\":\"57cc4884-8f82-47de-8db9-e217a7fd445c\",\"attributes\":{\"plot_id\":\"3b19299d-ffc3-472c-b78e-eb8aa32d33e5\",\"comm_id\":\"13681888e6d2475d921a16dd1173b92e\",\"client_comm_id\":\"c2a79bbb5fa94221b705aff075874d5e\"}}],\"callbacks\":{\"type\":\"map\"}}};\n",
       "  var render_items = [{\"docid\":\"0be4d395-14ad-48dd-b160-2676ef04f1cb\",\"roots\":{\"3b19299d-ffc3-472c-b78e-eb8aa32d33e5\":\"ef8c96af-77c7-4d48-a2c0-900e9375e635\"},\"root_ids\":[\"3b19299d-ffc3-472c-b78e-eb8aa32d33e5\"]}];\n",
       "  var docs = Object.values(docs_json)\n",
       "  if (!docs) {\n",
       "    return\n",
       "  }\n",
       "  const py_version = docs[0].version.replace('rc', '-rc.')\n",
       "  const is_dev = py_version.indexOf(\"+\") !== -1 || py_version.indexOf(\"-\") !== -1\n",
       "  function embed_document(root) {\n",
       "    var Bokeh = get_bokeh(root)\n",
       "    Bokeh.embed.embed_items_notebook(docs_json, render_items);\n",
       "    for (const render_item of render_items) {\n",
       "      for (const root_id of render_item.root_ids) {\n",
       "\tconst id_el = document.getElementById(root_id)\n",
       "\tif (id_el.children.length && (id_el.children[0].className === 'bk-root')) {\n",
       "\t  const root_el = id_el.children[0]\n",
       "\t  root_el.id = root_el.id + '-rendered'\n",
       "\t}\n",
       "      }\n",
       "    }\n",
       "  }\n",
       "  function get_bokeh(root) {\n",
       "    if (root.Bokeh === undefined) {\n",
       "      return null\n",
       "    } else if (root.Bokeh.version !== py_version && !is_dev) {\n",
       "      if (root.Bokeh.versions === undefined || !root.Bokeh.versions.has(py_version)) {\n",
       "\treturn null\n",
       "      }\n",
       "      return root.Bokeh.versions.get(py_version);\n",
       "    } else if (root.Bokeh.version === py_version) {\n",
       "      return root.Bokeh\n",
       "    }\n",
       "    return null\n",
       "  }\n",
       "  function is_loaded(root) {\n",
       "    var Bokeh = get_bokeh(root)\n",
       "    return (Bokeh != null && Bokeh.Panel !== undefined && ( root['vtk'] !== undefined) && ( root['vtk'] !== undefined))\n",
       "  }\n",
       "  if (is_loaded(root)) {\n",
       "    embed_document(root);\n",
       "  } else {\n",
       "    var attempts = 0;\n",
       "    var timer = setInterval(function(root) {\n",
       "      if (is_loaded(root)) {\n",
       "        clearInterval(timer);\n",
       "        embed_document(root);\n",
       "      } else if (document.readyState == \"complete\") {\n",
       "        attempts++;\n",
       "        if (attempts > 200) {\n",
       "          clearInterval(timer);\n",
       "\t  var Bokeh = get_bokeh(root)\n",
       "\t  if (Bokeh == null || Bokeh.Panel == null) {\n",
       "            console.warn(\"Panel: ERROR: Unable to run Panel code because Bokeh or Panel library is missing\");\n",
       "\t  } else {\n",
       "\t    console.warn(\"Panel: WARNING: Attempting to render but not all required libraries could be resolved.\")\n",
       "\t    embed_document(root)\n",
       "\t  }\n",
       "        }\n",
       "      }\n",
       "    }, 25, root)\n",
       "  }\n",
       "})(window);</script>"
      ]
     },
     "metadata": {
      "application/vnd.holoviews_exec.v0+json": {
       "id": "3b19299d-ffc3-472c-b78e-eb8aa32d33e5"
      }
     },
     "output_type": "display_data"
    }
   ],
   "source": [
    "# General\n",
    "import os\n",
    "import sys\n",
    "import numpy as np\n",
    "import pandas as pd\n",
    "import csv\n",
    "import math\n",
    "from math import isnan\n",
    "import statistics\n",
    "import pingouin as pg\n",
    "import pickle\n",
    "\n",
    "# Computing / Analyses\n",
    "import scipy.io  # loadmat\n",
    "from scipy import stats\n",
    "import sklearn \n",
    "from brainstat.stats.terms import FixedEffect\n",
    "from brainstat.stats.SLM import SLM\n",
    "from statsmodels.stats.multitest import fdrcorrection # does not yield exactly the same FDR correction as R but the same up to 14th decimal place so good enough\n",
    "\n",
    "# Visualisation\n",
    "import matplotlib.pyplot as plt \n",
    "import seaborn as sns\n",
    "import vtk\n",
    "from IPython.display import display\n",
    "import matplotlib.collections as clt\n",
    "import ptitprince as pt\n",
    "\n",
    "# Neuroimaging\n",
    "import nibabel\n",
    "import nilearn\n",
    "from brainstat.datasets import fetch_parcellation\n",
    "from enigmatoolbox.permutation_testing import spin_test, shuf_test\n",
    "\n",
    "# Gradients\n",
    "import brainspace\n",
    "from brainspace.datasets import load_parcellation, load_conte69\n",
    "from brainspace.plotting import plot_hemispheres\n",
    "from brainspace.gradient import GradientMaps\n",
    "from brainspace.utils.parcellation import map_to_labels"
   ]
  },
  {
   "cell_type": "markdown",
   "id": "c7214734-b77b-417c-8056-d1456529e77f",
   "metadata": {
    "tags": []
   },
   "source": [
    "## Define directories"
   ]
  },
  {
   "cell_type": "code",
   "execution_count": 2,
   "id": "9df74163-556f-4b07-ad0b-f82d55d30cc3",
   "metadata": {},
   "outputs": [],
   "source": [
    "codedir = os.path.abspath('')  # obtain current direction from which script is runnning\n",
    "\n",
    "datadir = '/data/p_02667/sex_diff_gradients/data/'\n",
    "\n",
    "resdir_hcp = '/data/p_02667/sex_diff_gradients/results/HCP/suppl'\n",
    "resdir_fig = '/data/p_02667/sex_diff_gradients/results/figures/SA/'"
   ]
  },
  {
   "cell_type": "markdown",
   "id": "a12321ce-f8ff-4b9f-bad7-cba042a71524",
   "metadata": {
    "tags": []
   },
   "source": [
    "## Import functions"
   ]
  },
  {
   "cell_type": "code",
   "execution_count": 3,
   "id": "2c9ea731-2a9e-4e60-979e-9db3999a996e",
   "metadata": {},
   "outputs": [],
   "source": [
    "%run p1_myfunctions.ipynb"
   ]
  },
  {
   "cell_type": "markdown",
   "id": "294904a2-95f8-4a16-af02-c9631c6de75b",
   "metadata": {
    "tags": []
   },
   "source": [
    "# Data "
   ]
  },
  {
   "cell_type": "markdown",
   "id": "28ffd391-053c-42bb-a4bc-7f0ecebcf9d9",
   "metadata": {
    "jp-MarkdownHeadingCollapsed": true,
    "tags": []
   },
   "source": [
    "## Descriptive HCP"
   ]
  },
  {
   "cell_type": "markdown",
   "id": "5e7b5a05-607d-4b71-a799-e159c52d7f2b",
   "metadata": {},
   "source": [
    "### Retrieving the cleaned demographics dataframe (ready for analysis)"
   ]
  },
  {
   "cell_type": "code",
   "execution_count": 4,
   "id": "6e5a5f51-d809-4f5a-910f-9fcf8530d78d",
   "metadata": {},
   "outputs": [],
   "source": [
    "HCP_demographics_cleaned = pd.read_csv(resdir_hcp+'demographics_cleaned.csv')"
   ]
  },
  {
   "cell_type": "code",
   "execution_count": 5,
   "id": "9fec38e4-217c-40d2-b55e-fce38a5805e1",
   "metadata": {},
   "outputs": [
    {
     "data": {
      "text/html": [
       "<div>\n",
       "<style scoped>\n",
       "    .dataframe tbody tr th:only-of-type {\n",
       "        vertical-align: middle;\n",
       "    }\n",
       "\n",
       "    .dataframe tbody tr th {\n",
       "        vertical-align: top;\n",
       "    }\n",
       "\n",
       "    .dataframe thead th {\n",
       "        text-align: right;\n",
       "    }\n",
       "</style>\n",
       "<table border=\"1\" class=\"dataframe\">\n",
       "  <thead>\n",
       "    <tr style=\"text-align: right;\">\n",
       "      <th></th>\n",
       "      <th>Subject</th>\n",
       "      <th>Release</th>\n",
       "      <th>Acquisition</th>\n",
       "      <th>Gender</th>\n",
       "      <th>Age</th>\n",
       "      <th>3T_Full_MR_Compl</th>\n",
       "      <th>T1_Count</th>\n",
       "      <th>T2_Count</th>\n",
       "      <th>3T_RS-fMRI_Count</th>\n",
       "      <th>3T_RS-fMRI_PctCompl</th>\n",
       "      <th>...</th>\n",
       "      <th>SSAGA_Mj_Ab_Dep</th>\n",
       "      <th>SSAGA_Mj_Age_1st_Use</th>\n",
       "      <th>SSAGA_Mj_Times_Used</th>\n",
       "      <th>Unnamed: 201</th>\n",
       "      <th>Unnamed: 202</th>\n",
       "      <th>Unnamed: 203</th>\n",
       "      <th>TwinStatus</th>\n",
       "      <th>TwinStatus_num</th>\n",
       "      <th>Family_ID_num</th>\n",
       "      <th>global_ct</th>\n",
       "    </tr>\n",
       "  </thead>\n",
       "  <tbody>\n",
       "    <tr>\n",
       "      <th>0</th>\n",
       "      <td>100206</td>\n",
       "      <td>S900</td>\n",
       "      <td>Q11</td>\n",
       "      <td>M</td>\n",
       "      <td>26-30</td>\n",
       "      <td>True</td>\n",
       "      <td>1</td>\n",
       "      <td>1</td>\n",
       "      <td>4</td>\n",
       "      <td>100.0</td>\n",
       "      <td>...</td>\n",
       "      <td>0.0</td>\n",
       "      <td>NaN</td>\n",
       "      <td>0.0</td>\n",
       "      <td>NaN</td>\n",
       "      <td>NaN</td>\n",
       "      <td>NaN</td>\n",
       "      <td>sibling</td>\n",
       "      <td>2</td>\n",
       "      <td>118</td>\n",
       "      <td>2.583466</td>\n",
       "    </tr>\n",
       "    <tr>\n",
       "      <th>1</th>\n",
       "      <td>100307</td>\n",
       "      <td>Q1</td>\n",
       "      <td>Q01</td>\n",
       "      <td>F</td>\n",
       "      <td>26-30</td>\n",
       "      <td>True</td>\n",
       "      <td>1</td>\n",
       "      <td>1</td>\n",
       "      <td>4</td>\n",
       "      <td>100.0</td>\n",
       "      <td>...</td>\n",
       "      <td>0.0</td>\n",
       "      <td>2.0</td>\n",
       "      <td>1.0</td>\n",
       "      <td>NaN</td>\n",
       "      <td>NaN</td>\n",
       "      <td>NaN</td>\n",
       "      <td>MZ</td>\n",
       "      <td>0</td>\n",
       "      <td>151</td>\n",
       "      <td>2.682427</td>\n",
       "    </tr>\n",
       "    <tr>\n",
       "      <th>2</th>\n",
       "      <td>100408</td>\n",
       "      <td>Q3</td>\n",
       "      <td>Q03</td>\n",
       "      <td>M</td>\n",
       "      <td>31-35</td>\n",
       "      <td>True</td>\n",
       "      <td>1</td>\n",
       "      <td>1</td>\n",
       "      <td>4</td>\n",
       "      <td>100.0</td>\n",
       "      <td>...</td>\n",
       "      <td>1.0</td>\n",
       "      <td>2.0</td>\n",
       "      <td>4.0</td>\n",
       "      <td>NaN</td>\n",
       "      <td>NaN</td>\n",
       "      <td>NaN</td>\n",
       "      <td>MZ</td>\n",
       "      <td>0</td>\n",
       "      <td>39</td>\n",
       "      <td>2.534514</td>\n",
       "    </tr>\n",
       "    <tr>\n",
       "      <th>3</th>\n",
       "      <td>100610</td>\n",
       "      <td>S900</td>\n",
       "      <td>Q08</td>\n",
       "      <td>M</td>\n",
       "      <td>26-30</td>\n",
       "      <td>True</td>\n",
       "      <td>2</td>\n",
       "      <td>1</td>\n",
       "      <td>4</td>\n",
       "      <td>100.0</td>\n",
       "      <td>...</td>\n",
       "      <td>0.0</td>\n",
       "      <td>NaN</td>\n",
       "      <td>0.0</td>\n",
       "      <td>NaN</td>\n",
       "      <td>NaN</td>\n",
       "      <td>NaN</td>\n",
       "      <td>DZ</td>\n",
       "      <td>1</td>\n",
       "      <td>8</td>\n",
       "      <td>2.623609</td>\n",
       "    </tr>\n",
       "    <tr>\n",
       "      <th>4</th>\n",
       "      <td>101006</td>\n",
       "      <td>S500</td>\n",
       "      <td>Q06</td>\n",
       "      <td>F</td>\n",
       "      <td>31-35</td>\n",
       "      <td>True</td>\n",
       "      <td>2</td>\n",
       "      <td>2</td>\n",
       "      <td>4</td>\n",
       "      <td>100.0</td>\n",
       "      <td>...</td>\n",
       "      <td>0.0</td>\n",
       "      <td>2.0</td>\n",
       "      <td>5.0</td>\n",
       "      <td>NaN</td>\n",
       "      <td>NaN</td>\n",
       "      <td>NaN</td>\n",
       "      <td>MZ</td>\n",
       "      <td>0</td>\n",
       "      <td>1</td>\n",
       "      <td>2.542655</td>\n",
       "    </tr>\n",
       "    <tr>\n",
       "      <th>...</th>\n",
       "      <td>...</td>\n",
       "      <td>...</td>\n",
       "      <td>...</td>\n",
       "      <td>...</td>\n",
       "      <td>...</td>\n",
       "      <td>...</td>\n",
       "      <td>...</td>\n",
       "      <td>...</td>\n",
       "      <td>...</td>\n",
       "      <td>...</td>\n",
       "      <td>...</td>\n",
       "      <td>...</td>\n",
       "      <td>...</td>\n",
       "      <td>...</td>\n",
       "      <td>...</td>\n",
       "      <td>...</td>\n",
       "      <td>...</td>\n",
       "      <td>...</td>\n",
       "      <td>...</td>\n",
       "      <td>...</td>\n",
       "      <td>...</td>\n",
       "    </tr>\n",
       "    <tr>\n",
       "      <th>1009</th>\n",
       "      <td>992673</td>\n",
       "      <td>S900</td>\n",
       "      <td>Q12</td>\n",
       "      <td>F</td>\n",
       "      <td>31-35</td>\n",
       "      <td>True</td>\n",
       "      <td>1</td>\n",
       "      <td>2</td>\n",
       "      <td>4</td>\n",
       "      <td>100.0</td>\n",
       "      <td>...</td>\n",
       "      <td>0.0</td>\n",
       "      <td>NaN</td>\n",
       "      <td>0.0</td>\n",
       "      <td>NaN</td>\n",
       "      <td>NaN</td>\n",
       "      <td>NaN</td>\n",
       "      <td>sibling</td>\n",
       "      <td>2</td>\n",
       "      <td>346</td>\n",
       "      <td>2.582893</td>\n",
       "    </tr>\n",
       "    <tr>\n",
       "      <th>1010</th>\n",
       "      <td>992774</td>\n",
       "      <td>Q2</td>\n",
       "      <td>Q02</td>\n",
       "      <td>M</td>\n",
       "      <td>31-35</td>\n",
       "      <td>True</td>\n",
       "      <td>2</td>\n",
       "      <td>2</td>\n",
       "      <td>4</td>\n",
       "      <td>100.0</td>\n",
       "      <td>...</td>\n",
       "      <td>0.0</td>\n",
       "      <td>3.0</td>\n",
       "      <td>2.0</td>\n",
       "      <td>NaN</td>\n",
       "      <td>NaN</td>\n",
       "      <td>NaN</td>\n",
       "      <td>sibling</td>\n",
       "      <td>2</td>\n",
       "      <td>277</td>\n",
       "      <td>2.616927</td>\n",
       "    </tr>\n",
       "    <tr>\n",
       "      <th>1011</th>\n",
       "      <td>993675</td>\n",
       "      <td>S900</td>\n",
       "      <td>Q09</td>\n",
       "      <td>F</td>\n",
       "      <td>26-30</td>\n",
       "      <td>True</td>\n",
       "      <td>2</td>\n",
       "      <td>2</td>\n",
       "      <td>4</td>\n",
       "      <td>100.0</td>\n",
       "      <td>...</td>\n",
       "      <td>0.0</td>\n",
       "      <td>NaN</td>\n",
       "      <td>0.0</td>\n",
       "      <td>NaN</td>\n",
       "      <td>NaN</td>\n",
       "      <td>NaN</td>\n",
       "      <td>sibling</td>\n",
       "      <td>2</td>\n",
       "      <td>347</td>\n",
       "      <td>2.635552</td>\n",
       "    </tr>\n",
       "    <tr>\n",
       "      <th>1012</th>\n",
       "      <td>994273</td>\n",
       "      <td>S500</td>\n",
       "      <td>Q06</td>\n",
       "      <td>M</td>\n",
       "      <td>26-30</td>\n",
       "      <td>True</td>\n",
       "      <td>1</td>\n",
       "      <td>1</td>\n",
       "      <td>4</td>\n",
       "      <td>100.0</td>\n",
       "      <td>...</td>\n",
       "      <td>1.0</td>\n",
       "      <td>2.0</td>\n",
       "      <td>5.0</td>\n",
       "      <td>NaN</td>\n",
       "      <td>NaN</td>\n",
       "      <td>NaN</td>\n",
       "      <td>sibling</td>\n",
       "      <td>2</td>\n",
       "      <td>202</td>\n",
       "      <td>2.677629</td>\n",
       "    </tr>\n",
       "    <tr>\n",
       "      <th>1013</th>\n",
       "      <td>996782</td>\n",
       "      <td>S900</td>\n",
       "      <td>Q08</td>\n",
       "      <td>F</td>\n",
       "      <td>26-30</td>\n",
       "      <td>True</td>\n",
       "      <td>2</td>\n",
       "      <td>2</td>\n",
       "      <td>4</td>\n",
       "      <td>100.0</td>\n",
       "      <td>...</td>\n",
       "      <td>0.0</td>\n",
       "      <td>3.0</td>\n",
       "      <td>3.0</td>\n",
       "      <td>NaN</td>\n",
       "      <td>NaN</td>\n",
       "      <td>NaN</td>\n",
       "      <td>DZ</td>\n",
       "      <td>1</td>\n",
       "      <td>323</td>\n",
       "      <td>2.546173</td>\n",
       "    </tr>\n",
       "  </tbody>\n",
       "</table>\n",
       "<p>1014 rows × 790 columns</p>\n",
       "</div>"
      ],
      "text/plain": [
       "      Subject Release Acquisition Gender    Age  3T_Full_MR_Compl  T1_Count  \\\n",
       "0      100206    S900         Q11      M  26-30              True         1   \n",
       "1      100307      Q1         Q01      F  26-30              True         1   \n",
       "2      100408      Q3         Q03      M  31-35              True         1   \n",
       "3      100610    S900         Q08      M  26-30              True         2   \n",
       "4      101006    S500         Q06      F  31-35              True         2   \n",
       "...       ...     ...         ...    ...    ...               ...       ...   \n",
       "1009   992673    S900         Q12      F  31-35              True         1   \n",
       "1010   992774      Q2         Q02      M  31-35              True         2   \n",
       "1011   993675    S900         Q09      F  26-30              True         2   \n",
       "1012   994273    S500         Q06      M  26-30              True         1   \n",
       "1013   996782    S900         Q08      F  26-30              True         2   \n",
       "\n",
       "      T2_Count  3T_RS-fMRI_Count  3T_RS-fMRI_PctCompl  ...  SSAGA_Mj_Ab_Dep  \\\n",
       "0            1                 4                100.0  ...              0.0   \n",
       "1            1                 4                100.0  ...              0.0   \n",
       "2            1                 4                100.0  ...              1.0   \n",
       "3            1                 4                100.0  ...              0.0   \n",
       "4            2                 4                100.0  ...              0.0   \n",
       "...        ...               ...                  ...  ...              ...   \n",
       "1009         2                 4                100.0  ...              0.0   \n",
       "1010         2                 4                100.0  ...              0.0   \n",
       "1011         2                 4                100.0  ...              0.0   \n",
       "1012         1                 4                100.0  ...              1.0   \n",
       "1013         2                 4                100.0  ...              0.0   \n",
       "\n",
       "      SSAGA_Mj_Age_1st_Use  SSAGA_Mj_Times_Used  Unnamed: 201  Unnamed: 202  \\\n",
       "0                      NaN                  0.0           NaN           NaN   \n",
       "1                      2.0                  1.0           NaN           NaN   \n",
       "2                      2.0                  4.0           NaN           NaN   \n",
       "3                      NaN                  0.0           NaN           NaN   \n",
       "4                      2.0                  5.0           NaN           NaN   \n",
       "...                    ...                  ...           ...           ...   \n",
       "1009                   NaN                  0.0           NaN           NaN   \n",
       "1010                   3.0                  2.0           NaN           NaN   \n",
       "1011                   NaN                  0.0           NaN           NaN   \n",
       "1012                   2.0                  5.0           NaN           NaN   \n",
       "1013                   3.0                  3.0           NaN           NaN   \n",
       "\n",
       "      Unnamed: 203  TwinStatus  TwinStatus_num  Family_ID_num  global_ct  \n",
       "0              NaN     sibling               2            118   2.583466  \n",
       "1              NaN          MZ               0            151   2.682427  \n",
       "2              NaN          MZ               0             39   2.534514  \n",
       "3              NaN          DZ               1              8   2.623609  \n",
       "4              NaN          MZ               0              1   2.542655  \n",
       "...            ...         ...             ...            ...        ...  \n",
       "1009           NaN     sibling               2            346   2.582893  \n",
       "1010           NaN     sibling               2            277   2.616927  \n",
       "1011           NaN     sibling               2            347   2.635552  \n",
       "1012           NaN     sibling               2            202   2.677629  \n",
       "1013           NaN          DZ               1            323   2.546173  \n",
       "\n",
       "[1014 rows x 790 columns]"
      ]
     },
     "execution_count": 5,
     "metadata": {},
     "output_type": "execute_result"
    }
   ],
   "source": [
    "HCP_demographics_cleaned"
   ]
  },
  {
   "cell_type": "markdown",
   "id": "f8f8b516-d12c-4c1c-bcb8-8a7b4df1c9ea",
   "metadata": {
    "jp-MarkdownHeadingCollapsed": true,
    "tags": []
   },
   "source": [
    "## Microstructural data "
   ]
  },
  {
   "cell_type": "markdown",
   "id": "cd8b270c-826b-46a1-a226-5601f1ec2823",
   "metadata": {},
   "source": [
    "MPC-fc-schaefer400.mat file taken from /data/pt_02319/schaare/data/HCP_fromSofie/ - contains connectivity matrices for:\n",
    "\n",
    "- MPCnx : 1206, 400, 400  # MPC\n",
    "- matrix_hcp400z : 1206, 400, 400  # fc z-scored"
   ]
  },
  {
   "cell_type": "code",
   "execution_count": 6,
   "id": "91a9f414-05c2-46e5-9551-29e9d546dd65",
   "metadata": {},
   "outputs": [
    {
     "data": {
      "text/plain": [
       "[('MPCnx', (1206, 400, 400), 'double'),\n",
       " ('matrix_hcp400z', (1206, 400, 400), 'double')]"
      ]
     },
     "execution_count": 6,
     "metadata": {},
     "output_type": "execute_result"
    }
   ],
   "source": [
    "scipy.io.whosmat(datadir + 'HCP_microstructure/MPC-fc-schaefer400.mat')"
   ]
  },
  {
   "cell_type": "code",
   "execution_count": 7,
   "id": "ab3b53f7-48ca-48ed-9c4a-d7192b064c7f",
   "metadata": {},
   "outputs": [],
   "source": [
    "# taking the MPC matrices from the mat file\n",
    "MPC_matrices = scipy.io.loadmat(datadir + 'HCP_microstructure/MPC-fc-schaefer400.mat')['MPCnx']"
   ]
  },
  {
   "cell_type": "code",
   "execution_count": 8,
   "id": "e2620762-427e-4371-b7c8-f02228996233",
   "metadata": {},
   "outputs": [
    {
     "data": {
      "text/plain": [
       "(1206, 400, 400)"
      ]
     },
     "execution_count": 8,
     "metadata": {},
     "output_type": "execute_result"
    }
   ],
   "source": [
    "MPC_matrices.shape"
   ]
  },
  {
   "cell_type": "code",
   "execution_count": 9,
   "id": "e989840e-2b4b-425d-9000-d16dcb1b019d",
   "metadata": {},
   "outputs": [],
   "source": [
    "mean_MPC_matrix = sum(MPC_matrices)/len(MPC_matrices)"
   ]
  },
  {
   "cell_type": "code",
   "execution_count": 10,
   "id": "261e9b06-17d8-4f36-a94d-5742bf6d0070",
   "metadata": {},
   "outputs": [
    {
     "data": {
      "image/png": "[encoded data removed]",
      "text/plain": [
       "<Figure size 432x288 with 2 Axes>"
      ]
     },
     "metadata": {
      "needs_background": "light"
     },
     "output_type": "display_data"
    }
   ],
   "source": [
    "plt.imshow(mean_MPC_matrix)\n",
    "plt.colorbar()\n",
    "plt.show()"
   ]
  },
  {
   "cell_type": "markdown",
   "id": "bf54f5be-f00b-46bf-9d71-b7c37c64973c",
   "metadata": {},
   "source": [
    "### Remove subjects with missing MPC matrices from structural analysis -> obtain a list of subjects with MPC matrices"
   ]
  },
  {
   "cell_type": "markdown",
   "id": "6652dfef-4c09-4c47-ba0a-7852f08acf82",
   "metadata": {},
   "source": [
    "#### check whether there are MPC matrices missing for some subjects"
   ]
  },
  {
   "cell_type": "markdown",
   "id": "bbd36ba5-e945-4f9f-8d07-dc9044225670",
   "metadata": {},
   "source": [
    "Checking for NaNs -> none"
   ]
  },
  {
   "cell_type": "code",
   "execution_count": 11,
   "id": "88385bb4-5ea6-46cb-8b19-ae57239e7aac",
   "metadata": {},
   "outputs": [
    {
     "data": {
      "text/plain": [
       "array([], shape=(0, 3), dtype=int64)"
      ]
     },
     "execution_count": 11,
     "metadata": {},
     "output_type": "execute_result"
    }
   ],
   "source": [
    "np.argwhere(np.isnan(MPC_matrices))"
   ]
  },
  {
   "cell_type": "markdown",
   "id": "0f66b816-4650-44e3-8647-e2c32c425f78",
   "metadata": {},
   "source": [
    "Checking for matrices that have a sum of 0 (meaning only zeroes) -> there are 113"
   ]
  },
  {
   "cell_type": "code",
   "execution_count": 12,
   "id": "d5982c10-0039-42b4-9734-bf3469fe79dd",
   "metadata": {},
   "outputs": [],
   "source": [
    "indices_noMPC = []\n",
    "\n",
    "for i in range(len(MPC_matrices)):\n",
    "    if np.sum(MPC_matrices[i]) == 0.0:\n",
    "        indices_noMPC.append(i)        "
   ]
  },
  {
   "cell_type": "code",
   "execution_count": 13,
   "id": "d6edb92d-bb06-4bc1-93f9-cdca55ba8dc4",
   "metadata": {},
   "outputs": [
    {
     "data": {
      "text/plain": [
       "113"
      ]
     },
     "execution_count": 13,
     "metadata": {},
     "output_type": "execute_result"
    }
   ],
   "source": [
    "len(indices_noMPC)"
   ]
  },
  {
   "cell_type": "code",
   "execution_count": 14,
   "id": "2397542d-e1fc-4f7a-a4c3-56f917147151",
   "metadata": {
    "scrolled": true,
    "tags": []
   },
   "outputs": [
    {
     "data": {
      "text/plain": [
       "[0,\n",
       " 7,\n",
       " 10,\n",
       " 26,\n",
       " 35,\n",
       " 40,\n",
       " 44,\n",
       " 50,\n",
       " 89,\n",
       " 115,\n",
       " 124,\n",
       " 134,\n",
       " 180,\n",
       " 182,\n",
       " 184,\n",
       " 196,\n",
       " 203,\n",
       " 204,\n",
       " 227,\n",
       " 232,\n",
       " 264,\n",
       " 272,\n",
       " 292,\n",
       " 317,\n",
       " 345,\n",
       " 413,\n",
       " 431,\n",
       " 453,\n",
       " 462,\n",
       " 472,\n",
       " 479,\n",
       " 483,\n",
       " 488,\n",
       " 506,\n",
       " 514,\n",
       " 522,\n",
       " 533,\n",
       " 542,\n",
       " 556,\n",
       " 567,\n",
       " 581,\n",
       " 586,\n",
       " 596,\n",
       " 606,\n",
       " 608,\n",
       " 612,\n",
       " 620,\n",
       " 630,\n",
       " 633,\n",
       " 653,\n",
       " 692,\n",
       " 708,\n",
       " 710,\n",
       " 721,\n",
       " 722,\n",
       " 737,\n",
       " 739,\n",
       " 749,\n",
       " 750,\n",
       " 769,\n",
       " 771,\n",
       " 785,\n",
       " 790,\n",
       " 797,\n",
       " 811,\n",
       " 817,\n",
       " 824,\n",
       " 844,\n",
       " 852,\n",
       " 854,\n",
       " 871,\n",
       " 878,\n",
       " 881,\n",
       " 887,\n",
       " 889,\n",
       " 929,\n",
       " 938,\n",
       " 939,\n",
       " 940,\n",
       " 949,\n",
       " 979,\n",
       " 982,\n",
       " 990,\n",
       " 993,\n",
       " 998,\n",
       " 1013,\n",
       " 1017,\n",
       " 1019,\n",
       " 1023,\n",
       " 1025,\n",
       " 1026,\n",
       " 1032,\n",
       " 1043,\n",
       " 1051,\n",
       " 1055,\n",
       " 1068,\n",
       " 1075,\n",
       " 1080,\n",
       " 1082,\n",
       " 1094,\n",
       " 1103,\n",
       " 1114,\n",
       " 1119,\n",
       " 1122,\n",
       " 1128,\n",
       " 1154,\n",
       " 1155,\n",
       " 1158,\n",
       " 1169,\n",
       " 1172,\n",
       " 1176,\n",
       " 1180,\n",
       " 1189]"
      ]
     },
     "execution_count": 14,
     "metadata": {},
     "output_type": "execute_result"
    }
   ],
   "source": [
    "indices_noMPC"
   ]
  },
  {
   "cell_type": "markdown",
   "id": "90378329-58ac-4487-a10a-c9dbcf0ddda1",
   "metadata": {},
   "source": [
    "#### Deleting the subjects that do not have MPC matrices"
   ]
  },
  {
   "cell_type": "code",
   "execution_count": 15,
   "id": "3b64d281-527a-48f1-b8b1-e121db5c926d",
   "metadata": {},
   "outputs": [
    {
     "data": {
      "text/plain": [
       "(1093, 400, 400)"
      ]
     },
     "execution_count": 15,
     "metadata": {},
     "output_type": "execute_result"
    }
   ],
   "source": [
    "MPC_matrices = np.delete(MPC_matrices, indices_noMPC, axis=0)\n",
    "MPC_matrices.shape"
   ]
  },
  {
   "cell_type": "markdown",
   "id": "43e439eb-4cbc-4da7-bfe0-cd01357b0d23",
   "metadata": {},
   "source": [
    "#### Making a new subject lists for subjects that have MPC data (as well as fc data)"
   ]
  },
  {
   "cell_type": "markdown",
   "id": "5a84c977-bb23-48cc-af6b-6c103d832869",
   "metadata": {},
   "source": [
    "Retrieving one of the original (restricted) demographics dataframe because we need it to be able to index out from this original subject list (correct order) the subjects that do not have MPC data"
   ]
  },
  {
   "cell_type": "code",
   "execution_count": 16,
   "id": "9477418b-deca-49f6-a05e-054beb3a0500",
   "metadata": {},
   "outputs": [
    {
     "name": "stdout",
     "output_type": "stream",
     "text": [
      "Total Sample: N = 1206\n"
     ]
    }
   ],
   "source": [
    "restricted_data = pd.read_csv(datadir+'RESTRICTED_wanb_9_29_2020_2_14_36.csv')\n",
    "print(f'Total Sample: N = {len(restricted_data)}')"
   ]
  },
  {
   "cell_type": "markdown",
   "id": "b0b9e9d4-03f2-436d-be90-98df731fefa2",
   "metadata": {},
   "source": [
    "Creating a subjet list for MPC by removing from the original subject list the subjects that do not have MPC data "
   ]
  },
  {
   "cell_type": "code",
   "execution_count": 17,
   "id": "d724cb1e-5ec1-4312-9182-2f31506d852b",
   "metadata": {},
   "outputs": [],
   "source": [
    "HCP_sub_list_MPC = np.array(restricted_data.Subject)\n",
    "\n",
    "HCP_sub_list_MPC = np.delete(HCP_sub_list_MPC, indices_noMPC, axis=0)"
   ]
  },
  {
   "cell_type": "code",
   "execution_count": 18,
   "id": "4bb6395d-4439-4a57-88e7-938954c1831c",
   "metadata": {},
   "outputs": [
    {
     "data": {
      "text/plain": [
       "1093"
      ]
     },
     "execution_count": 18,
     "metadata": {},
     "output_type": "execute_result"
    }
   ],
   "source": [
    "len(HCP_sub_list_MPC)"
   ]
  },
  {
   "cell_type": "markdown",
   "id": "1687c88f-59a4-4af1-ab0d-35d20596f1ee",
   "metadata": {},
   "source": [
    "Exporting MPC subject list"
   ]
  },
  {
   "cell_type": "code",
   "execution_count": 19,
   "id": "27699fc3-0d3d-4042-8ccb-eda0bc966ba8",
   "metadata": {},
   "outputs": [],
   "source": [
    "np.savetxt(datadir+'HCP_sub_list_MPC.csv', \n",
    "           HCP_sub_list_MPC,\n",
    "           delimiter =\",\", \n",
    "           fmt ='% s')"
   ]
  },
  {
   "cell_type": "markdown",
   "id": "46faa7f5-02a3-4de9-8d3b-97c2a4cb7088",
   "metadata": {},
   "source": [
    "Exporting MPC matrices as mat file"
   ]
  },
  {
   "cell_type": "code",
   "execution_count": 20,
   "id": "fa071d60-63c1-4110-a38c-f26d57a4e53e",
   "metadata": {},
   "outputs": [],
   "source": [
    "mdict = {'MPC_matrices': MPC_matrices, 'HCP_sub_list_MPC': HCP_sub_list_MPC}\n",
    "\n",
    "scipy.io.savemat(datadir+'HCP_microstructure/MPC_matrices_no_missing.mat', mdict)"
   ]
  },
  {
   "cell_type": "markdown",
   "id": "8492fa05-f73d-4090-acda-49c422e03fef",
   "metadata": {},
   "source": [
    "#\n",
    "#\n",
    "#\n",
    "#\n",
    "# Supplement: Check field bias T1w/T2w (MPI) and MPC"
   ]
  },
  {
   "cell_type": "markdown",
   "id": "591f5ad2-40a9-4d1a-9aa4-7c35d482a14f",
   "metadata": {},
   "source": [
    "## Making subset demographics dataframes for males and females"
   ]
  },
  {
   "cell_type": "code",
   "execution_count": 21,
   "id": "4d11fb6a-437f-4cde-8d18-1189755d4a0e",
   "metadata": {},
   "outputs": [],
   "source": [
    "HCP_demographics_cleaned_final = pd.read_csv(resdir_hcp+'demographics_cleaned_final.csv')"
   ]
  },
  {
   "cell_type": "code",
   "execution_count": 22,
   "id": "b80bad9d-5632-40f6-8145-f47b315dfdc7",
   "metadata": {},
   "outputs": [],
   "source": [
    "HCP_demographics_cleaned_M = HCP_demographics_cleaned_final[HCP_demographics_cleaned_final[\"Gender\"] == 'M']\n",
    "HCP_demographics_cleaned_F = HCP_demographics_cleaned_final[HCP_demographics_cleaned_final[\"Gender\"] == 'F']"
   ]
  },
  {
   "cell_type": "markdown",
   "id": "dfb8c685-f4df-437a-81f9-39acecd5242c",
   "metadata": {},
   "source": [
    "## Loading MPC hemi data and making separate dataframes for male and female"
   ]
  },
  {
   "cell_type": "code",
   "execution_count": 23,
   "id": "93368b60-420c-482e-b232-f96bd3a06ee9",
   "metadata": {},
   "outputs": [],
   "source": [
    "hemi_array_aligned_MPC_G1 = np.genfromtxt(resdir_hcp+'SA/hemi_array_aligned_MPC_G1.csv', delimiter=',')[1:,]"
   ]
  },
  {
   "cell_type": "code",
   "execution_count": 24,
   "id": "1a320f88-3179-4e0b-9617-b1d0c481398e",
   "metadata": {},
   "outputs": [
    {
     "data": {
      "text/plain": [
       "(1000, 400)"
      ]
     },
     "execution_count": 24,
     "metadata": {},
     "output_type": "execute_result"
    }
   ],
   "source": [
    "hemi_array_aligned_MPC_G1.shape"
   ]
  },
  {
   "cell_type": "code",
   "execution_count": 25,
   "id": "5d45dabd-9d44-4e26-bfbe-33a9d54f18dc",
   "metadata": {},
   "outputs": [],
   "source": [
    "# creating lists containing only male and only female fc matrices\n",
    "hemi_array_aligned_MPC_G1_M = []\n",
    "hemi_array_aligned_MPC_G1_F = []\n",
    "\n",
    "\n",
    "for i in range(len(hemi_array_aligned_MPC_G1)):\n",
    "    if HCP_demographics_cleaned_final.Gender.iloc[i] == \"M\":\n",
    "        hemi_array_aligned_MPC_G1_M.append(hemi_array_aligned_MPC_G1[i])\n",
    "    elif HCP_demographics_cleaned_final.Gender.iloc[i] == \"F\":\n",
    "        hemi_array_aligned_MPC_G1_F.append(hemi_array_aligned_MPC_G1[i])\n",
    "        \n",
    "hemi_array_aligned_MPC_G1_M = np.array(hemi_array_aligned_MPC_G1_M)\n",
    "hemi_array_aligned_MPC_G1_F = np.array(hemi_array_aligned_MPC_G1_F)"
   ]
  },
  {
   "cell_type": "markdown",
   "id": "3464f8e4-d5cf-4c45-910b-dd1ffc88d8d3",
   "metadata": {},
   "source": [
    "## BMI data"
   ]
  },
  {
   "cell_type": "markdown",
   "id": "cb425f29-2cec-4d54-851d-42d403e35a5a",
   "metadata": {},
   "source": [
    "### Checking for NaNs in BMI data"
   ]
  },
  {
   "cell_type": "code",
   "execution_count": 26,
   "id": "1e3e2dc6-0ee6-4c51-9881-cbfc6b687859",
   "metadata": {},
   "outputs": [
    {
     "data": {
      "text/plain": [
       "array([[458]])"
      ]
     },
     "execution_count": 26,
     "metadata": {},
     "output_type": "execute_result"
    }
   ],
   "source": [
    "np.argwhere(np.isnan(np.array(HCP_demographics_cleaned_final.BMI)))"
   ]
  },
  {
   "cell_type": "markdown",
   "id": "2858d315-36dd-4df5-94ac-d9ae9bf33b55",
   "metadata": {
    "tags": []
   },
   "source": [
    "#### Same for subset M & F"
   ]
  },
  {
   "cell_type": "code",
   "execution_count": 27,
   "id": "4e2c0d3e-ce94-42e9-a9b6-3717ab276edd",
   "metadata": {},
   "outputs": [
    {
     "data": {
      "text/plain": [
       "array([], shape=(0, 1), dtype=int64)"
      ]
     },
     "execution_count": 27,
     "metadata": {},
     "output_type": "execute_result"
    }
   ],
   "source": [
    "np.argwhere(np.isnan(np.array(HCP_demographics_cleaned_M.BMI)))"
   ]
  },
  {
   "cell_type": "code",
   "execution_count": 28,
   "id": "d91867f4-6ba6-4c66-ad37-c055347abbb2",
   "metadata": {},
   "outputs": [
    {
     "data": {
      "text/plain": [
       "array([[252]])"
      ]
     },
     "execution_count": 28,
     "metadata": {},
     "output_type": "execute_result"
    }
   ],
   "source": [
    "np.argwhere(np.isnan(np.array(HCP_demographics_cleaned_F.BMI)))"
   ]
  },
  {
   "cell_type": "markdown",
   "id": "8f0a3c0e-fc1e-45be-a420-f6c1f48aa2b2",
   "metadata": {},
   "source": [
    "## Cleaning BMI data (and removing corresponding subject's MPC G1 values)"
   ]
  },
  {
   "cell_type": "code",
   "execution_count": 29,
   "id": "fe0fcb32-dbc6-400b-acf0-82c1e7d225e2",
   "metadata": {},
   "outputs": [],
   "source": [
    "HCP_BMI_rm_faulty = np.delete(np.array(HCP_demographics_cleaned_final.BMI), [458], axis=0)\n",
    "hemi_array_aligned_MPC_G1_rm_faulty_BMI = np.delete(hemi_array_aligned_MPC_G1, [458], axis=0)"
   ]
  },
  {
   "cell_type": "code",
   "execution_count": 30,
   "id": "8892623d-1052-42a0-b2a6-7d37c4f7f0e1",
   "metadata": {},
   "outputs": [],
   "source": [
    "HCP_BMI_rm_faulty_F = np.delete(np.array(HCP_demographics_cleaned_F.BMI), [252], axis=0)\n",
    "hemi_array_aligned_MPC_G1_rm_faulty_BMI_F = np.delete(hemi_array_aligned_MPC_G1_F, [252], axis=0)"
   ]
  },
  {
   "cell_type": "markdown",
   "id": "d5086758-a95e-45c3-b392-5ecf56f36052",
   "metadata": {},
   "source": [
    "## Microstructural intensity profile data -> mean MPI (should have bias according to Glasser et al. 2022)"
   ]
  },
  {
   "cell_type": "markdown",
   "id": "8c447ad2-84d9-4c11-885f-db9c68cbd788",
   "metadata": {},
   "source": [
    "### Downloading data"
   ]
  },
  {
   "cell_type": "code",
   "execution_count": 31,
   "id": "8e388764-13ae-4cb4-bfe1-aeff1bb29786",
   "metadata": {},
   "outputs": [
    {
     "data": {
      "text/plain": [
       "[('MPC_layers', (1206, 12, 400), 'double')]"
      ]
     },
     "execution_count": 31,
     "metadata": {},
     "output_type": "execute_result"
    }
   ],
   "source": [
    "scipy.io.whosmat(datadir + 'HCP_microstructure/MPC_layers.mat')"
   ]
  },
  {
   "cell_type": "code",
   "execution_count": 32,
   "id": "2d2f932a-2371-4acc-ac25-f2f9de1d4088",
   "metadata": {},
   "outputs": [],
   "source": [
    "# taking the MPC matrices from the mat file\n",
    "MPI_matrices = scipy.io.loadmat(datadir + 'HCP_microstructure/MPC_layers.mat')['MPC_layers']"
   ]
  },
  {
   "cell_type": "code",
   "execution_count": 33,
   "id": "348b25ef-76f9-4eda-8f83-424c35173798",
   "metadata": {},
   "outputs": [
    {
     "data": {
      "text/plain": [
       "(1206, 12, 400)"
      ]
     },
     "execution_count": 33,
     "metadata": {},
     "output_type": "execute_result"
    }
   ],
   "source": [
    "MPI_matrices.shape"
   ]
  },
  {
   "cell_type": "markdown",
   "id": "8e86b4d7-f297-44e4-a215-5883cafc66b1",
   "metadata": {},
   "source": [
    "### Computing mean MPI across layers"
   ]
  },
  {
   "cell_type": "code",
   "execution_count": 34,
   "id": "28cf2ddf-d901-4c57-9772-342452978f68",
   "metadata": {},
   "outputs": [],
   "source": [
    "mean_MPI = []\n",
    "\n",
    "# loop over subjects\n",
    "for i in range(len(MPI_matrices)):\n",
    "    \n",
    "    # will contain the mean MPI for each parcel for 1 subject\n",
    "    temp_mean_sub = []\n",
    "    \n",
    "    # loop over parcels\n",
    "    for j in range(400):\n",
    "        \n",
    "        # take the mean of the 12 layers\n",
    "        temp_mean_sub.append(np.mean(MPI_matrices[i].T[j]))\n",
    "    \n",
    "    # append subject's mean MPI values per parcel (len = 400) to global list\n",
    "    mean_MPI.append(temp_mean_sub)\n",
    "        \n",
    "        \n",
    "mean_MPI = np.array(mean_MPI)"
   ]
  },
  {
   "cell_type": "code",
   "execution_count": 35,
   "id": "e7689aff-af3b-41ba-b4ec-e6163be1740e",
   "metadata": {},
   "outputs": [
    {
     "data": {
      "text/plain": [
       "(1206, 400)"
      ]
     },
     "execution_count": 35,
     "metadata": {},
     "output_type": "execute_result"
    }
   ],
   "source": [
    "mean_MPI.shape"
   ]
  },
  {
   "cell_type": "markdown",
   "id": "f1f4c6e2-1395-4219-af1b-4c510517cd0c",
   "metadata": {},
   "source": [
    "### Getting a subsample of mean MPI data that matches 1000 sample that has MPC matrices"
   ]
  },
  {
   "cell_type": "code",
   "execution_count": 36,
   "id": "a0a2606a-49ed-4034-9d74-61f4f70c431e",
   "metadata": {},
   "outputs": [],
   "source": [
    "list_sub = [str(e) for e in HCP_demographics_cleaned_final.loc[:,'Subject'].tolist()]"
   ]
  },
  {
   "cell_type": "code",
   "execution_count": 37,
   "id": "117db2e5-5309-45ec-b226-b6de702f63cb",
   "metadata": {},
   "outputs": [],
   "source": [
    "### identifying which subjects have missing fc matrices (their indices, given that subject order is preserved across demographics, FC data, CT data)\n",
    "\n",
    "# creating a list -> indices to be removed in structural data\n",
    "indices_missing_mpc = []\n",
    "\n",
    "# to keep track of current iteration number (will be used as reference of index for subjects with missing fc matrices)\n",
    "count_index = 0  \n",
    "\n",
    "# iterating over all 1206 subjects (original sample)\n",
    "for subID in restricted_data.loc[:,'Subject']:\n",
    "    \n",
    "    # if subject ID from the original sample is not in the HCP_sub_list (containing the subject IDs of subjects who have fc matrices), then add the current location of the subject ID in list (index) to the indices_missing_fc list\n",
    "    if str(subID) not in list_sub:\n",
    "        indices_missing_mpc.append(count_index)\n",
    "    \n",
    "    # increment the index count (only at the end of loop so that first index = 0 and can actually be used as an index\n",
    "    count_index += 1\n",
    "\n",
    "### remove subjects (via their indices) who do not have fc matrices\n",
    "mean_MPI = np.delete(mean_MPI, indices_missing_mpc, axis=0)"
   ]
  },
  {
   "cell_type": "code",
   "execution_count": 38,
   "id": "3ee2a6a9-4d59-4a4c-b643-f4dd0cd06447",
   "metadata": {},
   "outputs": [
    {
     "data": {
      "text/plain": [
       "(1000, 400)"
      ]
     },
     "execution_count": 38,
     "metadata": {},
     "output_type": "execute_result"
    }
   ],
   "source": [
    "mean_MPI.shape"
   ]
  },
  {
   "cell_type": "markdown",
   "id": "0ec81911-abf6-4ca5-8e44-3760602a23d6",
   "metadata": {},
   "source": [
    "### Creating male and female subsamples of mean MPI data"
   ]
  },
  {
   "cell_type": "code",
   "execution_count": 39,
   "id": "6fa24197-2015-4005-a94e-14ea91d20291",
   "metadata": {},
   "outputs": [],
   "source": [
    "# creating lists containing only male and only female mpc matrices\n",
    "\n",
    "mean_MPI_M = []\n",
    "mean_MPI_F = []\n",
    "\n",
    "for i in range(len(mean_MPI)):\n",
    "    if HCP_demographics_cleaned_final.Gender.iloc[i] == \"M\":\n",
    "        mean_MPI_M.append(mean_MPI[i])\n",
    "    elif HCP_demographics_cleaned_final.Gender.iloc[i] == \"F\":\n",
    "        mean_MPI_F.append(mean_MPI[i])\n",
    "        \n",
    "mean_MPI_M = np.array(mean_MPI_M)\n",
    "mean_MPI_F = np.array(mean_MPI_F)"
   ]
  },
  {
   "cell_type": "markdown",
   "id": "70345d15-0434-4a0e-a4e2-0f1aef25a98b",
   "metadata": {},
   "source": [
    "### Removing mean MPI data for subject with faulty BMI"
   ]
  },
  {
   "cell_type": "code",
   "execution_count": 40,
   "id": "f5d46a9c-6620-43c9-b71b-fe43b837573e",
   "metadata": {},
   "outputs": [],
   "source": [
    "# overall sample\n",
    "mean_MPI_rm_faulty_BMI = np.delete(mean_MPI, [458], axis=0)\n",
    "\n",
    "# female sample\n",
    "mean_MPI_rm_faulty_BMI_F = np.delete(mean_MPI_F, [252], axis=0)"
   ]
  },
  {
   "cell_type": "code",
   "execution_count": 41,
   "id": "79b0850b-3212-46f4-b814-2a5d69316f72",
   "metadata": {},
   "outputs": [
    {
     "data": {
      "text/plain": [
       "(999, 400)"
      ]
     },
     "execution_count": 41,
     "metadata": {},
     "output_type": "execute_result"
    }
   ],
   "source": [
    "mean_MPI_rm_faulty_BMI.shape"
   ]
  },
  {
   "cell_type": "markdown",
   "id": "e66cdc8d-95aa-4d72-b68b-b276d097d394",
   "metadata": {},
   "source": [
    "## Correlation between BMI / ICV and mean MPI values per parcel -> this should show bias according to Glasser et al. 2022"
   ]
  },
  {
   "cell_type": "code",
   "execution_count": 49,
   "id": "c6fb44a5-2e00-4db2-9111-f99831fbacca",
   "metadata": {},
   "outputs": [],
   "source": [
    "r_meanMPI_BMI = []\n",
    "r_meanMPI_BMI_M = []\n",
    "r_meanMPI_BMI_F = []\n",
    "\n",
    "for i in range(400):\n",
    "    r_meanMPI_BMI.append(stats.pearsonr(HCP_BMI_rm_faulty, mean_MPI_rm_faulty_BMI.T[i])[0])\n",
    "    r_meanMPI_BMI_M.append(stats.pearsonr(HCP_demographics_cleaned_M.BMI, mean_MPI_M.T[i])[0])\n",
    "    r_meanMPI_BMI_F.append(stats.pearsonr(HCP_BMI_rm_faulty_F, mean_MPI_rm_faulty_BMI_F.T[i])[0])"
   ]
  },
  {
   "cell_type": "code",
   "execution_count": 50,
   "id": "e7db2096-b3c6-4703-b7f0-9718f23af3a7",
   "metadata": {},
   "outputs": [],
   "source": [
    "r_meanMPI_ICV = []\n",
    "r_meanMPI_ICV_M = []\n",
    "r_meanMPI_ICV_F = []\n",
    "\n",
    "for i in range(400):\n",
    "    r_meanMPI_ICV.append(stats.pearsonr(HCP_demographics_cleaned_final.FS_IntraCranial_Vol, mean_MPI.T[i])[0])\n",
    "    r_meanMPI_ICV_M.append(stats.pearsonr(HCP_demographics_cleaned_M.FS_IntraCranial_Vol, mean_MPI_M.T[i])[0])\n",
    "    r_meanMPI_ICV_F.append(stats.pearsonr(HCP_demographics_cleaned_F.FS_IntraCranial_Vol, mean_MPI_F.T[i])[0])"
   ]
  },
  {
   "cell_type": "markdown",
   "id": "f2390402-451f-4471-9106-71e5f8fd83cb",
   "metadata": {},
   "source": [
    "### Histograms correlation coefficients r(BMI, mean_MPI)"
   ]
  },
  {
   "cell_type": "code",
   "execution_count": 51,
   "id": "907bafd2-fe09-4feb-ba33-6d0401599604",
   "metadata": {},
   "outputs": [
    {
     "data": {
      "text/plain": [
       "(0.0, 0.6)"
      ]
     },
     "execution_count": 51,
     "metadata": {},
     "output_type": "execute_result"
    },
    {
     "data": {
      "image/png": "[encoded data removed]",
      "text/plain": [
       "<Figure size 720x720 with 1 Axes>"
      ]
     },
     "metadata": {
      "needs_background": "light"
     },
     "output_type": "display_data"
    }
   ],
   "source": [
    "plt.hist(r_meanMPI_BMI, bins=50)\n",
    "plt.rcParams[\"figure.figsize\"] = (10,10)\n",
    "plt.xlabel(\"r(BMI, mean MPI)\", size = 20)\n",
    "plt.ylabel(\"counts\", size = 20)\n",
    "plt.xticks(fontsize=20)\n",
    "plt.yticks(fontsize=20)\n",
    "plt.xlim([0, 0.6])\n",
    "\n",
    "#plt.savefig(resdir_fig+'t1wt2w_field_bias_check_hist_corr_BMI_meanMPI.png', dpi=300)"
   ]
  },
  {
   "cell_type": "code",
   "execution_count": 52,
   "id": "c9f57249-4c66-40cd-949a-4a2c8ea6d15d",
   "metadata": {},
   "outputs": [
    {
     "data": {
      "image/png": "[encoded data removed]",
      "text/plain": [
       "<Figure size 720x720 with 1 Axes>"
      ]
     },
     "metadata": {
      "needs_background": "light"
     },
     "output_type": "display_data"
    }
   ],
   "source": [
    "bins = np.linspace(-10, 10, 100)\n",
    "\n",
    "plt.hist(r_meanMPI_BMI_M, bins = 50, alpha=0.5, color = 'royalblue', label = 'males')\n",
    "plt.hist(r_meanMPI_BMI_F, bins = 50, alpha=0.5, color = 'firebrick', label = 'females')\n",
    "plt.rcParams[\"figure.figsize\"] = (10,10)\n",
    "plt.xlabel(\"r(BMI, mean MPI)\", size = 20)\n",
    "plt.ylabel(\"counts\", size = 20)\n",
    "plt.xticks(fontsize=20)\n",
    "plt.yticks(fontsize=20)\n",
    "plt.legend(loc='upper right', fontsize = 20)\n",
    "plt.xlim([0, 0.6])\n",
    "\n",
    "plt.savefig(resdir_fig+'t1wt2w_field_bias_check_hist_corr_BMI_meanMPI_bysex.png', dpi=300)"
   ]
  },
  {
   "cell_type": "markdown",
   "id": "06a65122-c33d-462c-8f5e-8488f37e882d",
   "metadata": {},
   "source": [
    "### Histograms correlation coefficients r(ICV, mean_MPI)"
   ]
  },
  {
   "cell_type": "code",
   "execution_count": 53,
   "id": "f889e71a-93ec-410a-ad26-8f9235f4e86b",
   "metadata": {},
   "outputs": [
    {
     "data": {
      "text/plain": [
       "(array([ 0.,  5., 10., 15., 20., 25., 30., 35.]),\n",
       " [Text(0, 0.0, '0'),\n",
       "  Text(0, 5.0, '5'),\n",
       "  Text(0, 10.0, '10'),\n",
       "  Text(0, 15.0, '15'),\n",
       "  Text(0, 20.0, '20'),\n",
       "  Text(0, 25.0, '25'),\n",
       "  Text(0, 30.0, '30'),\n",
       "  Text(0, 35.0, '35')])"
      ]
     },
     "execution_count": 53,
     "metadata": {},
     "output_type": "execute_result"
    },
    {
     "data": {
      "image/png": "[encoded data removed]",
      "text/plain": [
       "<Figure size 720x720 with 1 Axes>"
      ]
     },
     "metadata": {
      "needs_background": "light"
     },
     "output_type": "display_data"
    }
   ],
   "source": [
    "plt.hist(r_meanMPI_ICV, bins=50)\n",
    "plt.rcParams[\"figure.figsize\"] = (10,10)\n",
    "plt.xlabel(\"r(ICV, mean MPI)\", size = 20)\n",
    "plt.ylabel(\"counts\", size = 20)\n",
    "plt.xticks(fontsize=20)\n",
    "plt.yticks(fontsize=20)\n",
    "#plt.xlim([0, 0.6])\n",
    "\n",
    "#plt.savefig(resdir_fig+'t1wt2w_field_bias_check_hist_corr_ICV_meanMPI.png', dpi=300)"
   ]
  },
  {
   "cell_type": "code",
   "execution_count": 54,
   "id": "0ba78ff6-274b-46ee-af58-477e59478bd0",
   "metadata": {},
   "outputs": [
    {
     "data": {
      "image/png": "[encoded data removed]",
      "text/plain": [
       "<Figure size 720x720 with 1 Axes>"
      ]
     },
     "metadata": {
      "needs_background": "light"
     },
     "output_type": "display_data"
    }
   ],
   "source": [
    "bins = np.linspace(-10, 10, 100)\n",
    "\n",
    "plt.hist(r_meanMPI_ICV_M, bins = 50, alpha=0.5, color = 'royalblue', label = 'males')\n",
    "plt.hist(r_meanMPI_ICV_F, bins = 50, alpha=0.5, color = 'firebrick', label = 'females')\n",
    "plt.rcParams[\"figure.figsize\"] = (10,10)\n",
    "plt.xlabel(\"r(ICV, mean MPI)\", size = 20)\n",
    "plt.ylabel(\"counts\", size = 20)\n",
    "plt.xticks(fontsize=20)\n",
    "plt.yticks(fontsize=20)\n",
    "plt.legend(loc='upper right', fontsize = 20)\n",
    "#plt.xlim([0, 0.6])\n",
    "\n",
    "plt.savefig(resdir_fig+'t1wt2w_field_bias_check_hist_corr_ICV_meanMPI_bysex.png', dpi=300)"
   ]
  },
  {
   "cell_type": "markdown",
   "id": "d64a1599-7c79-4c1c-8a70-d291b978197c",
   "metadata": {},
   "source": [
    "the greater correlations for males simply reflects head size:"
   ]
  },
  {
   "cell_type": "code",
   "execution_count": 55,
   "id": "0980d5bc-cc1b-4e8b-877d-97d66c20fb01",
   "metadata": {},
   "outputs": [
    {
     "data": {
      "text/plain": [
       "<matplotlib.legend.Legend at 0x7fcb46dd1280>"
      ]
     },
     "execution_count": 55,
     "metadata": {},
     "output_type": "execute_result"
    },
    {
     "data": {
      "image/png": "[encoded data removed]",
      "text/plain": [
       "<Figure size 720x720 with 1 Axes>"
      ]
     },
     "metadata": {
      "needs_background": "light"
     },
     "output_type": "display_data"
    }
   ],
   "source": [
    "bins = np.linspace(-10, 10, 100)\n",
    "\n",
    "plt.hist(HCP_demographics_cleaned_M.FS_IntraCranial_Vol, bins = 50, alpha=0.5, color = 'royalblue', label = 'males')\n",
    "plt.hist(HCP_demographics_cleaned_F.FS_IntraCranial_Vol, bins = 50, alpha=0.5, color = 'firebrick', label = 'females')\n",
    "plt.rcParams[\"figure.figsize\"] = (10,10)\n",
    "plt.xlabel(\"r(ICV, mean MPI)\", size = 20)\n",
    "plt.ylabel(\"counts\", size = 20)\n",
    "plt.xticks(fontsize=20)\n",
    "plt.yticks(fontsize=20)\n",
    "plt.legend(loc='upper right', fontsize = 20)\n",
    "#plt.xlim([0, 0.6])"
   ]
  },
  {
   "cell_type": "markdown",
   "id": "3740d4a4-a787-4d38-845d-45e0ecdb28f0",
   "metadata": {},
   "source": [
    "## Correlation between BMI / ICV and MPC G1 values per parcel"
   ]
  },
  {
   "cell_type": "code",
   "execution_count": 56,
   "id": "88dca53b-0fd4-4377-b255-6178cf0bf33d",
   "metadata": {},
   "outputs": [],
   "source": [
    "r_MPC_BMI = []\n",
    "r_MPC_BMI_M = []\n",
    "r_MPC_BMI_F = []\n",
    "\n",
    "for i in range(400):\n",
    "    r_MPC_BMI.append(stats.pearsonr(HCP_BMI_rm_faulty, hemi_array_aligned_MPC_G1_rm_faulty_BMI.T[i])[0])\n",
    "    r_MPC_BMI_M.append(stats.pearsonr(HCP_demographics_cleaned_M.BMI, hemi_array_aligned_MPC_G1_M.T[i])[0])\n",
    "    r_MPC_BMI_F.append(stats.pearsonr(HCP_BMI_rm_faulty_F, hemi_array_aligned_MPC_G1_rm_faulty_BMI_F.T[i])[0])\n"
   ]
  },
  {
   "cell_type": "code",
   "execution_count": 57,
   "id": "8a06b892-eefe-4a1b-b1fc-d6a031a7ebcd",
   "metadata": {},
   "outputs": [],
   "source": [
    "r_MPC_ICV = []\n",
    "r_MPC_ICV_M = []\n",
    "r_MPC_ICV_F = []\n",
    "\n",
    "for i in range(400):\n",
    "    r_MPC_ICV.append(stats.pearsonr(HCP_demographics_cleaned_final.FS_IntraCranial_Vol, hemi_array_aligned_MPC_G1.T[i])[0])\n",
    "    r_MPC_ICV_M.append(stats.pearsonr(HCP_demographics_cleaned_M.FS_IntraCranial_Vol, hemi_array_aligned_MPC_G1_M.T[i])[0])\n",
    "    r_MPC_ICV_F.append(stats.pearsonr(HCP_demographics_cleaned_F.FS_IntraCranial_Vol, hemi_array_aligned_MPC_G1_F.T[i])[0])"
   ]
  },
  {
   "cell_type": "markdown",
   "id": "c0d307b9-e7b2-417b-8e9b-ffaa7d636fcd",
   "metadata": {},
   "source": [
    "### Histograms correlation coefficients r(BMI, MPC_G1)"
   ]
  },
  {
   "cell_type": "code",
   "execution_count": 58,
   "id": "5d412d6a-9571-471d-a327-5b2b00cb9003",
   "metadata": {},
   "outputs": [
    {
     "data": {
      "text/plain": [
       "(array([ 0.,  5., 10., 15., 20., 25., 30.]),\n",
       " [Text(0, 0.0, '0'),\n",
       "  Text(0, 5.0, '5'),\n",
       "  Text(0, 10.0, '10'),\n",
       "  Text(0, 15.0, '15'),\n",
       "  Text(0, 20.0, '20'),\n",
       "  Text(0, 25.0, '25'),\n",
       "  Text(0, 30.0, '30')])"
      ]
     },
     "execution_count": 58,
     "metadata": {},
     "output_type": "execute_result"
    },
    {
     "data": {
      "image/png": "[encoded data removed]",
      "text/plain": [
       "<Figure size 720x720 with 1 Axes>"
      ]
     },
     "metadata": {
      "needs_background": "light"
     },
     "output_type": "display_data"
    }
   ],
   "source": [
    "plt.hist(r_MPC_BMI, bins=50)\n",
    "plt.rcParams[\"figure.figsize\"] = (10,10)\n",
    "plt.xlabel(\"r(BMI, MPC G1)\", size = 20)\n",
    "plt.ylabel(\"counts\", size = 20)\n",
    "plt.xticks(fontsize=20)\n",
    "plt.yticks(fontsize=20)\n",
    "\n",
    "#plt.savefig(resdir_fig+'t1wt2w_field_bias_check_hist_corr_BMI_MPC.png', dpi=300)"
   ]
  },
  {
   "cell_type": "code",
   "execution_count": 59,
   "id": "62b5f903-71cb-42f5-8033-22480fbdfbfd",
   "metadata": {},
   "outputs": [
    {
     "data": {
      "image/png": "[encoded data removed]",
      "text/plain": [
       "<Figure size 720x720 with 1 Axes>"
      ]
     },
     "metadata": {
      "needs_background": "light"
     },
     "output_type": "display_data"
    }
   ],
   "source": [
    "bins = np.linspace(-10, 10, 100)\n",
    "\n",
    "plt.hist(r_MPC_BMI_M, bins = 50, alpha=0.5, color = 'royalblue', label = 'males')\n",
    "plt.hist(r_MPC_BMI_F, bins = 50, alpha=0.5, color = 'firebrick', label = 'females')\n",
    "plt.rcParams[\"figure.figsize\"] = (10,10)\n",
    "plt.xlabel(\"r(BMI, MPC G1)\", size = 20)\n",
    "plt.ylabel(\"counts\", size = 20)\n",
    "plt.xticks(fontsize=20)\n",
    "plt.yticks(fontsize=20)\n",
    "plt.legend(loc='upper right', fontsize = 20)\n",
    "\n",
    "plt.savefig(resdir_fig+'t1wt2w_field_bias_check_hist_corr_BMI_MPC_bysex.png', dpi=300)"
   ]
  },
  {
   "cell_type": "markdown",
   "id": "c2fc82ce-53f7-4d88-836a-c8ffc85650a6",
   "metadata": {},
   "source": [
    "### Histograms correlation coefficients r(ICV, MPC_G1)"
   ]
  },
  {
   "cell_type": "code",
   "execution_count": 60,
   "id": "ae8c6748-a0a8-4e5c-a7a4-d2d631a0c7ef",
   "metadata": {},
   "outputs": [
    {
     "data": {
      "text/plain": [
       "(array([ 0.,  5., 10., 15., 20., 25.]),\n",
       " [Text(0, 0.0, '0'),\n",
       "  Text(0, 5.0, '5'),\n",
       "  Text(0, 10.0, '10'),\n",
       "  Text(0, 15.0, '15'),\n",
       "  Text(0, 20.0, '20'),\n",
       "  Text(0, 25.0, '25')])"
      ]
     },
     "execution_count": 60,
     "metadata": {},
     "output_type": "execute_result"
    },
    {
     "data": {
      "image/png": "[encoded data removed]",
      "text/plain": [
       "<Figure size 720x720 with 1 Axes>"
      ]
     },
     "metadata": {
      "needs_background": "light"
     },
     "output_type": "display_data"
    }
   ],
   "source": [
    "plt.hist(r_MPC_ICV, bins=50)\n",
    "plt.rcParams[\"figure.figsize\"] = (10,10)\n",
    "plt.xlabel(\"r(ICV, MPC G1)\", size = 20)\n",
    "plt.ylabel(\"counts\", size = 20)\n",
    "plt.xticks(fontsize=20)\n",
    "plt.yticks(fontsize=20)\n",
    "#plt.xlim([0, 0.6])\n",
    "\n",
    "#plt.savefig(resdir_fig+'t1wt2w_field_bias_check_hist_corr_ICV_MPC.png', dpi=300)"
   ]
  },
  {
   "cell_type": "code",
   "execution_count": 61,
   "id": "c1a7feae-1d2f-4fe1-b062-8f88e89d4854",
   "metadata": {},
   "outputs": [
    {
     "data": {
      "image/png": "[encoded data removed]",
      "text/plain": [
       "<Figure size 720x720 with 1 Axes>"
      ]
     },
     "metadata": {
      "needs_background": "light"
     },
     "output_type": "display_data"
    }
   ],
   "source": [
    "bins = np.linspace(-10, 10, 100)\n",
    "\n",
    "plt.hist(r_MPC_ICV_M, bins = 50, alpha=0.5, color = 'royalblue', label = 'males')\n",
    "plt.hist(r_MPC_ICV_F, bins = 50, alpha=0.5, color = 'firebrick', label = 'females')\n",
    "plt.rcParams[\"figure.figsize\"] = (10,10)\n",
    "plt.xlabel(\"r(ICV, MPC G1)\", size = 20)\n",
    "plt.ylabel(\"counts\", size = 20)\n",
    "plt.xticks(fontsize=20)\n",
    "plt.yticks(fontsize=20)\n",
    "plt.legend(loc='upper right', fontsize = 20)\n",
    "#plt.xlim([0, 0.6])\n",
    "\n",
    "plt.savefig(resdir_fig+'t1wt2w_field_bias_check_hist_corr_ICV_MPC_bysex.png', dpi=300)"
   ]
  },
  {
   "cell_type": "markdown",
   "id": "6c68cf07-1e88-4461-8290-548fc1bbaea2",
   "metadata": {
    "tags": []
   },
   "source": [
    "#### Exporting for source data"
   ]
  },
  {
   "cell_type": "code",
   "execution_count": 73,
   "id": "5590b812-5e18-4d7b-bdef-cc4fb430947f",
   "metadata": {},
   "outputs": [],
   "source": [
    "fieldbias_suppl = {'r_meanMPI_BMI_M': r_meanMPI_BMI_M, 'r_meanMPI_BMI_F': r_meanMPI_BMI_F, 'r_meanMPI_ICV_M': r_meanMPI_ICV_M, 'r_meanMPI_ICV_F': r_meanMPI_ICV_F, 'r_MPC_BMI_M':r_MPC_BMI_M, 'r_MPC_BMI_F': r_MPC_BMI_F, 'r_MPC_ICV_M':r_MPC_ICV_M, 'r_MPC_ICV_F': r_MPC_ICV_F}\n",
    "\n",
    "fieldbias_suppl = pd.DataFrame(fieldbias_suppl)"
   ]
  },
  {
   "cell_type": "code",
   "execution_count": 74,
   "id": "53d05d45-70bf-40eb-a1ca-c58c3855fe75",
   "metadata": {
    "scrolled": true,
    "tags": []
   },
   "outputs": [],
   "source": [
    "fieldbias_suppl.to_csv(resdir_hcp+'fieldbias_suppl.csv')"
   ]
  },
  {
   "cell_type": "code",
   "execution_count": null,
   "id": "6468b002-bd8f-4363-ba10-bd9e40c8c2ee",
   "metadata": {},
   "outputs": [],
   "source": []
  }
 ],
 "metadata": {
  "kernelspec": {
   "display_name": "Python 3 (ipykernel)",
   "language": "python",
   "name": "python3"
  },
  "language_info": {
   "codemirror_mode": {
    "name": "ipython",
    "version": 3
   },
   "file_extension": ".py",
   "mimetype": "text/x-python",
   "name": "python",
   "nbconvert_exporter": "python",
   "pygments_lexer": "ipython3",
   "version": "3.9.7"
  }
 },
 "nbformat": 4,
 "nbformat_minor": 5
}
