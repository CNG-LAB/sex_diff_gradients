{
 "cells": [
  {
   "cell_type": "markdown",
   "id": "7d0da444-dbfd-452e-9b7b-806250014012",
   "metadata": {
    "tags": []
   },
   "source": [
    "# Sex differences in functional cortical organization (Serio et al.)\n",
    "\n",
    "## Functional Data"
   ]
  },
  {
   "cell_type": "markdown",
   "id": "4a9377a8-16c4-48ac-b6f8-fc03f218bbf9",
   "metadata": {
    "tags": []
   },
   "source": [
    "## Load packages"
   ]
  },
  {
   "cell_type": "code",
   "execution_count": 1,
   "id": "b39eb89f-a16d-415d-8425-fbe7b076f8d4",
   "metadata": {},
   "outputs": [],
   "source": [
    "# General\n",
    "import os\n",
    "import sys\n",
    "import numpy as np\n",
    "import pandas as pd\n",
    "import csv\n",
    "import math\n",
    "from math import isnan\n",
    "import statistics\n",
    "import pingouin as pg\n",
    "import pickle\n",
    "\n",
    "# Computing / Analyses\n",
    "import scipy.io  # loadmat\n",
    "from scipy import stats\n",
    "import sklearn \n",
    "from brainstat.stats.terms import FixedEffect\n",
    "from brainstat.stats.SLM import SLM\n",
    "from statsmodels.stats.multitest import fdrcorrection # does not yield exactly the same FDR correction as R but the same up to 14th decimal place so good enough\n",
    "\n",
    "# Visualisation\n",
    "import matplotlib.pyplot as plt \n",
    "import seaborn as sns\n",
    "import vtk\n",
    "from IPython.display import display\n",
    "import matplotlib.collections as clt\n",
    "import ptitprince as pt\n",
    "\n",
    "# Neuroimaging\n",
    "import nibabel\n",
    "import nilearn\n",
    "from brainstat.datasets import fetch_parcellation\n",
    "from enigmatoolbox.permutation_testing import spin_test, shuf_test\n",
    "\n",
    "# Gradients\n",
    "import brainspace\n",
    "from brainspace.datasets import load_parcellation, load_conte69\n",
    "from brainspace.plotting import plot_hemispheres\n",
    "from brainspace.gradient import GradientMaps\n",
    "from brainspace.utils.parcellation import map_to_labels"
   ]
  },
  {
   "cell_type": "markdown",
   "id": "50ba644f-fd73-4fda-97d9-9db6f16c7d3c",
   "metadata": {
    "tags": []
   },
   "source": [
    "## Define directories"
   ]
  },
  {
   "cell_type": "code",
   "execution_count": 2,
   "id": "9ccd6368-f93b-490b-8603-98418f8de1e9",
   "metadata": {},
   "outputs": [],
   "source": [
    "codedir = os.path.abspath('')  # obtain current direction from which script is runnning\n",
    "\n",
    "datadir = '/data/p_02667/sex_diff_gradients/data/'\n",
    "\n",
    "resdir_gsp = '/data/p_02667/sex_diff_gradients/results/GSP/'\n",
    "resdir_hcp = '/data/p_02667/sex_diff_gradients/results/HCP/'\n",
    "resdir_fig = '/data/p_02667/sex_diff_gradients/results/figures/'"
   ]
  },
  {
   "cell_type": "markdown",
   "id": "0164b76a-11ba-4c66-89d1-c2cb861c926a",
   "metadata": {
    "tags": []
   },
   "source": [
    "## Import functions"
   ]
  },
  {
   "cell_type": "code",
   "execution_count": 3,
   "id": "c2b6cb39-18b4-4ddc-a9f0-4a1b0693c1a7",
   "metadata": {},
   "outputs": [],
   "source": [
    "%run p1_myfunctions.ipynb"
   ]
  },
  {
   "cell_type": "markdown",
   "id": "6499aea0-7323-4672-b903-8895a92d4495",
   "metadata": {
    "tags": []
   },
   "source": [
    "# Data "
   ]
  },
  {
   "cell_type": "markdown",
   "id": "065b48df-0cec-40c1-8b68-affb8678c581",
   "metadata": {
    "tags": []
   },
   "source": [
    "## Functional connectivity matrices (parcellation scheme: Schaefer 400, 7 networks) z-transformed"
   ]
  },
  {
   "cell_type": "code",
   "execution_count": 11,
   "id": "31f8c6c2-aedd-4765-aa45-0114af3d1a12",
   "metadata": {},
   "outputs": [
    {
     "name": "stdout",
     "output_type": "stream",
     "text": [
      "Connectivity matrices found in path /data/p_02667/sex_diff_gradients/data/fc_matrices/HCP/functional_schaefer400/mean/: N = 1014\n"
     ]
    }
   ],
   "source": [
    "# define the path containing the functional connectivity matrices\n",
    "HCP_path_fc_matrices = datadir+'fc_matrices/HCP/functional_schaefer400/mean/'\n",
    "\n",
    "# fetch the functional connectivity matrices of all subjects \n",
    "HCP_all_sub_fc_matrices = fetch_all_sub_conn_matrices(HCP_path_fc_matrices)\n",
    "\n",
    "# store the functional connectivity matrices and subject list in respecive variables\n",
    "HCP_fc_matrices = HCP_all_sub_fc_matrices['conn_matrices']\n",
    "HCP_sub_list_fc = HCP_all_sub_fc_matrices['sub_list']"
   ]
  },
  {
   "cell_type": "markdown",
   "id": "0e5aa49a-386c-4b9d-af82-35d0fab3ba47",
   "metadata": {
    "tags": []
   },
   "source": [
    "### Export fc matrices in one matfile"
   ]
  },
  {
   "cell_type": "code",
   "execution_count": 12,
   "id": "a30a6cb3-5b99-47a9-8e63-08767b4fad1a",
   "metadata": {},
   "outputs": [],
   "source": [
    "# fc matrices \n",
    "mdict = {'HCP_fc_matrices': HCP_fc_matrices, 'HCP_sub_list_fc': HCP_sub_list_fc}\n",
    "\n",
    "scipy.io.savemat(datadir+'fc_matrices/fc_matrices.mat', mdict)"
   ]
  },
  {
   "cell_type": "markdown",
   "id": "6b4d48c5-0a19-4d75-bbef-230ba43fd02d",
   "metadata": {
    "tags": []
   },
   "source": [
    "### Export subject lists, i.e., lists of subjects with functional connectivity matrices (to make available for p1_main_structure script)"
   ]
  },
  {
   "cell_type": "code",
   "execution_count": 14,
   "id": "d83abdf9-0180-4f5d-a8e1-9fd5c67efe41",
   "metadata": {},
   "outputs": [],
   "source": [
    "np.savetxt(datadir+'HCP_sub_list_fc.csv', \n",
    "           HCP_sub_list_fc,\n",
    "           delimiter =\",\", \n",
    "           fmt ='% s')"
   ]
  }
 ],
 "metadata": {
  "kernelspec": {
   "display_name": "Python 3 (ipykernel)",
   "language": "python",
   "name": "python3"
  },
  "language_info": {
   "codemirror_mode": {
    "name": "ipython",
    "version": 3
   },
   "file_extension": ".py",
   "mimetype": "text/x-python",
   "name": "python",
   "nbconvert_exporter": "python",
   "pygments_lexer": "ipython3",
   "version": "3.9.7"
  }
 },
 "nbformat": 4,
 "nbformat_minor": 5
}
