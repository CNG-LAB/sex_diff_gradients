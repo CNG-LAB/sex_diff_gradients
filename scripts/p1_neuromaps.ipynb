{
 "cells": [
  {
   "cell_type": "code",
   "execution_count": null,
   "id": "6afbc3ce-9b73-4f6e-8cf4-9c34f8d41a56",
   "metadata": {},
   "outputs": [],
   "source": []
  },
  {
   "cell_type": "markdown",
   "id": "c3f9885d-7c7a-4dd1-a2c0-1f79caa6108c",
   "metadata": {
    "tags": []
   },
   "source": [
    "# Project 1: Sex Differences in brain organization\n",
    "\n",
    "### Neuromaps decoding \n",
    "\n",
    "https://neuromaps.readthedocs.io "
   ]
  },
  {
   "cell_type": "markdown",
   "id": "1203c0d7-3e28-43d6-b056-57166127a03a",
   "metadata": {
    "tags": []
   },
   "source": [
    "## Load packages"
   ]
  },
  {
   "cell_type": "code",
   "execution_count": 1,
   "id": "3359e5dc-9ad1-4c72-bc67-61a51f126c9f",
   "metadata": {},
   "outputs": [
    {
     "name": "stderr",
     "output_type": "stream",
     "text": [
      "/data/u_serio_software/anaconda3/lib/python3.9/site-packages/outdated/utils.py:14: OutdatedPackageWarning: The package pingouin is out of date. Your version is 0.5.2, the latest is 0.5.3.\n",
      "Set the environment variable OUTDATED_IGNORE=1 to disable these warnings.\n",
      "  return warn(\n"
     ]
    },
    {
     "data": {
      "application/javascript": [
       "(function(root) {\n",
       "  function now() {\n",
       "    return new Date();\n",
       "  }\n",
       "\n",
       "  var force = true;\n",
       "  var py_version = '3.1.1'.replace('rc', '-rc.');\n",
       "  var is_dev = py_version.indexOf(\"+\") !== -1 || py_version.indexOf(\"-\") !== -1;\n",
       "  var reloading = false;\n",
       "  var Bokeh = root.Bokeh;\n",
       "  var bokeh_loaded = Bokeh != null && (Bokeh.version === py_version || (Bokeh.versions !== undefined && Bokeh.versions.has(py_version)));\n",
       "\n",
       "  if (typeof (root._bokeh_timeout) === \"undefined\" || force) {\n",
       "    root._bokeh_timeout = Date.now() + 5000;\n",
       "    root._bokeh_failed_load = false;\n",
       "  }\n",
       "\n",
       "  function run_callbacks() {\n",
       "    try {\n",
       "      root._bokeh_onload_callbacks.forEach(function(callback) {\n",
       "        if (callback != null)\n",
       "          callback();\n",
       "      });\n",
       "    } finally {\n",
       "      delete root._bokeh_onload_callbacks;\n",
       "    }\n",
       "    console.debug(\"Bokeh: all callbacks have finished\");\n",
       "  }\n",
       "\n",
       "  function load_libs(css_urls, js_urls, js_modules, js_exports, callback) {\n",
       "    if (css_urls == null) css_urls = [];\n",
       "    if (js_urls == null) js_urls = [];\n",
       "    if (js_modules == null) js_modules = [];\n",
       "    if (js_exports == null) js_exports = {};\n",
       "\n",
       "    root._bokeh_onload_callbacks.push(callback);\n",
       "\n",
       "    if (root._bokeh_is_loading > 0) {\n",
       "      console.debug(\"Bokeh: BokehJS is being loaded, scheduling callback at\", now());\n",
       "      return null;\n",
       "    }\n",
       "    if (js_urls.length === 0 && js_modules.length === 0 && Object.keys(js_exports).length === 0) {\n",
       "      run_callbacks();\n",
       "      return null;\n",
       "    }\n",
       "    if (!reloading) {\n",
       "      console.debug(\"Bokeh: BokehJS not loaded, scheduling load and callback at\", now());\n",
       "    }\n",
       "\n",
       "    function on_load() {\n",
       "      root._bokeh_is_loading--;\n",
       "      if (root._bokeh_is_loading === 0) {\n",
       "        console.debug(\"Bokeh: all BokehJS libraries/stylesheets loaded\");\n",
       "        run_callbacks()\n",
       "      }\n",
       "    }\n",
       "    window._bokeh_on_load = on_load\n",
       "\n",
       "    function on_error() {\n",
       "      console.error(\"failed to load \" + url);\n",
       "    }\n",
       "\n",
       "    var skip = [];\n",
       "    if (window.requirejs) {\n",
       "      window.requirejs.config({'packages': {}, 'paths': {'vtk': 'https://cdn.jsdelivr.net/npm/vtk.js@20.0.1/vtk', 'jspanel': 'https://cdn.jsdelivr.net/npm/jspanel4@4.12.0/dist/jspanel', 'jspanel-modal': 'https://cdn.jsdelivr.net/npm/jspanel4@4.12.0/dist/extensions/modal/jspanel.modal', 'jspanel-tooltip': 'https://cdn.jsdelivr.net/npm/jspanel4@4.12.0/dist/extensions/tooltip/jspanel.tooltip', 'jspanel-hint': 'https://cdn.jsdelivr.net/npm/jspanel4@4.12.0/dist/extensions/hint/jspanel.hint', 'jspanel-layout': 'https://cdn.jsdelivr.net/npm/jspanel4@4.12.0/dist/extensions/layout/jspanel.layout', 'jspanel-contextmenu': 'https://cdn.jsdelivr.net/npm/jspanel4@4.12.0/dist/extensions/contextmenu/jspanel.contextmenu', 'jspanel-dock': 'https://cdn.jsdelivr.net/npm/jspanel4@4.12.0/dist/extensions/dock/jspanel.dock', 'gridstack': 'https://cdn.jsdelivr.net/npm/gridstack@7.2.3/dist/gridstack-all', 'notyf': 'https://cdn.jsdelivr.net/npm/notyf@3/notyf.min'}, 'shim': {'vtk': {'exports': 'vtk'}, 'jspanel': {'exports': 'jsPanel'}, 'gridstack': {'exports': 'GridStack'}}});\n",
       "      require([\"vtk\"], function() {\n",
       "\ton_load()\n",
       "      })\n",
       "      require([\"jspanel\"], function(jsPanel) {\n",
       "\twindow.jsPanel = jsPanel\n",
       "\ton_load()\n",
       "      })\n",
       "      require([\"jspanel-modal\"], function() {\n",
       "\ton_load()\n",
       "      })\n",
       "      require([\"jspanel-tooltip\"], function() {\n",
       "\ton_load()\n",
       "      })\n",
       "      require([\"jspanel-hint\"], function() {\n",
       "\ton_load()\n",
       "      })\n",
       "      require([\"jspanel-layout\"], function() {\n",
       "\ton_load()\n",
       "      })\n",
       "      require([\"jspanel-contextmenu\"], function() {\n",
       "\ton_load()\n",
       "      })\n",
       "      require([\"jspanel-dock\"], function() {\n",
       "\ton_load()\n",
       "      })\n",
       "      require([\"gridstack\"], function(GridStack) {\n",
       "\twindow.GridStack = GridStack\n",
       "\ton_load()\n",
       "      })\n",
       "      require([\"notyf\"], function() {\n",
       "\ton_load()\n",
       "      })\n",
       "      root._bokeh_is_loading = css_urls.length + 10;\n",
       "    } else {\n",
       "      root._bokeh_is_loading = css_urls.length + js_urls.length + js_modules.length + Object.keys(js_exports).length;\n",
       "    }\n",
       "\n",
       "    var existing_stylesheets = []\n",
       "    var links = document.getElementsByTagName('link')\n",
       "    for (var i = 0; i < links.length; i++) {\n",
       "      var link = links[i]\n",
       "      if (link.href != null) {\n",
       "\texisting_stylesheets.push(link.href)\n",
       "      }\n",
       "    }\n",
       "    for (var i = 0; i < css_urls.length; i++) {\n",
       "      var url = css_urls[i];\n",
       "      if (existing_stylesheets.indexOf(url) !== -1) {\n",
       "\ton_load()\n",
       "\tcontinue;\n",
       "      }\n",
       "      const element = document.createElement(\"link\");\n",
       "      element.onload = on_load;\n",
       "      element.onerror = on_error;\n",
       "      element.rel = \"stylesheet\";\n",
       "      element.type = \"text/css\";\n",
       "      element.href = url;\n",
       "      console.debug(\"Bokeh: injecting link tag for BokehJS stylesheet: \", url);\n",
       "      document.body.appendChild(element);\n",
       "    }    if (((window['vtk'] !== undefined) && (!(window['vtk'] instanceof HTMLElement))) || window.requirejs) {\n",
       "      var urls = ['https://cdn.holoviz.org/panel/1.1.0/dist/bundled/abstractvtkplot/vtk.js@20.0.1/vtk.js'];\n",
       "      for (var i = 0; i < urls.length; i++) {\n",
       "        skip.push(urls[i])\n",
       "      }\n",
       "    }    if (((window['jsPanel'] !== undefined) && (!(window['jsPanel'] instanceof HTMLElement))) || window.requirejs) {\n",
       "      var urls = ['https://cdn.holoviz.org/panel/1.1.0/dist/bundled/floatpanel/jspanel4@4.12.0/dist/jspanel.js', 'https://cdn.holoviz.org/panel/1.1.0/dist/bundled/floatpanel/jspanel4@4.12.0/dist/extensions/modal/jspanel.modal.js', 'https://cdn.holoviz.org/panel/1.1.0/dist/bundled/floatpanel/jspanel4@4.12.0/dist/extensions/tooltip/jspanel.tooltip.js', 'https://cdn.holoviz.org/panel/1.1.0/dist/bundled/floatpanel/jspanel4@4.12.0/dist/extensions/hint/jspanel.hint.js', 'https://cdn.holoviz.org/panel/1.1.0/dist/bundled/floatpanel/jspanel4@4.12.0/dist/extensions/layout/jspanel.layout.js', 'https://cdn.holoviz.org/panel/1.1.0/dist/bundled/floatpanel/jspanel4@4.12.0/dist/extensions/contextmenu/jspanel.contextmenu.js', 'https://cdn.holoviz.org/panel/1.1.0/dist/bundled/floatpanel/jspanel4@4.12.0/dist/extensions/dock/jspanel.dock.js'];\n",
       "      for (var i = 0; i < urls.length; i++) {\n",
       "        skip.push(urls[i])\n",
       "      }\n",
       "    }    if (((window['GridStack'] !== undefined) && (!(window['GridStack'] instanceof HTMLElement))) || window.requirejs) {\n",
       "      var urls = ['https://cdn.holoviz.org/panel/1.1.0/dist/bundled/gridstack/gridstack@7.2.3/dist/gridstack-all.js'];\n",
       "      for (var i = 0; i < urls.length; i++) {\n",
       "        skip.push(urls[i])\n",
       "      }\n",
       "    }    if (((window['Notyf'] !== undefined) && (!(window['Notyf'] instanceof HTMLElement))) || window.requirejs) {\n",
       "      var urls = ['https://cdn.holoviz.org/panel/1.1.0/dist/bundled/notificationarea/notyf@3/notyf.min.js'];\n",
       "      for (var i = 0; i < urls.length; i++) {\n",
       "        skip.push(urls[i])\n",
       "      }\n",
       "    }    var existing_scripts = []\n",
       "    var scripts = document.getElementsByTagName('script')\n",
       "    for (var i = 0; i < scripts.length; i++) {\n",
       "      var script = scripts[i]\n",
       "      if (script.src != null) {\n",
       "\texisting_scripts.push(script.src)\n",
       "      }\n",
       "    }\n",
       "    for (var i = 0; i < js_urls.length; i++) {\n",
       "      var url = js_urls[i];\n",
       "      if (skip.indexOf(url) !== -1 || existing_scripts.indexOf(url) !== -1) {\n",
       "\tif (!window.requirejs) {\n",
       "\t  on_load();\n",
       "\t}\n",
       "\tcontinue;\n",
       "      }\n",
       "      var element = document.createElement('script');\n",
       "      element.onload = on_load;\n",
       "      element.onerror = on_error;\n",
       "      element.async = false;\n",
       "      element.src = url;\n",
       "      console.debug(\"Bokeh: injecting script tag for BokehJS library: \", url);\n",
       "      document.head.appendChild(element);\n",
       "    }\n",
       "    for (var i = 0; i < js_modules.length; i++) {\n",
       "      var url = js_modules[i];\n",
       "      if (skip.indexOf(url) !== -1 || existing_scripts.indexOf(url) !== -1) {\n",
       "\tif (!window.requirejs) {\n",
       "\t  on_load();\n",
       "\t}\n",
       "\tcontinue;\n",
       "      }\n",
       "      var element = document.createElement('script');\n",
       "      element.onload = on_load;\n",
       "      element.onerror = on_error;\n",
       "      element.async = false;\n",
       "      element.src = url;\n",
       "      element.type = \"module\";\n",
       "      console.debug(\"Bokeh: injecting script tag for BokehJS library: \", url);\n",
       "      document.head.appendChild(element);\n",
       "    }\n",
       "    for (const name in js_exports) {\n",
       "      var url = js_exports[name];\n",
       "      if (skip.indexOf(url) >= 0 || root[name] != null) {\n",
       "\tif (!window.requirejs) {\n",
       "\t  on_load();\n",
       "\t}\n",
       "\tcontinue;\n",
       "      }\n",
       "      var element = document.createElement('script');\n",
       "      element.onerror = on_error;\n",
       "      element.async = false;\n",
       "      element.type = \"module\";\n",
       "      console.debug(\"Bokeh: injecting script tag for BokehJS library: \", url);\n",
       "      element.textContent = `\n",
       "      import ${name} from \"${url}\"\n",
       "      window.${name} = ${name}\n",
       "      window._bokeh_on_load()\n",
       "      `\n",
       "      document.head.appendChild(element);\n",
       "    }\n",
       "    if (!js_urls.length && !js_modules.length) {\n",
       "      on_load()\n",
       "    }\n",
       "  };\n",
       "\n",
       "  function inject_raw_css(css) {\n",
       "    const element = document.createElement(\"style\");\n",
       "    element.appendChild(document.createTextNode(css));\n",
       "    document.body.appendChild(element);\n",
       "  }\n",
       "\n",
       "  var js_urls = [\"https://cdn.holoviz.org/panel/1.1.0/dist/bundled/abstractvtkplot/vtk.js@20.0.1/vtk.js\", \"https://cdn.bokeh.org/bokeh/release/bokeh-3.1.1.min.js\", \"https://cdn.bokeh.org/bokeh/release/bokeh-gl-3.1.1.min.js\", \"https://cdn.bokeh.org/bokeh/release/bokeh-widgets-3.1.1.min.js\", \"https://cdn.bokeh.org/bokeh/release/bokeh-tables-3.1.1.min.js\", \"https://cdn.holoviz.org/panel/1.1.0/dist/panel.min.js\"];\n",
       "  var js_modules = [];\n",
       "  var js_exports = {};\n",
       "  var css_urls = [];\n",
       "  var inline_js = [    function(Bokeh) {\n",
       "      Bokeh.set_log_level(\"info\");\n",
       "    },\n",
       "function(Bokeh) {} // ensure no trailing comma for IE\n",
       "  ];\n",
       "\n",
       "  function run_inline_js() {\n",
       "    if ((root.Bokeh !== undefined) || (force === true)) {\n",
       "      for (var i = 0; i < inline_js.length; i++) {\n",
       "        inline_js[i].call(root, root.Bokeh);\n",
       "      }\n",
       "      // Cache old bokeh versions\n",
       "      if (Bokeh != undefined && !reloading) {\n",
       "\tvar NewBokeh = root.Bokeh;\n",
       "\tif (Bokeh.versions === undefined) {\n",
       "\t  Bokeh.versions = new Map();\n",
       "\t}\n",
       "\tif (NewBokeh.version !== Bokeh.version) {\n",
       "\t  Bokeh.versions.set(NewBokeh.version, NewBokeh)\n",
       "\t}\n",
       "\troot.Bokeh = Bokeh;\n",
       "      }} else if (Date.now() < root._bokeh_timeout) {\n",
       "      setTimeout(run_inline_js, 100);\n",
       "    } else if (!root._bokeh_failed_load) {\n",
       "      console.log(\"Bokeh: BokehJS failed to load within specified timeout.\");\n",
       "      root._bokeh_failed_load = true;\n",
       "    }\n",
       "    root._bokeh_is_initializing = false\n",
       "  }\n",
       "\n",
       "  function load_or_wait() {\n",
       "    // Implement a backoff loop that tries to ensure we do not load multiple\n",
       "    // versions of Bokeh and its dependencies at the same time.\n",
       "    // In recent versions we use the root._bokeh_is_initializing flag\n",
       "    // to determine whether there is an ongoing attempt to initialize\n",
       "    // bokeh, however for backward compatibility we also try to ensure\n",
       "    // that we do not start loading a newer (Panel>=1.0 and Bokeh>3) version\n",
       "    // before older versions are fully initialized.\n",
       "    if (root._bokeh_is_initializing && Date.now() > root._bokeh_timeout) {\n",
       "      root._bokeh_is_initializing = false;\n",
       "      root._bokeh_onload_callbacks = undefined;\n",
       "      console.log(\"Bokeh: BokehJS was loaded multiple times but one version failed to initialize.\");\n",
       "      load_or_wait();\n",
       "    } else if (root._bokeh_is_initializing || (typeof root._bokeh_is_initializing === \"undefined\" && root._bokeh_onload_callbacks !== undefined)) {\n",
       "      setTimeout(load_or_wait, 100);\n",
       "    } else {\n",
       "      Bokeh = root.Bokeh;\n",
       "      bokeh_loaded = Bokeh != null && (Bokeh.version === py_version || (Bokeh.versions !== undefined && Bokeh.versions.has(py_version)));\n",
       "      root._bokeh_is_initializing = true\n",
       "      root._bokeh_onload_callbacks = []\n",
       "      if (!reloading && (!bokeh_loaded || is_dev)) {\n",
       "\troot.Bokeh = undefined;\n",
       "      }\n",
       "      load_libs(css_urls, js_urls, js_modules, js_exports, function() {\n",
       "\tconsole.debug(\"Bokeh: BokehJS plotting callback run at\", now());\n",
       "\trun_inline_js();\n",
       "      });\n",
       "    }\n",
       "  }\n",
       "  // Give older versions of the autoload script a head-start to ensure\n",
       "  // they initialize before we start loading newer version.\n",
       "  setTimeout(load_or_wait, 100)\n",
       "}(window));"
      ],
      "application/vnd.holoviews_load.v0+json": "(function(root) {\n  function now() {\n    return new Date();\n  }\n\n  var force = true;\n  var py_version = '3.1.1'.replace('rc', '-rc.');\n  var is_dev = py_version.indexOf(\"+\") !== -1 || py_version.indexOf(\"-\") !== -1;\n  var reloading = false;\n  var Bokeh = root.Bokeh;\n  var bokeh_loaded = Bokeh != null && (Bokeh.version === py_version || (Bokeh.versions !== undefined && Bokeh.versions.has(py_version)));\n\n  if (typeof (root._bokeh_timeout) === \"undefined\" || force) {\n    root._bokeh_timeout = Date.now() + 5000;\n    root._bokeh_failed_load = false;\n  }\n\n  function run_callbacks() {\n    try {\n      root._bokeh_onload_callbacks.forEach(function(callback) {\n        if (callback != null)\n          callback();\n      });\n    } finally {\n      delete root._bokeh_onload_callbacks;\n    }\n    console.debug(\"Bokeh: all callbacks have finished\");\n  }\n\n  function load_libs(css_urls, js_urls, js_modules, js_exports, callback) {\n    if (css_urls == null) css_urls = [];\n    if (js_urls == null) js_urls = [];\n    if (js_modules == null) js_modules = [];\n    if (js_exports == null) js_exports = {};\n\n    root._bokeh_onload_callbacks.push(callback);\n\n    if (root._bokeh_is_loading > 0) {\n      console.debug(\"Bokeh: BokehJS is being loaded, scheduling callback at\", now());\n      return null;\n    }\n    if (js_urls.length === 0 && js_modules.length === 0 && Object.keys(js_exports).length === 0) {\n      run_callbacks();\n      return null;\n    }\n    if (!reloading) {\n      console.debug(\"Bokeh: BokehJS not loaded, scheduling load and callback at\", now());\n    }\n\n    function on_load() {\n      root._bokeh_is_loading--;\n      if (root._bokeh_is_loading === 0) {\n        console.debug(\"Bokeh: all BokehJS libraries/stylesheets loaded\");\n        run_callbacks()\n      }\n    }\n    window._bokeh_on_load = on_load\n\n    function on_error() {\n      console.error(\"failed to load \" + url);\n    }\n\n    var skip = [];\n    if (window.requirejs) {\n      window.requirejs.config({'packages': {}, 'paths': {'vtk': 'https://cdn.jsdelivr.net/npm/vtk.js@20.0.1/vtk', 'jspanel': 'https://cdn.jsdelivr.net/npm/jspanel4@4.12.0/dist/jspanel', 'jspanel-modal': 'https://cdn.jsdelivr.net/npm/jspanel4@4.12.0/dist/extensions/modal/jspanel.modal', 'jspanel-tooltip': 'https://cdn.jsdelivr.net/npm/jspanel4@4.12.0/dist/extensions/tooltip/jspanel.tooltip', 'jspanel-hint': 'https://cdn.jsdelivr.net/npm/jspanel4@4.12.0/dist/extensions/hint/jspanel.hint', 'jspanel-layout': 'https://cdn.jsdelivr.net/npm/jspanel4@4.12.0/dist/extensions/layout/jspanel.layout', 'jspanel-contextmenu': 'https://cdn.jsdelivr.net/npm/jspanel4@4.12.0/dist/extensions/contextmenu/jspanel.contextmenu', 'jspanel-dock': 'https://cdn.jsdelivr.net/npm/jspanel4@4.12.0/dist/extensions/dock/jspanel.dock', 'gridstack': 'https://cdn.jsdelivr.net/npm/gridstack@7.2.3/dist/gridstack-all', 'notyf': 'https://cdn.jsdelivr.net/npm/notyf@3/notyf.min'}, 'shim': {'vtk': {'exports': 'vtk'}, 'jspanel': {'exports': 'jsPanel'}, 'gridstack': {'exports': 'GridStack'}}});\n      require([\"vtk\"], function() {\n\ton_load()\n      })\n      require([\"jspanel\"], function(jsPanel) {\n\twindow.jsPanel = jsPanel\n\ton_load()\n      })\n      require([\"jspanel-modal\"], function() {\n\ton_load()\n      })\n      require([\"jspanel-tooltip\"], function() {\n\ton_load()\n      })\n      require([\"jspanel-hint\"], function() {\n\ton_load()\n      })\n      require([\"jspanel-layout\"], function() {\n\ton_load()\n      })\n      require([\"jspanel-contextmenu\"], function() {\n\ton_load()\n      })\n      require([\"jspanel-dock\"], function() {\n\ton_load()\n      })\n      require([\"gridstack\"], function(GridStack) {\n\twindow.GridStack = GridStack\n\ton_load()\n      })\n      require([\"notyf\"], function() {\n\ton_load()\n      })\n      root._bokeh_is_loading = css_urls.length + 10;\n    } else {\n      root._bokeh_is_loading = css_urls.length + js_urls.length + js_modules.length + Object.keys(js_exports).length;\n    }\n\n    var existing_stylesheets = []\n    var links = document.getElementsByTagName('link')\n    for (var i = 0; i < links.length; i++) {\n      var link = links[i]\n      if (link.href != null) {\n\texisting_stylesheets.push(link.href)\n      }\n    }\n    for (var i = 0; i < css_urls.length; i++) {\n      var url = css_urls[i];\n      if (existing_stylesheets.indexOf(url) !== -1) {\n\ton_load()\n\tcontinue;\n      }\n      const element = document.createElement(\"link\");\n      element.onload = on_load;\n      element.onerror = on_error;\n      element.rel = \"stylesheet\";\n      element.type = \"text/css\";\n      element.href = url;\n      console.debug(\"Bokeh: injecting link tag for BokehJS stylesheet: \", url);\n      document.body.appendChild(element);\n    }    if (((window['vtk'] !== undefined) && (!(window['vtk'] instanceof HTMLElement))) || window.requirejs) {\n      var urls = ['https://cdn.holoviz.org/panel/1.1.0/dist/bundled/abstractvtkplot/vtk.js@20.0.1/vtk.js'];\n      for (var i = 0; i < urls.length; i++) {\n        skip.push(urls[i])\n      }\n    }    if (((window['jsPanel'] !== undefined) && (!(window['jsPanel'] instanceof HTMLElement))) || window.requirejs) {\n      var urls = ['https://cdn.holoviz.org/panel/1.1.0/dist/bundled/floatpanel/jspanel4@4.12.0/dist/jspanel.js', 'https://cdn.holoviz.org/panel/1.1.0/dist/bundled/floatpanel/jspanel4@4.12.0/dist/extensions/modal/jspanel.modal.js', 'https://cdn.holoviz.org/panel/1.1.0/dist/bundled/floatpanel/jspanel4@4.12.0/dist/extensions/tooltip/jspanel.tooltip.js', 'https://cdn.holoviz.org/panel/1.1.0/dist/bundled/floatpanel/jspanel4@4.12.0/dist/extensions/hint/jspanel.hint.js', 'https://cdn.holoviz.org/panel/1.1.0/dist/bundled/floatpanel/jspanel4@4.12.0/dist/extensions/layout/jspanel.layout.js', 'https://cdn.holoviz.org/panel/1.1.0/dist/bundled/floatpanel/jspanel4@4.12.0/dist/extensions/contextmenu/jspanel.contextmenu.js', 'https://cdn.holoviz.org/panel/1.1.0/dist/bundled/floatpanel/jspanel4@4.12.0/dist/extensions/dock/jspanel.dock.js'];\n      for (var i = 0; i < urls.length; i++) {\n        skip.push(urls[i])\n      }\n    }    if (((window['GridStack'] !== undefined) && (!(window['GridStack'] instanceof HTMLElement))) || window.requirejs) {\n      var urls = ['https://cdn.holoviz.org/panel/1.1.0/dist/bundled/gridstack/gridstack@7.2.3/dist/gridstack-all.js'];\n      for (var i = 0; i < urls.length; i++) {\n        skip.push(urls[i])\n      }\n    }    if (((window['Notyf'] !== undefined) && (!(window['Notyf'] instanceof HTMLElement))) || window.requirejs) {\n      var urls = ['https://cdn.holoviz.org/panel/1.1.0/dist/bundled/notificationarea/notyf@3/notyf.min.js'];\n      for (var i = 0; i < urls.length; i++) {\n        skip.push(urls[i])\n      }\n    }    var existing_scripts = []\n    var scripts = document.getElementsByTagName('script')\n    for (var i = 0; i < scripts.length; i++) {\n      var script = scripts[i]\n      if (script.src != null) {\n\texisting_scripts.push(script.src)\n      }\n    }\n    for (var i = 0; i < js_urls.length; i++) {\n      var url = js_urls[i];\n      if (skip.indexOf(url) !== -1 || existing_scripts.indexOf(url) !== -1) {\n\tif (!window.requirejs) {\n\t  on_load();\n\t}\n\tcontinue;\n      }\n      var element = document.createElement('script');\n      element.onload = on_load;\n      element.onerror = on_error;\n      element.async = false;\n      element.src = url;\n      console.debug(\"Bokeh: injecting script tag for BokehJS library: \", url);\n      document.head.appendChild(element);\n    }\n    for (var i = 0; i < js_modules.length; i++) {\n      var url = js_modules[i];\n      if (skip.indexOf(url) !== -1 || existing_scripts.indexOf(url) !== -1) {\n\tif (!window.requirejs) {\n\t  on_load();\n\t}\n\tcontinue;\n      }\n      var element = document.createElement('script');\n      element.onload = on_load;\n      element.onerror = on_error;\n      element.async = false;\n      element.src = url;\n      element.type = \"module\";\n      console.debug(\"Bokeh: injecting script tag for BokehJS library: \", url);\n      document.head.appendChild(element);\n    }\n    for (const name in js_exports) {\n      var url = js_exports[name];\n      if (skip.indexOf(url) >= 0 || root[name] != null) {\n\tif (!window.requirejs) {\n\t  on_load();\n\t}\n\tcontinue;\n      }\n      var element = document.createElement('script');\n      element.onerror = on_error;\n      element.async = false;\n      element.type = \"module\";\n      console.debug(\"Bokeh: injecting script tag for BokehJS library: \", url);\n      element.textContent = `\n      import ${name} from \"${url}\"\n      window.${name} = ${name}\n      window._bokeh_on_load()\n      `\n      document.head.appendChild(element);\n    }\n    if (!js_urls.length && !js_modules.length) {\n      on_load()\n    }\n  };\n\n  function inject_raw_css(css) {\n    const element = document.createElement(\"style\");\n    element.appendChild(document.createTextNode(css));\n    document.body.appendChild(element);\n  }\n\n  var js_urls = [\"https://cdn.holoviz.org/panel/1.1.0/dist/bundled/abstractvtkplot/vtk.js@20.0.1/vtk.js\", \"https://cdn.bokeh.org/bokeh/release/bokeh-3.1.1.min.js\", \"https://cdn.bokeh.org/bokeh/release/bokeh-gl-3.1.1.min.js\", \"https://cdn.bokeh.org/bokeh/release/bokeh-widgets-3.1.1.min.js\", \"https://cdn.bokeh.org/bokeh/release/bokeh-tables-3.1.1.min.js\", \"https://cdn.holoviz.org/panel/1.1.0/dist/panel.min.js\"];\n  var js_modules = [];\n  var js_exports = {};\n  var css_urls = [];\n  var inline_js = [    function(Bokeh) {\n      Bokeh.set_log_level(\"info\");\n    },\nfunction(Bokeh) {} // ensure no trailing comma for IE\n  ];\n\n  function run_inline_js() {\n    if ((root.Bokeh !== undefined) || (force === true)) {\n      for (var i = 0; i < inline_js.length; i++) {\n        inline_js[i].call(root, root.Bokeh);\n      }\n      // Cache old bokeh versions\n      if (Bokeh != undefined && !reloading) {\n\tvar NewBokeh = root.Bokeh;\n\tif (Bokeh.versions === undefined) {\n\t  Bokeh.versions = new Map();\n\t}\n\tif (NewBokeh.version !== Bokeh.version) {\n\t  Bokeh.versions.set(NewBokeh.version, NewBokeh)\n\t}\n\troot.Bokeh = Bokeh;\n      }} else if (Date.now() < root._bokeh_timeout) {\n      setTimeout(run_inline_js, 100);\n    } else if (!root._bokeh_failed_load) {\n      console.log(\"Bokeh: BokehJS failed to load within specified timeout.\");\n      root._bokeh_failed_load = true;\n    }\n    root._bokeh_is_initializing = false\n  }\n\n  function load_or_wait() {\n    // Implement a backoff loop that tries to ensure we do not load multiple\n    // versions of Bokeh and its dependencies at the same time.\n    // In recent versions we use the root._bokeh_is_initializing flag\n    // to determine whether there is an ongoing attempt to initialize\n    // bokeh, however for backward compatibility we also try to ensure\n    // that we do not start loading a newer (Panel>=1.0 and Bokeh>3) version\n    // before older versions are fully initialized.\n    if (root._bokeh_is_initializing && Date.now() > root._bokeh_timeout) {\n      root._bokeh_is_initializing = false;\n      root._bokeh_onload_callbacks = undefined;\n      console.log(\"Bokeh: BokehJS was loaded multiple times but one version failed to initialize.\");\n      load_or_wait();\n    } else if (root._bokeh_is_initializing || (typeof root._bokeh_is_initializing === \"undefined\" && root._bokeh_onload_callbacks !== undefined)) {\n      setTimeout(load_or_wait, 100);\n    } else {\n      Bokeh = root.Bokeh;\n      bokeh_loaded = Bokeh != null && (Bokeh.version === py_version || (Bokeh.versions !== undefined && Bokeh.versions.has(py_version)));\n      root._bokeh_is_initializing = true\n      root._bokeh_onload_callbacks = []\n      if (!reloading && (!bokeh_loaded || is_dev)) {\n\troot.Bokeh = undefined;\n      }\n      load_libs(css_urls, js_urls, js_modules, js_exports, function() {\n\tconsole.debug(\"Bokeh: BokehJS plotting callback run at\", now());\n\trun_inline_js();\n      });\n    }\n  }\n  // Give older versions of the autoload script a head-start to ensure\n  // they initialize before we start loading newer version.\n  setTimeout(load_or_wait, 100)\n}(window));"
     },
     "metadata": {},
     "output_type": "display_data"
    },
    {
     "data": {
      "application/javascript": [
       "\n",
       "if ((window.PyViz === undefined) || (window.PyViz instanceof HTMLElement)) {\n",
       "  window.PyViz = {comms: {}, comm_status:{}, kernels:{}, receivers: {}, plot_index: []}\n",
       "}\n",
       "\n",
       "\n",
       "    function JupyterCommManager() {\n",
       "    }\n",
       "\n",
       "    JupyterCommManager.prototype.register_target = function(plot_id, comm_id, msg_handler) {\n",
       "      if (window.comm_manager || ((window.Jupyter !== undefined) && (Jupyter.notebook.kernel != null))) {\n",
       "        var comm_manager = window.comm_manager || Jupyter.notebook.kernel.comm_manager;\n",
       "        comm_manager.register_target(comm_id, function(comm) {\n",
       "          comm.on_msg(msg_handler);\n",
       "        });\n",
       "      } else if ((plot_id in window.PyViz.kernels) && (window.PyViz.kernels[plot_id])) {\n",
       "        window.PyViz.kernels[plot_id].registerCommTarget(comm_id, function(comm) {\n",
       "          comm.onMsg = msg_handler;\n",
       "        });\n",
       "      } else if (typeof google != 'undefined' && google.colab.kernel != null) {\n",
       "        google.colab.kernel.comms.registerTarget(comm_id, (comm) => {\n",
       "          var messages = comm.messages[Symbol.asyncIterator]();\n",
       "          function processIteratorResult(result) {\n",
       "            var message = result.value;\n",
       "            console.log(message)\n",
       "            var content = {data: message.data, comm_id};\n",
       "            var buffers = []\n",
       "            for (var buffer of message.buffers || []) {\n",
       "              buffers.push(new DataView(buffer))\n",
       "            }\n",
       "            var metadata = message.metadata || {};\n",
       "            var msg = {content, buffers, metadata}\n",
       "            msg_handler(msg);\n",
       "            return messages.next().then(processIteratorResult);\n",
       "          }\n",
       "          return messages.next().then(processIteratorResult);\n",
       "        })\n",
       "      }\n",
       "    }\n",
       "\n",
       "    JupyterCommManager.prototype.get_client_comm = function(plot_id, comm_id, msg_handler) {\n",
       "      if (comm_id in window.PyViz.comms) {\n",
       "        return window.PyViz.comms[comm_id];\n",
       "      } else if (window.comm_manager || ((window.Jupyter !== undefined) && (Jupyter.notebook.kernel != null))) {\n",
       "        var comm_manager = window.comm_manager || Jupyter.notebook.kernel.comm_manager;\n",
       "        var comm = comm_manager.new_comm(comm_id, {}, {}, {}, comm_id);\n",
       "        if (msg_handler) {\n",
       "          comm.on_msg(msg_handler);\n",
       "        }\n",
       "      } else if ((plot_id in window.PyViz.kernels) && (window.PyViz.kernels[plot_id])) {\n",
       "        var comm = window.PyViz.kernels[plot_id].connectToComm(comm_id);\n",
       "        comm.open();\n",
       "        if (msg_handler) {\n",
       "          comm.onMsg = msg_handler;\n",
       "        }\n",
       "      } else if (typeof google != 'undefined' && google.colab.kernel != null) {\n",
       "        var comm_promise = google.colab.kernel.comms.open(comm_id)\n",
       "        comm_promise.then((comm) => {\n",
       "          window.PyViz.comms[comm_id] = comm;\n",
       "          if (msg_handler) {\n",
       "            var messages = comm.messages[Symbol.asyncIterator]();\n",
       "            function processIteratorResult(result) {\n",
       "              var message = result.value;\n",
       "              var content = {data: message.data};\n",
       "              var metadata = message.metadata || {comm_id};\n",
       "              var msg = {content, metadata}\n",
       "              msg_handler(msg);\n",
       "              return messages.next().then(processIteratorResult);\n",
       "            }\n",
       "            return messages.next().then(processIteratorResult);\n",
       "          }\n",
       "        }) \n",
       "        var sendClosure = (data, metadata, buffers, disposeOnDone) => {\n",
       "          return comm_promise.then((comm) => {\n",
       "            comm.send(data, metadata, buffers, disposeOnDone);\n",
       "          });\n",
       "        };\n",
       "        var comm = {\n",
       "          send: sendClosure\n",
       "        };\n",
       "      }\n",
       "      window.PyViz.comms[comm_id] = comm;\n",
       "      return comm;\n",
       "    }\n",
       "    window.PyViz.comm_manager = new JupyterCommManager();\n",
       "    \n",
       "\n",
       "\n",
       "var JS_MIME_TYPE = 'application/javascript';\n",
       "var HTML_MIME_TYPE = 'text/html';\n",
       "var EXEC_MIME_TYPE = 'application/vnd.holoviews_exec.v0+json';\n",
       "var CLASS_NAME = 'output';\n",
       "\n",
       "/**\n",
       " * Render data to the DOM node\n",
       " */\n",
       "function render(props, node) {\n",
       "  var div = document.createElement(\"div\");\n",
       "  var script = document.createElement(\"script\");\n",
       "  node.appendChild(div);\n",
       "  node.appendChild(script);\n",
       "}\n",
       "\n",
       "/**\n",
       " * Handle when a new output is added\n",
       " */\n",
       "function handle_add_output(event, handle) {\n",
       "  var output_area = handle.output_area;\n",
       "  var output = handle.output;\n",
       "  if ((output.data == undefined) || (!output.data.hasOwnProperty(EXEC_MIME_TYPE))) {\n",
       "    return\n",
       "  }\n",
       "  var id = output.metadata[EXEC_MIME_TYPE][\"id\"];\n",
       "  var toinsert = output_area.element.find(\".\" + CLASS_NAME.split(' ')[0]);\n",
       "  if (id !== undefined) {\n",
       "    var nchildren = toinsert.length;\n",
       "    var html_node = toinsert[nchildren-1].children[0];\n",
       "    html_node.innerHTML = output.data[HTML_MIME_TYPE];\n",
       "    var scripts = [];\n",
       "    var nodelist = html_node.querySelectorAll(\"script\");\n",
       "    for (var i in nodelist) {\n",
       "      if (nodelist.hasOwnProperty(i)) {\n",
       "        scripts.push(nodelist[i])\n",
       "      }\n",
       "    }\n",
       "\n",
       "    scripts.forEach( function (oldScript) {\n",
       "      var newScript = document.createElement(\"script\");\n",
       "      var attrs = [];\n",
       "      var nodemap = oldScript.attributes;\n",
       "      for (var j in nodemap) {\n",
       "        if (nodemap.hasOwnProperty(j)) {\n",
       "          attrs.push(nodemap[j])\n",
       "        }\n",
       "      }\n",
       "      attrs.forEach(function(attr) { newScript.setAttribute(attr.name, attr.value) });\n",
       "      newScript.appendChild(document.createTextNode(oldScript.innerHTML));\n",
       "      oldScript.parentNode.replaceChild(newScript, oldScript);\n",
       "    });\n",
       "    if (JS_MIME_TYPE in output.data) {\n",
       "      toinsert[nchildren-1].children[1].textContent = output.data[JS_MIME_TYPE];\n",
       "    }\n",
       "    output_area._hv_plot_id = id;\n",
       "    if ((window.Bokeh !== undefined) && (id in Bokeh.index)) {\n",
       "      window.PyViz.plot_index[id] = Bokeh.index[id];\n",
       "    } else {\n",
       "      window.PyViz.plot_index[id] = null;\n",
       "    }\n",
       "  } else if (output.metadata[EXEC_MIME_TYPE][\"server_id\"] !== undefined) {\n",
       "    var bk_div = document.createElement(\"div\");\n",
       "    bk_div.innerHTML = output.data[HTML_MIME_TYPE];\n",
       "    var script_attrs = bk_div.children[0].attributes;\n",
       "    for (var i = 0; i < script_attrs.length; i++) {\n",
       "      toinsert[toinsert.length - 1].childNodes[1].setAttribute(script_attrs[i].name, script_attrs[i].value);\n",
       "    }\n",
       "    // store reference to server id on output_area\n",
       "    output_area._bokeh_server_id = output.metadata[EXEC_MIME_TYPE][\"server_id\"];\n",
       "  }\n",
       "}\n",
       "\n",
       "/**\n",
       " * Handle when an output is cleared or removed\n",
       " */\n",
       "function handle_clear_output(event, handle) {\n",
       "  var id = handle.cell.output_area._hv_plot_id;\n",
       "  var server_id = handle.cell.output_area._bokeh_server_id;\n",
       "  if (((id === undefined) || !(id in PyViz.plot_index)) && (server_id !== undefined)) { return; }\n",
       "  var comm = window.PyViz.comm_manager.get_client_comm(\"hv-extension-comm\", \"hv-extension-comm\", function () {});\n",
       "  if (server_id !== null) {\n",
       "    comm.send({event_type: 'server_delete', 'id': server_id});\n",
       "    return;\n",
       "  } else if (comm !== null) {\n",
       "    comm.send({event_type: 'delete', 'id': id});\n",
       "  }\n",
       "  delete PyViz.plot_index[id];\n",
       "  if ((window.Bokeh !== undefined) & (id in window.Bokeh.index)) {\n",
       "    var doc = window.Bokeh.index[id].model.document\n",
       "    doc.clear();\n",
       "    const i = window.Bokeh.documents.indexOf(doc);\n",
       "    if (i > -1) {\n",
       "      window.Bokeh.documents.splice(i, 1);\n",
       "    }\n",
       "  }\n",
       "}\n",
       "\n",
       "/**\n",
       " * Handle kernel restart event\n",
       " */\n",
       "function handle_kernel_cleanup(event, handle) {\n",
       "  delete PyViz.comms[\"hv-extension-comm\"];\n",
       "  window.PyViz.plot_index = {}\n",
       "}\n",
       "\n",
       "/**\n",
       " * Handle update_display_data messages\n",
       " */\n",
       "function handle_update_output(event, handle) {\n",
       "  handle_clear_output(event, {cell: {output_area: handle.output_area}})\n",
       "  handle_add_output(event, handle)\n",
       "}\n",
       "\n",
       "function register_renderer(events, OutputArea) {\n",
       "  function append_mime(data, metadata, element) {\n",
       "    // create a DOM node to render to\n",
       "    var toinsert = this.create_output_subarea(\n",
       "    metadata,\n",
       "    CLASS_NAME,\n",
       "    EXEC_MIME_TYPE\n",
       "    );\n",
       "    this.keyboard_manager.register_events(toinsert);\n",
       "    // Render to node\n",
       "    var props = {data: data, metadata: metadata[EXEC_MIME_TYPE]};\n",
       "    render(props, toinsert[0]);\n",
       "    element.append(toinsert);\n",
       "    return toinsert\n",
       "  }\n",
       "\n",
       "  events.on('output_added.OutputArea', handle_add_output);\n",
       "  events.on('output_updated.OutputArea', handle_update_output);\n",
       "  events.on('clear_output.CodeCell', handle_clear_output);\n",
       "  events.on('delete.Cell', handle_clear_output);\n",
       "  events.on('kernel_ready.Kernel', handle_kernel_cleanup);\n",
       "\n",
       "  OutputArea.prototype.register_mime_type(EXEC_MIME_TYPE, append_mime, {\n",
       "    safe: true,\n",
       "    index: 0\n",
       "  });\n",
       "}\n",
       "\n",
       "if (window.Jupyter !== undefined) {\n",
       "  try {\n",
       "    var events = require('base/js/events');\n",
       "    var OutputArea = require('notebook/js/outputarea').OutputArea;\n",
       "    if (OutputArea.prototype.mime_types().indexOf(EXEC_MIME_TYPE) == -1) {\n",
       "      register_renderer(events, OutputArea);\n",
       "    }\n",
       "  } catch(err) {\n",
       "  }\n",
       "}\n"
      ],
      "application/vnd.holoviews_load.v0+json": "\nif ((window.PyViz === undefined) || (window.PyViz instanceof HTMLElement)) {\n  window.PyViz = {comms: {}, comm_status:{}, kernels:{}, receivers: {}, plot_index: []}\n}\n\n\n    function JupyterCommManager() {\n    }\n\n    JupyterCommManager.prototype.register_target = function(plot_id, comm_id, msg_handler) {\n      if (window.comm_manager || ((window.Jupyter !== undefined) && (Jupyter.notebook.kernel != null))) {\n        var comm_manager = window.comm_manager || Jupyter.notebook.kernel.comm_manager;\n        comm_manager.register_target(comm_id, function(comm) {\n          comm.on_msg(msg_handler);\n        });\n      } else if ((plot_id in window.PyViz.kernels) && (window.PyViz.kernels[plot_id])) {\n        window.PyViz.kernels[plot_id].registerCommTarget(comm_id, function(comm) {\n          comm.onMsg = msg_handler;\n        });\n      } else if (typeof google != 'undefined' && google.colab.kernel != null) {\n        google.colab.kernel.comms.registerTarget(comm_id, (comm) => {\n          var messages = comm.messages[Symbol.asyncIterator]();\n          function processIteratorResult(result) {\n            var message = result.value;\n            console.log(message)\n            var content = {data: message.data, comm_id};\n            var buffers = []\n            for (var buffer of message.buffers || []) {\n              buffers.push(new DataView(buffer))\n            }\n            var metadata = message.metadata || {};\n            var msg = {content, buffers, metadata}\n            msg_handler(msg);\n            return messages.next().then(processIteratorResult);\n          }\n          return messages.next().then(processIteratorResult);\n        })\n      }\n    }\n\n    JupyterCommManager.prototype.get_client_comm = function(plot_id, comm_id, msg_handler) {\n      if (comm_id in window.PyViz.comms) {\n        return window.PyViz.comms[comm_id];\n      } else if (window.comm_manager || ((window.Jupyter !== undefined) && (Jupyter.notebook.kernel != null))) {\n        var comm_manager = window.comm_manager || Jupyter.notebook.kernel.comm_manager;\n        var comm = comm_manager.new_comm(comm_id, {}, {}, {}, comm_id);\n        if (msg_handler) {\n          comm.on_msg(msg_handler);\n        }\n      } else if ((plot_id in window.PyViz.kernels) && (window.PyViz.kernels[plot_id])) {\n        var comm = window.PyViz.kernels[plot_id].connectToComm(comm_id);\n        comm.open();\n        if (msg_handler) {\n          comm.onMsg = msg_handler;\n        }\n      } else if (typeof google != 'undefined' && google.colab.kernel != null) {\n        var comm_promise = google.colab.kernel.comms.open(comm_id)\n        comm_promise.then((comm) => {\n          window.PyViz.comms[comm_id] = comm;\n          if (msg_handler) {\n            var messages = comm.messages[Symbol.asyncIterator]();\n            function processIteratorResult(result) {\n              var message = result.value;\n              var content = {data: message.data};\n              var metadata = message.metadata || {comm_id};\n              var msg = {content, metadata}\n              msg_handler(msg);\n              return messages.next().then(processIteratorResult);\n            }\n            return messages.next().then(processIteratorResult);\n          }\n        }) \n        var sendClosure = (data, metadata, buffers, disposeOnDone) => {\n          return comm_promise.then((comm) => {\n            comm.send(data, metadata, buffers, disposeOnDone);\n          });\n        };\n        var comm = {\n          send: sendClosure\n        };\n      }\n      window.PyViz.comms[comm_id] = comm;\n      return comm;\n    }\n    window.PyViz.comm_manager = new JupyterCommManager();\n    \n\n\nvar JS_MIME_TYPE = 'application/javascript';\nvar HTML_MIME_TYPE = 'text/html';\nvar EXEC_MIME_TYPE = 'application/vnd.holoviews_exec.v0+json';\nvar CLASS_NAME = 'output';\n\n/**\n * Render data to the DOM node\n */\nfunction render(props, node) {\n  var div = document.createElement(\"div\");\n  var script = document.createElement(\"script\");\n  node.appendChild(div);\n  node.appendChild(script);\n}\n\n/**\n * Handle when a new output is added\n */\nfunction handle_add_output(event, handle) {\n  var output_area = handle.output_area;\n  var output = handle.output;\n  if ((output.data == undefined) || (!output.data.hasOwnProperty(EXEC_MIME_TYPE))) {\n    return\n  }\n  var id = output.metadata[EXEC_MIME_TYPE][\"id\"];\n  var toinsert = output_area.element.find(\".\" + CLASS_NAME.split(' ')[0]);\n  if (id !== undefined) {\n    var nchildren = toinsert.length;\n    var html_node = toinsert[nchildren-1].children[0];\n    html_node.innerHTML = output.data[HTML_MIME_TYPE];\n    var scripts = [];\n    var nodelist = html_node.querySelectorAll(\"script\");\n    for (var i in nodelist) {\n      if (nodelist.hasOwnProperty(i)) {\n        scripts.push(nodelist[i])\n      }\n    }\n\n    scripts.forEach( function (oldScript) {\n      var newScript = document.createElement(\"script\");\n      var attrs = [];\n      var nodemap = oldScript.attributes;\n      for (var j in nodemap) {\n        if (nodemap.hasOwnProperty(j)) {\n          attrs.push(nodemap[j])\n        }\n      }\n      attrs.forEach(function(attr) { newScript.setAttribute(attr.name, attr.value) });\n      newScript.appendChild(document.createTextNode(oldScript.innerHTML));\n      oldScript.parentNode.replaceChild(newScript, oldScript);\n    });\n    if (JS_MIME_TYPE in output.data) {\n      toinsert[nchildren-1].children[1].textContent = output.data[JS_MIME_TYPE];\n    }\n    output_area._hv_plot_id = id;\n    if ((window.Bokeh !== undefined) && (id in Bokeh.index)) {\n      window.PyViz.plot_index[id] = Bokeh.index[id];\n    } else {\n      window.PyViz.plot_index[id] = null;\n    }\n  } else if (output.metadata[EXEC_MIME_TYPE][\"server_id\"] !== undefined) {\n    var bk_div = document.createElement(\"div\");\n    bk_div.innerHTML = output.data[HTML_MIME_TYPE];\n    var script_attrs = bk_div.children[0].attributes;\n    for (var i = 0; i < script_attrs.length; i++) {\n      toinsert[toinsert.length - 1].childNodes[1].setAttribute(script_attrs[i].name, script_attrs[i].value);\n    }\n    // store reference to server id on output_area\n    output_area._bokeh_server_id = output.metadata[EXEC_MIME_TYPE][\"server_id\"];\n  }\n}\n\n/**\n * Handle when an output is cleared or removed\n */\nfunction handle_clear_output(event, handle) {\n  var id = handle.cell.output_area._hv_plot_id;\n  var server_id = handle.cell.output_area._bokeh_server_id;\n  if (((id === undefined) || !(id in PyViz.plot_index)) && (server_id !== undefined)) { return; }\n  var comm = window.PyViz.comm_manager.get_client_comm(\"hv-extension-comm\", \"hv-extension-comm\", function () {});\n  if (server_id !== null) {\n    comm.send({event_type: 'server_delete', 'id': server_id});\n    return;\n  } else if (comm !== null) {\n    comm.send({event_type: 'delete', 'id': id});\n  }\n  delete PyViz.plot_index[id];\n  if ((window.Bokeh !== undefined) & (id in window.Bokeh.index)) {\n    var doc = window.Bokeh.index[id].model.document\n    doc.clear();\n    const i = window.Bokeh.documents.indexOf(doc);\n    if (i > -1) {\n      window.Bokeh.documents.splice(i, 1);\n    }\n  }\n}\n\n/**\n * Handle kernel restart event\n */\nfunction handle_kernel_cleanup(event, handle) {\n  delete PyViz.comms[\"hv-extension-comm\"];\n  window.PyViz.plot_index = {}\n}\n\n/**\n * Handle update_display_data messages\n */\nfunction handle_update_output(event, handle) {\n  handle_clear_output(event, {cell: {output_area: handle.output_area}})\n  handle_add_output(event, handle)\n}\n\nfunction register_renderer(events, OutputArea) {\n  function append_mime(data, metadata, element) {\n    // create a DOM node to render to\n    var toinsert = this.create_output_subarea(\n    metadata,\n    CLASS_NAME,\n    EXEC_MIME_TYPE\n    );\n    this.keyboard_manager.register_events(toinsert);\n    // Render to node\n    var props = {data: data, metadata: metadata[EXEC_MIME_TYPE]};\n    render(props, toinsert[0]);\n    element.append(toinsert);\n    return toinsert\n  }\n\n  events.on('output_added.OutputArea', handle_add_output);\n  events.on('output_updated.OutputArea', handle_update_output);\n  events.on('clear_output.CodeCell', handle_clear_output);\n  events.on('delete.Cell', handle_clear_output);\n  events.on('kernel_ready.Kernel', handle_kernel_cleanup);\n\n  OutputArea.prototype.register_mime_type(EXEC_MIME_TYPE, append_mime, {\n    safe: true,\n    index: 0\n  });\n}\n\nif (window.Jupyter !== undefined) {\n  try {\n    var events = require('base/js/events');\n    var OutputArea = require('notebook/js/outputarea').OutputArea;\n    if (OutputArea.prototype.mime_types().indexOf(EXEC_MIME_TYPE) == -1) {\n      register_renderer(events, OutputArea);\n    }\n  } catch(err) {\n  }\n}\n"
     },
     "metadata": {},
     "output_type": "display_data"
    },
    {
     "data": {
      "text/html": [
       "<style>*[data-root-id],\n",
       "*[data-root-id] > * {\n",
       "  box-sizing: border-box;\n",
       "  font-family: var(--jp-ui-font-family);\n",
       "  font-size: var(--jp-ui-font-size1);\n",
       "  color: var(--vscode-editor-foreground, var(--jp-ui-font-color1));\n",
       "}\n",
       "\n",
       "/* Override VSCode background color */\n",
       ".cell-output-ipywidget-background:has(> .cell-output-ipywidget-background\n",
       "    > .lm-Widget\n",
       "    > *[data-root-id]),\n",
       ".cell-output-ipywidget-background:has(> .lm-Widget > *[data-root-id]) {\n",
       "  background-color: transparent !important;\n",
       "}\n",
       "</style>"
      ]
     },
     "metadata": {},
     "output_type": "display_data"
    },
    {
     "data": {
      "application/vnd.holoviews_exec.v0+json": "",
      "text/html": [
       "<div id='a737e43d-24e7-48ca-b5f8-935dbecaecf2'>\n",
       "  <div id=\"f8a4c2f9-f3d0-4a95-9799-7d184a65d31d\" data-root-id=\"a737e43d-24e7-48ca-b5f8-935dbecaecf2\" style=\"display: contents;\"></div>\n",
       "</div>\n",
       "<script type=\"application/javascript\">(function(root) {\n",
       "  var docs_json = {\"4398e317-a9bf-4029-923a-ed03a84bb4d6\":{\"version\":\"3.1.1\",\"title\":\"Bokeh Application\",\"defs\":[{\"type\":\"model\",\"name\":\"ReactiveHTML1\"},{\"type\":\"model\",\"name\":\"FlexBox1\",\"properties\":[{\"name\":\"align_content\",\"kind\":\"Any\",\"default\":\"flex-start\"},{\"name\":\"align_items\",\"kind\":\"Any\",\"default\":\"flex-start\"},{\"name\":\"flex_direction\",\"kind\":\"Any\",\"default\":\"row\"},{\"name\":\"flex_wrap\",\"kind\":\"Any\",\"default\":\"wrap\"},{\"name\":\"justify_content\",\"kind\":\"Any\",\"default\":\"flex-start\"}]},{\"type\":\"model\",\"name\":\"FloatPanel1\",\"properties\":[{\"name\":\"config\",\"kind\":\"Any\",\"default\":{\"type\":\"map\"}},{\"name\":\"contained\",\"kind\":\"Any\",\"default\":true},{\"name\":\"position\",\"kind\":\"Any\",\"default\":\"right-top\"},{\"name\":\"offsetx\",\"kind\":\"Any\",\"default\":null},{\"name\":\"offsety\",\"kind\":\"Any\",\"default\":null},{\"name\":\"theme\",\"kind\":\"Any\",\"default\":\"primary\"},{\"name\":\"status\",\"kind\":\"Any\",\"default\":\"normalized\"}]},{\"type\":\"model\",\"name\":\"GridStack1\",\"properties\":[{\"name\":\"mode\",\"kind\":\"Any\",\"default\":\"warn\"},{\"name\":\"ncols\",\"kind\":\"Any\",\"default\":null},{\"name\":\"nrows\",\"kind\":\"Any\",\"default\":null},{\"name\":\"allow_resize\",\"kind\":\"Any\",\"default\":true},{\"name\":\"allow_drag\",\"kind\":\"Any\",\"default\":true},{\"name\":\"state\",\"kind\":\"Any\",\"default\":[]}]},{\"type\":\"model\",\"name\":\"drag1\",\"properties\":[{\"name\":\"slider_width\",\"kind\":\"Any\",\"default\":5},{\"name\":\"slider_color\",\"kind\":\"Any\",\"default\":\"black\"},{\"name\":\"value\",\"kind\":\"Any\",\"default\":50}]},{\"type\":\"model\",\"name\":\"click1\",\"properties\":[{\"name\":\"terminal_output\",\"kind\":\"Any\",\"default\":\"\"},{\"name\":\"debug_name\",\"kind\":\"Any\",\"default\":\"\"},{\"name\":\"clears\",\"kind\":\"Any\",\"default\":0}]},{\"type\":\"model\",\"name\":\"FastWrapper1\",\"properties\":[{\"name\":\"object\",\"kind\":\"Any\",\"default\":null},{\"name\":\"style\",\"kind\":\"Any\",\"default\":null}]},{\"type\":\"model\",\"name\":\"NotificationAreaBase1\",\"properties\":[{\"name\":\"position\",\"kind\":\"Any\",\"default\":\"bottom-right\"},{\"name\":\"_clear\",\"kind\":\"Any\",\"default\":0}]},{\"type\":\"model\",\"name\":\"NotificationArea1\",\"properties\":[{\"name\":\"notifications\",\"kind\":\"Any\",\"default\":[]},{\"name\":\"position\",\"kind\":\"Any\",\"default\":\"bottom-right\"},{\"name\":\"_clear\",\"kind\":\"Any\",\"default\":0},{\"name\":\"types\",\"kind\":\"Any\",\"default\":[{\"type\":\"map\",\"entries\":[[\"type\",\"warning\"],[\"background\",\"#ffc107\"],[\"icon\",{\"type\":\"map\",\"entries\":[[\"className\",\"fas fa-exclamation-triangle\"],[\"tagName\",\"i\"],[\"color\",\"white\"]]}]]},{\"type\":\"map\",\"entries\":[[\"type\",\"info\"],[\"background\",\"#007bff\"],[\"icon\",{\"type\":\"map\",\"entries\":[[\"className\",\"fas fa-info-circle\"],[\"tagName\",\"i\"],[\"color\",\"white\"]]}]]}]}]},{\"type\":\"model\",\"name\":\"Notification\",\"properties\":[{\"name\":\"background\",\"kind\":\"Any\",\"default\":null},{\"name\":\"duration\",\"kind\":\"Any\",\"default\":3000},{\"name\":\"icon\",\"kind\":\"Any\",\"default\":null},{\"name\":\"message\",\"kind\":\"Any\",\"default\":\"\"},{\"name\":\"notification_type\",\"kind\":\"Any\",\"default\":null},{\"name\":\"_destroyed\",\"kind\":\"Any\",\"default\":false}]},{\"type\":\"model\",\"name\":\"TemplateActions1\",\"properties\":[{\"name\":\"open_modal\",\"kind\":\"Any\",\"default\":0},{\"name\":\"close_modal\",\"kind\":\"Any\",\"default\":0}]},{\"type\":\"model\",\"name\":\"BootstrapTemplateActions1\",\"properties\":[{\"name\":\"open_modal\",\"kind\":\"Any\",\"default\":0},{\"name\":\"close_modal\",\"kind\":\"Any\",\"default\":0}]},{\"type\":\"model\",\"name\":\"MaterialTemplateActions1\",\"properties\":[{\"name\":\"open_modal\",\"kind\":\"Any\",\"default\":0},{\"name\":\"close_modal\",\"kind\":\"Any\",\"default\":0}]}],\"roots\":[{\"type\":\"object\",\"name\":\"panel.models.browser.BrowserInfo\",\"id\":\"a737e43d-24e7-48ca-b5f8-935dbecaecf2\"},{\"type\":\"object\",\"name\":\"panel.models.comm_manager.CommManager\",\"id\":\"91422aeb-b8d9-4f0b-b23e-6ad86f75effe\",\"attributes\":{\"plot_id\":\"a737e43d-24e7-48ca-b5f8-935dbecaecf2\",\"comm_id\":\"6e43df276eef4706831cc57ddeccb077\",\"client_comm_id\":\"4cb3b4c97ffe42a495de5f9341a56349\"}}],\"callbacks\":{\"type\":\"map\"}}};\n",
       "  var render_items = [{\"docid\":\"4398e317-a9bf-4029-923a-ed03a84bb4d6\",\"roots\":{\"a737e43d-24e7-48ca-b5f8-935dbecaecf2\":\"f8a4c2f9-f3d0-4a95-9799-7d184a65d31d\"},\"root_ids\":[\"a737e43d-24e7-48ca-b5f8-935dbecaecf2\"]}];\n",
       "  var docs = Object.values(docs_json)\n",
       "  if (!docs) {\n",
       "    return\n",
       "  }\n",
       "  const py_version = docs[0].version.replace('rc', '-rc.')\n",
       "  const is_dev = py_version.indexOf(\"+\") !== -1 || py_version.indexOf(\"-\") !== -1\n",
       "  function embed_document(root) {\n",
       "    var Bokeh = get_bokeh(root)\n",
       "    Bokeh.embed.embed_items_notebook(docs_json, render_items);\n",
       "    for (const render_item of render_items) {\n",
       "      for (const root_id of render_item.root_ids) {\n",
       "\tconst id_el = document.getElementById(root_id)\n",
       "\tif (id_el.children.length && (id_el.children[0].className === 'bk-root')) {\n",
       "\t  const root_el = id_el.children[0]\n",
       "\t  root_el.id = root_el.id + '-rendered'\n",
       "\t}\n",
       "      }\n",
       "    }\n",
       "  }\n",
       "  function get_bokeh(root) {\n",
       "    if (root.Bokeh === undefined) {\n",
       "      return null\n",
       "    } else if (root.Bokeh.version !== py_version && !is_dev) {\n",
       "      if (root.Bokeh.versions === undefined || !root.Bokeh.versions.has(py_version)) {\n",
       "\treturn null\n",
       "      }\n",
       "      return root.Bokeh.versions.get(py_version);\n",
       "    } else if (root.Bokeh.version === py_version) {\n",
       "      return root.Bokeh\n",
       "    }\n",
       "    return null\n",
       "  }\n",
       "  function is_loaded(root) {\n",
       "    var Bokeh = get_bokeh(root)\n",
       "    return (Bokeh != null && Bokeh.Panel !== undefined && ( root['vtk'] !== undefined) && ( root['vtk'] !== undefined))\n",
       "  }\n",
       "  if (is_loaded(root)) {\n",
       "    embed_document(root);\n",
       "  } else {\n",
       "    var attempts = 0;\n",
       "    var timer = setInterval(function(root) {\n",
       "      if (is_loaded(root)) {\n",
       "        clearInterval(timer);\n",
       "        embed_document(root);\n",
       "      } else if (document.readyState == \"complete\") {\n",
       "        attempts++;\n",
       "        if (attempts > 200) {\n",
       "          clearInterval(timer);\n",
       "\t  var Bokeh = get_bokeh(root)\n",
       "\t  if (Bokeh == null || Bokeh.Panel == null) {\n",
       "            console.warn(\"Panel: ERROR: Unable to run Panel code because Bokeh or Panel library is missing\");\n",
       "\t  } else {\n",
       "\t    console.warn(\"Panel: WARNING: Attempting to render but not all required libraries could be resolved.\")\n",
       "\t    embed_document(root)\n",
       "\t  }\n",
       "        }\n",
       "      }\n",
       "    }, 25, root)\n",
       "  }\n",
       "})(window);</script>"
      ]
     },
     "metadata": {
      "application/vnd.holoviews_exec.v0+json": {
       "id": "a737e43d-24e7-48ca-b5f8-935dbecaecf2"
      }
     },
     "output_type": "display_data"
    }
   ],
   "source": [
    "# General\n",
    "import os\n",
    "import sys\n",
    "import numpy as np\n",
    "import pandas as pd\n",
    "import csv\n",
    "import math\n",
    "from math import isnan\n",
    "import statistics\n",
    "import pingouin as pg\n",
    "import pickle\n",
    "\n",
    "# Computing / Analyses\n",
    "import scipy.io  # loadmat\n",
    "from scipy import stats\n",
    "import sklearn \n",
    "from brainstat.stats.terms import FixedEffect\n",
    "from brainstat.stats.SLM import SLM\n",
    "from statsmodels.stats.multitest import fdrcorrection # does not yield exactly the same FDR correction as R but the same up to 14th decimal place so good enough\n",
    "import statsmodels.regression.mixed_linear_model as sm\n",
    "\n",
    "# Visualisation\n",
    "import matplotlib.pyplot as plt \n",
    "import seaborn as sns\n",
    "import vtk\n",
    "from IPython.display import display\n",
    "import matplotlib.collections as clt\n",
    "import ptitprince as pt\n",
    "\n",
    "# Neuroimaging\n",
    "import nibabel\n",
    "import nilearn\n",
    "from brainstat.datasets import fetch_parcellation\n",
    "from enigmatoolbox.permutation_testing import spin_test, shuf_test\n",
    "\n",
    "# Gradients\n",
    "import brainspace\n",
    "from brainspace.datasets import load_parcellation, load_conte69\n",
    "from brainspace.plotting import plot_hemispheres\n",
    "from brainspace.gradient import GradientMaps\n",
    "from brainspace.utils.parcellation import map_to_labels"
   ]
  },
  {
   "cell_type": "markdown",
   "id": "7d92e286-fe90-4c89-96cb-74b6238388ff",
   "metadata": {
    "tags": []
   },
   "source": [
    "## Define directories"
   ]
  },
  {
   "cell_type": "code",
   "execution_count": 2,
   "id": "15078823-a780-4f42-b02f-5957f5e24188",
   "metadata": {},
   "outputs": [],
   "source": [
    "codedir = os.path.abspath('')  # obtain current direction from which script is runnning\n",
    "\n",
    "datadir = '/data/p_02667/sex_diff_gradients/data/'\n",
    "\n",
    "resdir_hcp = '/data/p_02667/sex_diff_gradients/results/HCP/SA/'\n",
    "resdir_fig = '/data/p_02667/sex_diff_gradients/results/figures/SA/'"
   ]
  },
  {
   "cell_type": "markdown",
   "id": "1275e352-c85c-46c9-8253-0611a4bf38cb",
   "metadata": {
    "tags": []
   },
   "source": [
    "## Import functions"
   ]
  },
  {
   "cell_type": "code",
   "execution_count": 3,
   "id": "8e588cd6-bf8d-4498-bcb4-d051ea823a2b",
   "metadata": {
    "tags": []
   },
   "outputs": [],
   "source": [
    "%run p1_myfunctions.ipynb"
   ]
  },
  {
   "cell_type": "markdown",
   "id": "06bc96d5-1f01-4572-b13a-9281fc2ddee3",
   "metadata": {
    "tags": []
   },
   "source": [
    "# Data "
   ]
  },
  {
   "cell_type": "markdown",
   "id": "add6a550-3472-45ce-a79c-c38684d533ca",
   "metadata": {},
   "source": [
    "## Import the Yeo 7 network coding for the Schaefer 400 parcellation scheme \n",
    "\n",
    "(i.e., which network each parcel belongs to)"
   ]
  },
  {
   "cell_type": "code",
   "execution_count": 4,
   "id": "b8ff8afa-b2a1-442c-8215-4b777f19361b",
   "metadata": {},
   "outputs": [],
   "source": [
    "# labels: 1=visual, 2=sensory motor, 3=dorsal attention, 4=ventral attention, 5=limbic, 6=fronto parietal, 7= DMN\n",
    "\n",
    "yeo7_networks_array = np.genfromtxt(datadir+'yeo_7.csv', delimiter=',', skip_header=0)"
   ]
  },
  {
   "cell_type": "code",
   "execution_count": 5,
   "id": "dad9cd31-745b-4c92-aff8-fa1977f6b49d",
   "metadata": {},
   "outputs": [
    {
     "name": "stderr",
     "output_type": "stream",
     "text": [
      "/data/u_serio_software/anaconda3/lib/python3.9/site-packages/brainspace/plotting/base.py:292: UserWarning: Support for interactive mode is only provided for a single renderer: 'nrow=1' and 'ncol=1'. Setting 'interactive=False'\n",
      "  warnings.warn(\"Support for interactive mode is only provided for \"\n"
     ]
    },
    {
     "data": {
      "image/png": "[encoded data removed]",
      "text/plain": [
       "<IPython.core.display.Image object>"
      ]
     },
     "execution_count": 5,
     "metadata": {},
     "output_type": "execute_result"
    }
   ],
   "source": [
    "# defining labeling scheme and mask\n",
    "labeling = load_parcellation('schaefer', scale=400, join=True)\n",
    "surf_lh, surf_rh = load_conte69()\n",
    "\n",
    "mask = labeling != 0\n",
    "\n",
    "networks = map_to_labels(yeo7_networks_array, labeling, mask=mask, fill=np.nan)  # mean_grad contains 10 .gradients_ (1 gradient per column) - here I take all rows and individual select column based on gradient I want (first 3)\n",
    "\n",
    "plot_hemispheres(surf_lh, surf_rh, array_name=networks, embed_nb = True, size=(1200, 200), cmap='Accent', color_bar=True, label_text=['Yeo 7 Networks'], zoom=1.55)\n",
    "\n",
    "\n",
    "## Network labels ('Accent' cmap):\n",
    "# 1 visual (green)\n",
    "# 2 sensory motor (purple)\n",
    "# 3 dorsal attention (beige)\n",
    "# 4 ventral attention (blue)\n",
    "# 5 limbic (fuchsia)\n",
    "# 6 fronto parietal (brown)\n",
    "# 7 DMN (grey)"
   ]
  },
  {
   "cell_type": "markdown",
   "id": "58b322e3-43aa-4674-9821-4cb9e848bb5f",
   "metadata": {},
   "source": [
    "This palette is to be used for every time that Yeo networks are displayed in color (except (a) for showing the networks plotted on the hemispheres - this dictionary doesn't work as cmap for plot_hemispheres; (b) the pie charts - dictionary format not recognized)"
   ]
  },
  {
   "cell_type": "code",
   "execution_count": 6,
   "id": "9e5e58dd-a0aa-4ead-b2c4-a28b71d04f53",
   "metadata": {},
   "outputs": [],
   "source": [
    "# original Yeo network colors\n",
    "palette_labeled_networks = {'DMN': 'indianred',  \n",
    "                            'dorsal attention' : 'forestgreen',  \n",
    "                            'fronto parietal' : 'orange',  \n",
    "                            'limbic' : 'lemonchiffon',  \n",
    "                            'sensory motor' : 'steelblue',\n",
    "                            'ventral attention' : 'orchid', \n",
    "                            'visual' : 'darkorchid'} "
   ]
  },
  {
   "cell_type": "markdown",
   "id": "6f455d16-707b-4cb1-b811-d52a7c7426ef",
   "metadata": {},
   "source": [
    "This is not needed for the raincloud plot, just for the scatterplot G1 v G2 displaying networks"
   ]
  },
  {
   "cell_type": "code",
   "execution_count": 7,
   "id": "cc1dc3fc-add5-4207-b50a-184186832ae5",
   "metadata": {},
   "outputs": [],
   "source": [
    "# making an array with yeo network labels (names instead of numbers)\n",
    "yeo7_networks_array_labels = []\n",
    "\n",
    "for i in yeo7_networks_array:\n",
    "    if i == 1:\n",
    "        yeo7_networks_array_labels.append('visual')\n",
    "    elif i == 2:\n",
    "        yeo7_networks_array_labels.append('sensory motor')\n",
    "    elif i == 3:\n",
    "        yeo7_networks_array_labels.append('dorsal attention')\n",
    "    elif i == 4:\n",
    "        yeo7_networks_array_labels.append('ventral attention')\n",
    "    elif i == 5:\n",
    "        yeo7_networks_array_labels.append('limbic')\n",
    "    elif i == 6:\n",
    "        yeo7_networks_array_labels.append('fronto parietal')\n",
    "    elif i == 7:\n",
    "        yeo7_networks_array_labels.append('DMN')\n",
    "\n",
    "yeo7_networks_array_labels = np.asarray(yeo7_networks_array_labels)"
   ]
  },
  {
   "cell_type": "code",
   "execution_count": 8,
   "id": "fb1217c5-0888-4393-befe-21cbd78e3213",
   "metadata": {},
   "outputs": [
    {
     "name": "stdout",
     "output_type": "stream",
     "text": [
      "Number of parcels in each Yeo network:\n",
      "- visual: 61\n",
      "- sensory motor: 77\n",
      "- dorsal attention: 46\n",
      "- ventral attention: 47\n",
      "- limbic: 26\n",
      "- fronto parietal: 53\n",
      "- DMN: 90\n"
     ]
    }
   ],
   "source": [
    "network_names = [\"visual\", \"sensory motor\", \"dorsal attention\", \"ventral attention\", \"limbic\", \"fronto parietal\", \"DMN\"]\n",
    "\n",
    "print(\"Number of parcels in each Yeo network:\")\n",
    "for i in range(len(network_names)):\n",
    "    print(f\"- {network_names[i]}: {yeo7_networks_array_labels.tolist().count(network_names[i])}\")"
   ]
  },
  {
   "cell_type": "markdown",
   "id": "83eb22dc-af1b-4bd2-9ef6-b1a9f647c015",
   "metadata": {
    "tags": []
   },
   "source": [
    "## Fetch fsaverage parcellation (20484 vertices) coded for Schaefer 400 parcels - for Spin permutation tests\n",
    "\n",
    "Spin permutation testing: https://enigma-toolbox.readthedocs.io/en/latest/pages/08.spintest/index.html -> requires data to be in fsaverage surface (not feasible with Schaefer parcellation)\n",
    "\n",
    "**NOTE: schaefer_400_fs5 == 0 corresponds to midline (labels go from 0-400) -> disregard 0 in calculations and plotting**"
   ]
  },
  {
   "cell_type": "code",
   "execution_count": 9,
   "id": "2f056c5b-02da-4fcc-8340-360b24e64a91",
   "metadata": {},
   "outputs": [],
   "source": [
    "# fetch the fsaverage parcellation labeling each of fsaverage5's 20484 vertices with its corresponding Schaefer parcel\n",
    "schaefer_400_fs5 = fetch_parcellation(\"fsaverage5\", \"schaefer\", 400)"
   ]
  },
  {
   "cell_type": "markdown",
   "id": "f14ab86c-2acc-4545-a115-0d870cf21887",
   "metadata": {
    "tags": []
   },
   "source": [
    "## Descriptive HCP"
   ]
  },
  {
   "cell_type": "code",
   "execution_count": 12,
   "id": "1fdff09e-8fd9-48d8-ae54-3cf7e040a602",
   "metadata": {},
   "outputs": [],
   "source": [
    "HCP_demographics_cleaned_final = pd.read_csv(resdir_hcp+'demographics_cleaned_final.csv') "
   ]
  },
  {
   "cell_type": "markdown",
   "id": "f4540551-d7b9-4633-8c1b-50ed643dad16",
   "metadata": {},
   "source": [
    "## FC G1 sex contrast t-values"
   ]
  },
  {
   "cell_type": "code",
   "execution_count": 37,
   "id": "64a56b37-7fb9-4783-8d21-f82029b412b5",
   "metadata": {
    "tags": []
   },
   "outputs": [],
   "source": [
    "# loading R results\n",
    "\n",
    "# HCP model: linear mixed effects model = Gradient_loadings ~ Sex + Age + tot_SA + random nested effect (family relatedness/twin status) \n",
    "R_lmer_hemi_fc_G1_sex_contrast_res = pd.read_csv(resdir_hcp+'R_lmer_hemi_fc_G1_sex_contrast_res.csv')  "
   ]
  },
  {
   "cell_type": "code",
   "execution_count": 38,
   "id": "f230f2ba-222d-4237-ab35-21a68ea705b8",
   "metadata": {},
   "outputs": [
    {
     "data": {
      "text/plain": [
       "0     -0.719723\n",
       "1     -4.147849\n",
       "2      0.329707\n",
       "3      0.116151\n",
       "4      0.758524\n",
       "         ...   \n",
       "395   -5.146640\n",
       "396   -0.811704\n",
       "397   -0.508172\n",
       "398   -2.551580\n",
       "399   -3.859678\n",
       "Name: t_val, Length: 400, dtype: float64"
      ]
     },
     "execution_count": 38,
     "metadata": {},
     "output_type": "execute_result"
    }
   ],
   "source": [
    "R_lmer_hemi_fc_G1_sex_contrast_res.t_val"
   ]
  },
  {
   "cell_type": "markdown",
   "id": "b4405782-c015-4f56-8ddd-56207cfc3483",
   "metadata": {},
   "source": [
    "### Project to fsaverage space for neuromaps analysis"
   ]
  },
  {
   "cell_type": "code",
   "execution_count": 18,
   "id": "a1e23f36-0678-4157-9493-7eb383972de3",
   "metadata": {},
   "outputs": [
    {
     "name": "stdout",
     "output_type": "stream",
     "text": [
      "Length of Schaefer400 data: 400\n"
     ]
    }
   ],
   "source": [
    "GSP_mean_grad = pd.read_csv(resdir+'GSP/mean_gradient_eigenvalues.csv')\n",
    "\n",
    "# labeling the gradients whereby for GSP: unimodal-heteromodal (G2), visual-sensorimotor (G1)\n",
    "GSP_mean_grad.columns = ['visual-sensorimotor', 'unimodal-heteromodal', 'G3', 'G4', 'G5', 'G6', 'G7', 'G8', 'G9', 'G10']\n",
    "\n",
    "print(f\"Length of Schaefer400 data: {len(GSP_mean_grad['unimodal-heteromodal'])}\")"
   ]
  },
  {
   "cell_type": "markdown",
   "id": "f4c68b15-600a-4a40-a8da-a165b8fccf69",
   "metadata": {},
   "source": [
    "Project unimodal-heteromodal gradient eigenvalues (from Schaefer 400 parcellation) to fsaverage5's 20484 vertices"
   ]
  },
  {
   "cell_type": "code",
   "execution_count": 40,
   "id": "0ad7a37a-f046-48db-9970-5a50997d9eb1",
   "metadata": {
    "tags": []
   },
   "outputs": [
    {
     "name": "stdout",
     "output_type": "stream",
     "text": [
      "Length of fsaverage5 data: 20484\n"
     ]
    }
   ],
   "source": [
    "R_lmer_hemi_fc_G1_sex_contrast_res_tval_fs5 = []\n",
    "\n",
    "# iterate over the 20484 vertices in fsaverage5\n",
    "for i in range(len(schaefer_400_fs5)):\n",
    "    \n",
    "    if schaefer_400_fs5[i] == 0:  # corresponds to the midline\n",
    "        # append to the lists of fs5_tvals: 0\n",
    "        R_lmer_hemi_fc_G1_sex_contrast_res_tval_fs5.append(0)\n",
    "        \n",
    "    else:\n",
    "        # append to the lists of fs5_tvals: the value of array being converted of the corresponding Schaefer parcel (here parcel value [i] - 1 because parcel numbers go from 1-400 instead of 0-399 as required for indexing)\n",
    "        R_lmer_hemi_fc_G1_sex_contrast_res_tval_fs5.append(R_lmer_hemi_fc_G1_sex_contrast_res.t_val[schaefer_400_fs5[i]-1])\n",
    "\n",
    "# change the zeros into nan (couldn't nan directly because then it made the array content strings\n",
    "R_lmer_hemi_fc_G1_sex_contrast_res_tval_fs5[R_lmer_hemi_fc_G1_sex_contrast_res_tval_fs5 == 0] = np.nan\n",
    "\n",
    "# transform list into array\n",
    "R_lmer_hemi_fc_G1_sex_contrast_res_tval_fs5 = np.asarray(R_lmer_hemi_fc_G1_sex_contrast_res_tval_fs5)\n",
    "\n",
    "\n",
    "print(f\"Length of fsaverage5 data: {len(R_lmer_hemi_fc_G1_sex_contrast_res_tval_fs5)}\")"
   ]
  },
  {
   "cell_type": "markdown",
   "id": "a5e6d608-5a38-4304-8695-00038c6912de",
   "metadata": {},
   "source": [
    "# Neuromaps decoding"
   ]
  },
  {
   "cell_type": "markdown",
   "id": "3d883603-50ee-4276-bc30-d08defac06ab",
   "metadata": {},
   "source": [
    "## Load neuromaps datasets"
   ]
  },
  {
   "cell_type": "code",
   "execution_count": null,
   "id": "1c6e7771-d932-42f3-ba77-aafdb8b76c3f",
   "metadata": {},
   "outputs": [],
   "source": [
    "import neuromaps\n",
    "from neuromaps.datasets import available_annotations\n",
    "from neuromaps.datasets import available_tags\n",
    "from neuromaps.datasets import fetch_annotation\n",
    "from neuromaps import transforms\n",
    "from neuromaps.resampling import resample_images"
   ]
  },
  {
   "cell_type": "markdown",
   "id": "c51fa9a5-cc4e-464b-8211-326a0b7eba8c",
   "metadata": {},
   "source": [
    "## Load neuromaps datasets"
   ]
  },
  {
   "cell_type": "markdown",
   "id": "64dcbb7f-3b2b-42d9-96cc-11e52ac2f511",
   "metadata": {},
   "source": [
    "### Browse available maps"
   ]
  },
  {
   "cell_type": "code",
   "execution_count": 16,
   "id": "7e2abe35-9dd5-4022-be42-366cf5d5f292",
   "metadata": {
    "scrolled": true,
    "tags": []
   },
   "outputs": [
    {
     "name": "stdout",
     "output_type": "stream",
     "text": [
      "('abagen', 'genepc1', 'fsaverage', '10k')\n",
      "('aghourian2017', 'feobv', 'MNI152', '1mm')\n",
      "('alarkurtti2015', 'raclopride', 'MNI152', '3mm')\n",
      "('bedard2019', 'feobv', 'MNI152', '1mm')\n",
      "('beliveau2017', 'az10419369', 'MNI152', '1mm')\n",
      "('beliveau2017', 'az10419369', 'fsaverage', '164k')\n",
      "('beliveau2017', 'cimbi36', 'MNI152', '1mm')\n",
      "('beliveau2017', 'cimbi36', 'fsaverage', '164k')\n",
      "('beliveau2017', 'cumi101', 'MNI152', '1mm')\n",
      "('beliveau2017', 'cumi101', 'fsaverage', '164k')\n",
      "('beliveau2017', 'dasb', 'MNI152', '1mm')\n",
      "('beliveau2017', 'dasb', 'fsaverage', '164k')\n",
      "('beliveau2017', 'sb207145', 'MNI152', '1mm')\n",
      "('beliveau2017', 'sb207145', 'fsaverage', '164k')\n",
      "('ding2010', 'mrb', 'MNI152', '1mm')\n",
      "('dubois2015', 'abp688', 'MNI152', '1mm')\n",
      "('dukart2018', 'flumazenil', 'MNI152', '3mm')\n",
      "('dukart2018', 'fpcit', 'MNI152', '3mm')\n",
      "('fazio2016', 'madam', 'MNI152', '3mm')\n",
      "('finnema2016', 'ucbj', 'MNI152', '1mm')\n",
      "('gallezot2010', 'p943', 'MNI152', '1mm')\n",
      "('gallezot2017', 'gsk189254', 'MNI152', '1mm')\n",
      "('hcps1200', 'megalpha', 'fsLR', '4k')\n",
      "('hcps1200', 'megbeta', 'fsLR', '4k')\n",
      "('hcps1200', 'megdelta', 'fsLR', '4k')\n",
      "('hcps1200', 'meggamma1', 'fsLR', '4k')\n",
      "('hcps1200', 'meggamma2', 'fsLR', '4k')\n",
      "('hcps1200', 'megtheta', 'fsLR', '4k')\n",
      "('hcps1200', 'megtimescale', 'fsLR', '4k')\n",
      "('hcps1200', 'myelinmap', 'fsLR', '32k')\n",
      "('hcps1200', 'thickness', 'fsLR', '32k')\n",
      "('hesse2017', 'methylreboxetine', 'MNI152', '3mm')\n",
      "('hill2010', 'devexp', 'fsLR', '164k')\n",
      "('hill2010', 'evoexp', 'fsLR', '164k')\n",
      "('hillmer2016', 'flubatine', 'MNI152', '1mm')\n",
      "('jaworska2020', 'fallypride', 'MNI152', '1mm')\n",
      "('kaller2017', 'sch23390', 'MNI152', '3mm')\n",
      "('kantonen2020', 'carfentanil', 'MNI152', '3mm')\n",
      "('laurikainen2018', 'fmpepd2', 'MNI152', '1mm')\n",
      "('margulies2016', 'fcgradient01', 'fsLR', '32k')\n",
      "('margulies2016', 'fcgradient02', 'fsLR', '32k')\n",
      "('margulies2016', 'fcgradient03', 'fsLR', '32k')\n",
      "('margulies2016', 'fcgradient04', 'fsLR', '32k')\n",
      "('margulies2016', 'fcgradient05', 'fsLR', '32k')\n",
      "('margulies2016', 'fcgradient06', 'fsLR', '32k')\n",
      "('margulies2016', 'fcgradient07', 'fsLR', '32k')\n",
      "('margulies2016', 'fcgradient08', 'fsLR', '32k')\n",
      "('margulies2016', 'fcgradient09', 'fsLR', '32k')\n",
      "('margulies2016', 'fcgradient10', 'fsLR', '32k')\n",
      "('mueller2013', 'intersubjvar', 'fsLR', '164k')\n",
      "('naganawa2020', 'lsn3172176', 'MNI152', '1mm')\n",
      "('neurosynth', 'cogpc1', 'MNI152', '2mm')\n",
      "('norgaard2021', 'flumazenil', 'MNI152', '1mm')\n",
      "('norgaard2021', 'flumazenil', 'fsaverage', '164k')\n",
      "('normandin2015', 'omar', 'MNI152', '1mm')\n",
      "('radnakrishnan2018', 'gsk215083', 'MNI152', '1mm')\n",
      "('raichle', 'cbf', 'fsLR', '164k')\n",
      "('raichle', 'cbv', 'fsLR', '164k')\n",
      "('raichle', 'cmr02', 'fsLR', '164k')\n",
      "('raichle', 'cmruglu', 'fsLR', '164k')\n",
      "('reardon2018', 'scalinghcp', 'civet', '41k')\n",
      "('reardon2018', 'scalingnih', 'civet', '41k')\n",
      "('reardon2018', 'scalingpnc', 'civet', '41k')\n",
      "('rosaneto', 'abp688', 'MNI152', '1mm')\n",
      "('sandiego2015', 'flb457', 'MNI152', '1mm')\n",
      "('sasaki2012', 'fepe2i', 'MNI152', '1mm')\n",
      "('satterthwaite2014', 'meancbf', 'MNI152', '1mm')\n",
      "('savli2012', 'altanserin', 'MNI152', '3mm')\n",
      "('savli2012', 'dasb', 'MNI152', '3mm')\n",
      "('savli2012', 'p943', 'MNI152', '3mm')\n",
      "('savli2012', 'way100635', 'MNI152', '3mm')\n",
      "('smart2019', 'abp688', 'MNI152', '1mm')\n",
      "('smith2017', 'flb457', 'MNI152', '1mm')\n",
      "('sydnor2021', 'SAaxis', 'fsLR', '32k')\n",
      "('tuominen', 'feobv', 'MNI152', '2mm')\n",
      "('turtonen2020', 'carfentanil', 'MNI152', '1mm')\n",
      "('xu2020', 'FChomology', 'fsLR', '32k')\n",
      "('xu2020', 'evoexp', 'fsLR', '32k')\n"
     ]
    }
   ],
   "source": [
    "for annotation in available_annotations():\n",
    "    print(annotation)"
   ]
  },
  {
   "cell_type": "code",
   "execution_count": 100,
   "id": "f3d7cc8e-5057-42b7-8791-da084403c4b6",
   "metadata": {},
   "outputs": [
    {
     "name": "stdout",
     "output_type": "stream",
     "text": [
      "['ASL', 'MEG', 'MRI', 'PET', 'fMRI', 'functional', 'genetics', 'meta-analysis', 'receptors', 'structural']\n"
     ]
    }
   ],
   "source": [
    "print(available_tags())"
   ]
  },
  {
   "cell_type": "code",
   "execution_count": 105,
   "id": "4203a68f-056d-4da8-a2b9-3a784c5899c5",
   "metadata": {},
   "outputs": [
    {
     "name": "stdout",
     "output_type": "stream",
     "text": [
      "('neurosynth', 'cogpc1', 'MNI152', '2mm')\n"
     ]
    }
   ],
   "source": [
    "for annotation in available_annotations(tags=['meta-analysis']):\n",
    "    print(annotation)"
   ]
  },
  {
   "cell_type": "code",
   "execution_count": 106,
   "id": "fc26e58a-a497-42ad-9d72-1910a844ea61",
   "metadata": {},
   "outputs": [
    {
     "name": "stdout",
     "output_type": "stream",
     "text": [
      "('abagen', 'genepc1', 'fsaverage', '10k')\n"
     ]
    }
   ],
   "source": [
    "for annotation in available_annotations(tags=['genetics']):\n",
    "    print(annotation)"
   ]
  },
  {
   "cell_type": "code",
   "execution_count": 119,
   "id": "4741d697-f7f9-433b-8cc5-01825d3bca87",
   "metadata": {},
   "outputs": [
    {
     "name": "stdout",
     "output_type": "stream",
     "text": [
      "('satterthwaite2014', 'meancbf', 'MNI152', '1mm')\n"
     ]
    }
   ],
   "source": [
    "for annotation in available_annotations(tags=['ASL']):\n",
    "    print(annotation)"
   ]
  },
  {
   "cell_type": "code",
   "execution_count": 122,
   "id": "210debaf-ac42-4c00-a3c7-9ed180c816dc",
   "metadata": {
    "scrolled": true,
    "tags": []
   },
   "outputs": [
    {
     "name": "stdout",
     "output_type": "stream",
     "text": [
      "('aghourian2017', 'feobv', 'MNI152', '1mm')\n",
      "('alarkurtti2015', 'raclopride', 'MNI152', '3mm')\n",
      "('bedard2019', 'feobv', 'MNI152', '1mm')\n",
      "('beliveau2017', 'az10419369', 'MNI152', '1mm')\n",
      "('beliveau2017', 'az10419369', 'fsaverage', '164k')\n",
      "('beliveau2017', 'cimbi36', 'MNI152', '1mm')\n",
      "('beliveau2017', 'cimbi36', 'fsaverage', '164k')\n",
      "('beliveau2017', 'cumi101', 'MNI152', '1mm')\n",
      "('beliveau2017', 'cumi101', 'fsaverage', '164k')\n",
      "('beliveau2017', 'dasb', 'MNI152', '1mm')\n",
      "('beliveau2017', 'dasb', 'fsaverage', '164k')\n",
      "('beliveau2017', 'sb207145', 'MNI152', '1mm')\n",
      "('beliveau2017', 'sb207145', 'fsaverage', '164k')\n",
      "('ding2010', 'mrb', 'MNI152', '1mm')\n",
      "('dubois2015', 'abp688', 'MNI152', '1mm')\n",
      "('dukart2018', 'flumazenil', 'MNI152', '3mm')\n",
      "('dukart2018', 'fpcit', 'MNI152', '3mm')\n",
      "('fazio2016', 'madam', 'MNI152', '3mm')\n",
      "('finnema2016', 'ucbj', 'MNI152', '1mm')\n",
      "('gallezot2010', 'p943', 'MNI152', '1mm')\n",
      "('gallezot2017', 'gsk189254', 'MNI152', '1mm')\n",
      "('hesse2017', 'methylreboxetine', 'MNI152', '3mm')\n",
      "('hillmer2016', 'flubatine', 'MNI152', '1mm')\n",
      "('jaworska2020', 'fallypride', 'MNI152', '1mm')\n",
      "('kaller2017', 'sch23390', 'MNI152', '3mm')\n",
      "('kantonen2020', 'carfentanil', 'MNI152', '3mm')\n",
      "('laurikainen2018', 'fmpepd2', 'MNI152', '1mm')\n",
      "('naganawa2020', 'lsn3172176', 'MNI152', '1mm')\n",
      "('norgaard2021', 'flumazenil', 'MNI152', '1mm')\n",
      "('norgaard2021', 'flumazenil', 'fsaverage', '164k')\n",
      "('normandin2015', 'omar', 'MNI152', '1mm')\n",
      "('radnakrishnan2018', 'gsk215083', 'MNI152', '1mm')\n",
      "('rosaneto', 'abp688', 'MNI152', '1mm')\n",
      "('sandiego2015', 'flb457', 'MNI152', '1mm')\n",
      "('sasaki2012', 'fepe2i', 'MNI152', '1mm')\n",
      "('savli2012', 'altanserin', 'MNI152', '3mm')\n",
      "('savli2012', 'dasb', 'MNI152', '3mm')\n",
      "('savli2012', 'p943', 'MNI152', '3mm')\n",
      "('savli2012', 'way100635', 'MNI152', '3mm')\n",
      "('smart2019', 'abp688', 'MNI152', '1mm')\n",
      "('smith2017', 'flb457', 'MNI152', '1mm')\n",
      "('tuominen', 'feobv', 'MNI152', '2mm')\n",
      "('turtonen2020', 'carfentanil', 'MNI152', '1mm')\n"
     ]
    }
   ],
   "source": [
    "for annotation in available_annotations(tags=['PET']):\n",
    "    print(annotation)"
   ]
  },
  {
   "cell_type": "code",
   "execution_count": 107,
   "id": "d2569a58-ae50-48d9-8ebc-82e655d33095",
   "metadata": {
    "scrolled": true,
    "tags": []
   },
   "outputs": [
    {
     "name": "stdout",
     "output_type": "stream",
     "text": [
      "('aghourian2017', 'feobv', 'MNI152', '1mm')\n",
      "('alarkurtti2015', 'raclopride', 'MNI152', '3mm')\n",
      "('bedard2019', 'feobv', 'MNI152', '1mm')\n",
      "('beliveau2017', 'az10419369', 'MNI152', '1mm')\n",
      "('beliveau2017', 'az10419369', 'fsaverage', '164k')\n",
      "('beliveau2017', 'cimbi36', 'MNI152', '1mm')\n",
      "('beliveau2017', 'cimbi36', 'fsaverage', '164k')\n",
      "('beliveau2017', 'cumi101', 'MNI152', '1mm')\n",
      "('beliveau2017', 'cumi101', 'fsaverage', '164k')\n",
      "('beliveau2017', 'dasb', 'MNI152', '1mm')\n",
      "('beliveau2017', 'dasb', 'fsaverage', '164k')\n",
      "('beliveau2017', 'sb207145', 'MNI152', '1mm')\n",
      "('beliveau2017', 'sb207145', 'fsaverage', '164k')\n",
      "('ding2010', 'mrb', 'MNI152', '1mm')\n",
      "('dubois2015', 'abp688', 'MNI152', '1mm')\n",
      "('dukart2018', 'flumazenil', 'MNI152', '3mm')\n",
      "('dukart2018', 'fpcit', 'MNI152', '3mm')\n",
      "('fazio2016', 'madam', 'MNI152', '3mm')\n",
      "('gallezot2010', 'p943', 'MNI152', '1mm')\n",
      "('gallezot2017', 'gsk189254', 'MNI152', '1mm')\n",
      "('hesse2017', 'methylreboxetine', 'MNI152', '3mm')\n",
      "('hillmer2016', 'flubatine', 'MNI152', '1mm')\n",
      "('jaworska2020', 'fallypride', 'MNI152', '1mm')\n",
      "('kaller2017', 'sch23390', 'MNI152', '3mm')\n",
      "('kantonen2020', 'carfentanil', 'MNI152', '3mm')\n",
      "('laurikainen2018', 'fmpepd2', 'MNI152', '1mm')\n",
      "('naganawa2020', 'lsn3172176', 'MNI152', '1mm')\n",
      "('norgaard2021', 'flumazenil', 'MNI152', '1mm')\n",
      "('norgaard2021', 'flumazenil', 'fsaverage', '164k')\n",
      "('normandin2015', 'omar', 'MNI152', '1mm')\n",
      "('radnakrishnan2018', 'gsk215083', 'MNI152', '1mm')\n",
      "('rosaneto', 'abp688', 'MNI152', '1mm')\n",
      "('sandiego2015', 'flb457', 'MNI152', '1mm')\n",
      "('sasaki2012', 'fepe2i', 'MNI152', '1mm')\n",
      "('savli2012', 'altanserin', 'MNI152', '3mm')\n",
      "('savli2012', 'dasb', 'MNI152', '3mm')\n",
      "('savli2012', 'p943', 'MNI152', '3mm')\n",
      "('savli2012', 'way100635', 'MNI152', '3mm')\n",
      "('smart2019', 'abp688', 'MNI152', '1mm')\n",
      "('smith2017', 'flb457', 'MNI152', '1mm')\n",
      "('tuominen', 'feobv', 'MNI152', '2mm')\n",
      "('turtonen2020', 'carfentanil', 'MNI152', '1mm')\n"
     ]
    }
   ],
   "source": [
    "for annotation in available_annotations(tags=['receptors']):\n",
    "    print(annotation)"
   ]
  },
  {
   "cell_type": "code",
   "execution_count": 108,
   "id": "dd483fbe-a27e-4db5-921c-e5d52396c00d",
   "metadata": {},
   "outputs": [
    {
     "name": "stdout",
     "output_type": "stream",
     "text": [
      "('hcps1200', 'myelinmap', 'fsLR', '32k')\n",
      "('hcps1200', 'thickness', 'fsLR', '32k')\n",
      "('hill2010', 'devexp', 'fsLR', '164k')\n",
      "('hill2010', 'evoexp', 'fsLR', '164k')\n",
      "('neurosynth', 'cogpc1', 'MNI152', '2mm')\n",
      "('reardon2018', 'scalinghcp', 'civet', '41k')\n",
      "('reardon2018', 'scalingnih', 'civet', '41k')\n",
      "('reardon2018', 'scalingpnc', 'civet', '41k')\n",
      "('xu2020', 'evoexp', 'fsLR', '32k')\n"
     ]
    }
   ],
   "source": [
    "for annotation in available_annotations(tags=['structural']):\n",
    "    print(annotation)"
   ]
  },
  {
   "cell_type": "markdown",
   "id": "5c1dc19d-3f8b-4fe4-a704-cd04f6976b5f",
   "metadata": {},
   "source": [
    "### Selecting maps of interest"
   ]
  },
  {
   "cell_type": "code",
   "execution_count": 286,
   "id": "8dab7230-d05a-4bf4-9122-b3cf826ea9f6",
   "metadata": {},
   "outputs": [],
   "source": [
    "# when there are multiple maps under the same source, fetch annotation loads all in 1 dictionary so need to index the one I want\n",
    "\n",
    "neurosynth = fetch_annotation(source='neurosynth')\n",
    "abagen = fetch_annotation(source='abagen')\n",
    "cbf = fetch_annotation(source='satterthwaite2014')  \n",
    "dopa = fetch_annotation(source='alarkurtti2015')\n",
    "acetylcholine = fetch_annotation(source='bedard2019')\n",
    "sert = fetch_annotation(source='beliveau2017')[('beliveau2017', 'dasb', 'fsaverage', '164k')]\n",
    "norepinephrin = fetch_annotation(source='ding2010')\n",
    "glucose = fetch_annotation(source='dubois2015')\n",
    "\n",
    "devexp = fetch_annotation(source='hill2010')[('hill2010', 'devexp', 'fsLR', '164k')]  # note that map only has data for right hemisphere\n",
    "evoexp = fetch_annotation(source='hill2010')[('hill2010', 'evoexp', 'fsLR',  '164k')]  # note that map only has data for right hemisphere"
   ]
  },
  {
   "cell_type": "markdown",
   "id": "bcf8458c-1a88-48c9-b454-c46022128165",
   "metadata": {},
   "source": [
    "### Transforming maps to fsaverage space"
   ]
  },
  {
   "cell_type": "markdown",
   "id": "9057ca60-17ed-4f9d-be94-aad9ab988a70",
   "metadata": {},
   "source": [
    "#### One at the time"
   ]
  },
  {
   "cell_type": "raw",
   "id": "33dc287d-5e99-4628-9dfd-55259f4d33af",
   "metadata": {},
   "source": [
    "neurosynth_fsaverage = transforms.mni152_to_fsaverage(neurosynth, '10k')\n",
    "\n",
    "# get the data loaded on left and right hemispheres (GIFTY images)\n",
    "neurosynth_fsaverage_lh, neurosynth_fsaverage_rh = neurosynth_fsaverage\n",
    "\n",
    "# concatenate left and right hemispheres (using agg_data() to obtain data values from GIFTY images in numpy array)\n",
    "neurosynth_fsaverage_wb = np.concatenate((neurosynth_fsaverage_lh.agg_data(), neurosynth_fsaverage_rh.agg_data()))"
   ]
  },
  {
   "cell_type": "markdown",
   "id": "8b72c4e2-e3aa-45da-be52-991a7670f4d7",
   "metadata": {},
   "source": [
    "#### Resample to common space (2 at the same time)"
   ]
  },
  {
   "cell_type": "code",
   "execution_count": 201,
   "id": "f50c2f3d-3832-4eeb-a118-e731794dd156",
   "metadata": {},
   "outputs": [],
   "source": [
    "neurosynth_fsaverage, abagen_fsaverage = resample_images(src=neurosynth, trg=abagen,\n",
    "                                    src_space='MNI152', trg_space='fsaverage',\n",
    "                                    method='linear', resampling='transform_to_alt',\n",
    "                                    alt_spec=('fsaverage', '10k'))  # specifies the target coordinate system and density"
   ]
  },
  {
   "cell_type": "code",
   "execution_count": 152,
   "id": "9de18550-8efe-4ee4-828b-e531c7357f98",
   "metadata": {},
   "outputs": [],
   "source": [
    "cbf_fsaverage, dopa_fsaverage = resample_images(src=cbf, trg=dopa,\n",
    "                                    src_space='MNI152', trg_space='MNI152',\n",
    "                                    method='linear', resampling='transform_to_alt',\n",
    "                                    alt_spec=('fsaverage', '10k'))  # specifies the target coordinate system and density"
   ]
  },
  {
   "cell_type": "code",
   "execution_count": 153,
   "id": "a6354882-41a0-483e-bad7-ce2fa00da239",
   "metadata": {},
   "outputs": [
    {
     "name": "stderr",
     "output_type": "stream",
     "text": [
      "pixdim[0] (qfac) should be 1 (default) or -1; setting qfac to 1\n"
     ]
    },
    {
     "name": "stdout",
     "output_type": "stream",
     "text": [
      "2023-07-04 12:10:37,598 - nibabel.global - INFO - pixdim[0] (qfac) should be 1 (default) or -1; setting qfac to 1\n"
     ]
    }
   ],
   "source": [
    "acetylcholine_fsaverage, sert_fsaverage = resample_images(src=acetylcholine, trg=sert,\n",
    "                                    src_space='MNI152', trg_space='fsaverage',\n",
    "                                    method='linear', resampling='transform_to_alt',\n",
    "                                    alt_spec=('fsaverage', '10k'))  # specifies the target coordinate system and density"
   ]
  },
  {
   "cell_type": "code",
   "execution_count": 154,
   "id": "02f0806b-957d-418f-bd09-5b9814ac8691",
   "metadata": {},
   "outputs": [
    {
     "name": "stderr",
     "output_type": "stream",
     "text": [
      "pixdim[0] (qfac) should be 1 (default) or -1; setting qfac to 1\n"
     ]
    },
    {
     "name": "stdout",
     "output_type": "stream",
     "text": [
      "2023-07-04 12:10:42,544 - nibabel.global - INFO - pixdim[0] (qfac) should be 1 (default) or -1; setting qfac to 1\n"
     ]
    }
   ],
   "source": [
    "norepinephrin_fsaverage, glucose_fsaverage = resample_images(src=norepinephrin, trg=glucose,\n",
    "                                    src_space='MNI152', trg_space='MNI152',\n",
    "                                    method='linear', resampling='transform_to_alt',\n",
    "                                    alt_spec=('fsaverage', '10k'))  # specifies the target coordinate system and density"
   ]
  },
  {
   "cell_type": "code",
   "execution_count": 203,
   "id": "bce26211-c57a-45ff-95a9-639d01c9d194",
   "metadata": {},
   "outputs": [],
   "source": [
    "devexp_fsaverage_rh, evoexp_fsaverage_rh = resample_images(src=devexp, trg=evoexp,\n",
    "                                    src_space='fsLR', trg_space='fsLR',\n",
    "                                    method='linear', resampling='transform_to_alt',\n",
    "                                    hemi='R',\n",
    "                                    alt_spec=('fsaverage', '10k'))  # specifies the target coordinate system and density"
   ]
  },
  {
   "cell_type": "code",
   "execution_count": 204,
   "id": "102f8114-f065-4be6-a30b-2f9d8742a935",
   "metadata": {},
   "outputs": [],
   "source": [
    "# get the data loaded on left and right hemispheres (GIFTY images)\n",
    "neurosynth_fsaverage_lh, neurosynth_fsaverage_rh = neurosynth_fsaverage\n",
    "abagen_fsaverage_lh, abagen_fsaverage_rh = abagen_fsaverage\n",
    "cbf_fsaverage_lh, cbf_fsaverage_rh = cbf_fsaverage\n",
    "dopa_fsaverage_lh, dopa_fsaverage_rh = dopa_fsaverage\n",
    "acetylcholine_fsaverage_lh, acetylcholine_fsaverage_rh = acetylcholine_fsaverage\n",
    "sert_fsaverage_lh, sert_fsaverage_rh = sert_fsaverage\n",
    "norepinephrin_fsaverage_lh, norepinephrin_fsaverage_rh = norepinephrin_fsaverage\n",
    "glucose_fsaverage_lh, glucose_fsaverage_rh = glucose_fsaverage\n",
    "\n",
    "# concatenate left and right hemispheres (using agg_data() to obtain data values from GIFTY images in numpy array)\n",
    "neurosynth_fsaverage_wb = np.concatenate((neurosynth_fsaverage_lh.agg_data(), neurosynth_fsaverage_rh.agg_data()))\n",
    "abagen_fsaverage_wb = np.concatenate((abagen_fsaverage_lh.agg_data(), abagen_fsaverage_rh.agg_data()))\n",
    "cbf_fsaverage_wb = np.concatenate((cbf_fsaverage_lh.agg_data(), cbf_fsaverage_rh.agg_data()))\n",
    "dopa_fsaverage_wb = np.concatenate((dopa_fsaverage_lh.agg_data(), dopa_fsaverage_rh.agg_data()))\n",
    "acetylcholine_fsaverage_wb = np.concatenate((acetylcholine_fsaverage_lh.agg_data(), acetylcholine_fsaverage_rh.agg_data()))\n",
    "sert_fsaverage_wb = np.concatenate((sert_fsaverage_lh.agg_data(), sert_fsaverage_rh.agg_data()))\n",
    "norepinephrin_fsaverage_wb = np.concatenate((norepinephrin_fsaverage_lh.agg_data(), norepinephrin_fsaverage_rh.agg_data()))\n",
    "glucose_fsaverage_wb = np.concatenate((glucose_fsaverage_lh.agg_data(), glucose_fsaverage_rh.agg_data()))\n",
    "\n",
    "\n",
    "# only right hemispheres - still need to get the data values from GIFTY images (but no concatenation of hemispheres)\n",
    "devexp_fsaverage_rh = devexp_fsaverage_rh[0].agg_data()\n",
    "evoexp_fsaverage_rh = evoexp_fsaverage_rh[0].agg_data()"
   ]
  },
  {
   "cell_type": "markdown",
   "id": "a9048cc3-0692-466c-8cdf-9011a3de2967",
   "metadata": {},
   "source": [
    "## Analyses: associations of t-values sex contrast FC G1 with neuromaps"
   ]
  },
  {
   "cell_type": "code",
   "execution_count": 205,
   "id": "46768c72-43d6-4fc0-a0f1-38c9d2bbb565",
   "metadata": {},
   "outputs": [
    {
     "name": "stdout",
     "output_type": "stream",
     "text": [
      "Bonferroni corection threshold: 0.005\n"
     ]
    }
   ],
   "source": [
    "print(f\"Bonferroni corection threshold: {0.05/10}\")"
   ]
  },
  {
   "cell_type": "markdown",
   "id": "f4dea6d4-2697-4f3d-8208-167a086e1e1c",
   "metadata": {},
   "source": [
    "### Values that will go into results dataframe"
   ]
  },
  {
   "cell_type": "code",
   "execution_count": 254,
   "id": "f3611bd5-a853-4d79-a939-d5aa4187c773",
   "metadata": {},
   "outputs": [],
   "source": [
    "neuromap = []\n",
    "r_vals = []\n",
    "p_vals = []"
   ]
  },
  {
   "cell_type": "markdown",
   "id": "34636668-5cb8-4cd1-a42d-4b1d7d371400",
   "metadata": {},
   "source": [
    "### Neurosynth"
   ]
  },
  {
   "cell_type": "code",
   "execution_count": 255,
   "id": "c9a2fdb5-98bb-421c-9bbd-ce7f3130c154",
   "metadata": {},
   "outputs": [
    {
     "data": {
      "text/plain": [
       "SpearmanrResult(correlation=0.023635105950911724, pvalue=0.0007172609324970813)"
      ]
     },
     "execution_count": 255,
     "metadata": {},
     "output_type": "execute_result"
    }
   ],
   "source": [
    "neuromap.append('neurosynth')\n",
    "r_vals.append(stats.spearmanr(R_lmer_hemi_fc_G1_sex_contrast_res_tval_fs5, neurosynth_fsaverage_wb, nan_policy='omit')[0])\n",
    "p_vals.append(stats.spearmanr(R_lmer_hemi_fc_G1_sex_contrast_res_tval_fs5, neurosynth_fsaverage_wb, nan_policy='omit')[1])\n",
    "stats.spearmanr(R_lmer_hemi_fc_G1_sex_contrast_res_tval_fs5, neurosynth_fsaverage_wb, nan_policy='omit')"
   ]
  },
  {
   "cell_type": "code",
   "execution_count": 223,
   "id": "1b4d6330-576a-4008-9f74-f2482c7f30b9",
   "metadata": {},
   "outputs": [
    {
     "name": "stdout",
     "output_type": "stream",
     "text": [
      "permutation 100 of 1000\n",
      "permutation 200 of 1000\n",
      "permutation 300 of 1000\n",
      "permutation 400 of 1000\n",
      "permutation 500 of 1000\n",
      "permutation 600 of 1000\n",
      "permutation 700 of 1000\n",
      "permutation 800 of 1000\n",
      "permutation 900 of 1000\n",
      "permutation 1000 of 1000\n",
      "Spin permutation test p-value: 0.046\n"
     ]
    },
    {
     "data": {
      "image/png": "[encoded data removed]",
      "text/plain": [
       "<Figure size 1080x216 with 1 Axes>"
      ]
     },
     "metadata": {
      "needs_background": "light"
     },
     "output_type": "display_data"
    }
   ],
   "source": [
    "SpinPermutationTest_Schaefer400(x = R_lmer_hemi_fc_G1_sex_contrast_res_tval_fs5, y = neurosynth_fsaverage_wb, correlation_type = 'spearman')"
   ]
  },
  {
   "cell_type": "markdown",
   "id": "580524d4-a2cb-4643-b78e-4bb5440c5152",
   "metadata": {},
   "source": [
    "### Abagen"
   ]
  },
  {
   "cell_type": "code",
   "execution_count": 256,
   "id": "d1bb89d3-3b0f-421d-9e84-6ac32402dc17",
   "metadata": {},
   "outputs": [
    {
     "data": {
      "text/plain": [
       "SpearmanrResult(correlation=-0.12662605613581857, pvalue=1.0017781604157069e-66)"
      ]
     },
     "execution_count": 256,
     "metadata": {},
     "output_type": "execute_result"
    }
   ],
   "source": [
    "neuromap.append('abagen')\n",
    "r_vals.append(stats.spearmanr(R_lmer_hemi_fc_G1_sex_contrast_res_tval_fs5, abagen_fsaverage_wb, nan_policy='omit')[0])\n",
    "p_vals.append(stats.spearmanr(R_lmer_hemi_fc_G1_sex_contrast_res_tval_fs5, abagen_fsaverage_wb, nan_policy='omit')[1])\n",
    "stats.spearmanr(R_lmer_hemi_fc_G1_sex_contrast_res_tval_fs5, abagen_fsaverage_wb, nan_policy='omit')"
   ]
  },
  {
   "cell_type": "code",
   "execution_count": 163,
   "id": "63dc7a5c-df9a-4baf-a03a-6759c93049ea",
   "metadata": {},
   "outputs": [
    {
     "name": "stdout",
     "output_type": "stream",
     "text": [
      "permutation 100 of 1000\n",
      "permutation 200 of 1000\n",
      "permutation 300 of 1000\n",
      "permutation 400 of 1000\n",
      "permutation 500 of 1000\n",
      "permutation 600 of 1000\n",
      "permutation 700 of 1000\n",
      "permutation 800 of 1000\n",
      "permutation 900 of 1000\n",
      "permutation 1000 of 1000\n",
      "Spin permutation test p-value: 0.0125\n"
     ]
    },
    {
     "data": {
      "image/png": "[encoded data removed]",
      "text/plain": [
       "<Figure size 1080x216 with 1 Axes>"
      ]
     },
     "metadata": {
      "needs_background": "light"
     },
     "output_type": "display_data"
    }
   ],
   "source": [
    "SpinPermutationTest_Schaefer400(x = R_lmer_hemi_fc_G1_sex_contrast_res_tval_fs5, y = abagen_fsaverage_wb, correlation_type = 'spearman')"
   ]
  },
  {
   "cell_type": "markdown",
   "id": "b7457cba-30f0-428c-a72f-af8b702fc428",
   "metadata": {},
   "source": [
    "### CBF"
   ]
  },
  {
   "cell_type": "code",
   "execution_count": 257,
   "id": "94f763aa-fbca-49f2-af87-ba57e5014e7b",
   "metadata": {},
   "outputs": [
    {
     "data": {
      "text/plain": [
       "SpearmanrResult(correlation=0.35221869679725354, pvalue=0.0)"
      ]
     },
     "execution_count": 257,
     "metadata": {},
     "output_type": "execute_result"
    }
   ],
   "source": [
    "neuromap.append('cbf')\n",
    "r_vals.append(stats.spearmanr(R_lmer_hemi_fc_G1_sex_contrast_res_tval_fs5, cbf_fsaverage_wb, nan_policy='omit')[0])\n",
    "p_vals.append(stats.spearmanr(R_lmer_hemi_fc_G1_sex_contrast_res_tval_fs5, cbf_fsaverage_wb, nan_policy='omit')[1])\n",
    "stats.spearmanr(R_lmer_hemi_fc_G1_sex_contrast_res_tval_fs5, cbf_fsaverage_wb, nan_policy='omit')"
   ]
  },
  {
   "cell_type": "code",
   "execution_count": 165,
   "id": "e1f76a0f-93cc-414e-9e32-977e3f65f8ff",
   "metadata": {},
   "outputs": [
    {
     "name": "stdout",
     "output_type": "stream",
     "text": [
      "permutation 100 of 1000\n",
      "permutation 200 of 1000\n",
      "permutation 300 of 1000\n",
      "permutation 400 of 1000\n",
      "permutation 500 of 1000\n",
      "permutation 600 of 1000\n",
      "permutation 700 of 1000\n",
      "permutation 800 of 1000\n",
      "permutation 900 of 1000\n",
      "permutation 1000 of 1000\n",
      "Spin permutation test p-value: 0.0135\n"
     ]
    },
    {
     "data": {
      "image/png": "[encoded data removed]",
      "text/plain": [
       "<Figure size 1080x216 with 1 Axes>"
      ]
     },
     "metadata": {
      "needs_background": "light"
     },
     "output_type": "display_data"
    }
   ],
   "source": [
    "SpinPermutationTest_Schaefer400(x = R_lmer_hemi_fc_G1_sex_contrast_res_tval_fs5, y = cbf_fsaverage_wb, correlation_type = 'spearman')"
   ]
  },
  {
   "cell_type": "markdown",
   "id": "3b41f360-491e-4cbc-95ab-2116be473b1d",
   "metadata": {},
   "source": [
    "### Dopamine"
   ]
  },
  {
   "cell_type": "code",
   "execution_count": 258,
   "id": "ba55145e-0f62-4a9c-88f5-9016eef3f75d",
   "metadata": {},
   "outputs": [
    {
     "data": {
      "text/plain": [
       "SpearmanrResult(correlation=0.1274043840173844, pvalue=7.210485403416565e-75)"
      ]
     },
     "execution_count": 258,
     "metadata": {},
     "output_type": "execute_result"
    }
   ],
   "source": [
    "neuromap.append('dopamine')\n",
    "r_vals.append(stats.spearmanr(R_lmer_hemi_fc_G1_sex_contrast_res_tval_fs5, dopa_fsaverage_wb, nan_policy='omit')[0])\n",
    "p_vals.append(stats.spearmanr(R_lmer_hemi_fc_G1_sex_contrast_res_tval_fs5, dopa_fsaverage_wb, nan_policy='omit')[1])\n",
    "stats.spearmanr(R_lmer_hemi_fc_G1_sex_contrast_res_tval_fs5, dopa_fsaverage_wb, nan_policy='omit')"
   ]
  },
  {
   "cell_type": "code",
   "execution_count": 167,
   "id": "82481ac0-c5da-4113-9611-21bb29ae61ac",
   "metadata": {},
   "outputs": [
    {
     "name": "stdout",
     "output_type": "stream",
     "text": [
      "permutation 100 of 1000\n",
      "permutation 200 of 1000\n",
      "permutation 300 of 1000\n",
      "permutation 400 of 1000\n",
      "permutation 500 of 1000\n",
      "permutation 600 of 1000\n",
      "permutation 700 of 1000\n",
      "permutation 800 of 1000\n",
      "permutation 900 of 1000\n",
      "permutation 1000 of 1000\n",
      "Spin permutation test p-value: 0.4615\n"
     ]
    },
    {
     "data": {
      "image/png": "[encoded data removed]",
      "text/plain": [
       "<Figure size 1080x216 with 1 Axes>"
      ]
     },
     "metadata": {
      "needs_background": "light"
     },
     "output_type": "display_data"
    }
   ],
   "source": [
    "SpinPermutationTest_Schaefer400(x = R_lmer_hemi_fc_G1_sex_contrast_res_tval_fs5, y = dopa_fsaverage_wb, correlation_type = 'spearman')"
   ]
  },
  {
   "cell_type": "markdown",
   "id": "8c0dae09-a18b-4e20-bf06-a7fad15abd03",
   "metadata": {},
   "source": [
    "### Acetylcholine"
   ]
  },
  {
   "cell_type": "code",
   "execution_count": 259,
   "id": "c326d4c0-4b8e-4cf5-8b71-67cc334d3b05",
   "metadata": {},
   "outputs": [
    {
     "data": {
      "text/plain": [
       "SpearmanrResult(correlation=0.12267946284331986, pvalue=1.6328104985290438e-69)"
      ]
     },
     "execution_count": 259,
     "metadata": {},
     "output_type": "execute_result"
    }
   ],
   "source": [
    "neuromap.append('acetylcholine')\n",
    "r_vals.append(stats.spearmanr(R_lmer_hemi_fc_G1_sex_contrast_res_tval_fs5, acetylcholine_fsaverage_wb, nan_policy='omit')[0])\n",
    "p_vals.append(stats.spearmanr(R_lmer_hemi_fc_G1_sex_contrast_res_tval_fs5, acetylcholine_fsaverage_wb, nan_policy='omit')[1])\n",
    "stats.spearmanr(R_lmer_hemi_fc_G1_sex_contrast_res_tval_fs5, acetylcholine_fsaverage_wb, nan_policy='omit')"
   ]
  },
  {
   "cell_type": "code",
   "execution_count": 169,
   "id": "c15bed4e-1cea-4094-931b-bed384f8356c",
   "metadata": {},
   "outputs": [
    {
     "name": "stdout",
     "output_type": "stream",
     "text": [
      "permutation 100 of 1000\n",
      "permutation 200 of 1000\n",
      "permutation 300 of 1000\n",
      "permutation 400 of 1000\n",
      "permutation 500 of 1000\n",
      "permutation 600 of 1000\n",
      "permutation 700 of 1000\n",
      "permutation 800 of 1000\n",
      "permutation 900 of 1000\n",
      "permutation 1000 of 1000\n",
      "Spin permutation test p-value: 0.1645\n"
     ]
    },
    {
     "data": {
      "image/png": "[encoded data removed]",
      "text/plain": [
       "<Figure size 1080x216 with 1 Axes>"
      ]
     },
     "metadata": {
      "needs_background": "light"
     },
     "output_type": "display_data"
    }
   ],
   "source": [
    "SpinPermutationTest_Schaefer400(x = R_lmer_hemi_fc_G1_sex_contrast_res_tval_fs5, y = acetylcholine_fsaverage_wb, correlation_type = 'spearman')"
   ]
  },
  {
   "cell_type": "markdown",
   "id": "c002b18c-f15d-4085-9361-a2f3dff82a9a",
   "metadata": {},
   "source": [
    "### Serotonin transporter"
   ]
  },
  {
   "cell_type": "code",
   "execution_count": 260,
   "id": "a430967a-e207-4ae9-bfc5-aca19cff8bf8",
   "metadata": {},
   "outputs": [
    {
     "data": {
      "text/plain": [
       "SpearmanrResult(correlation=0.03190882240817313, pvalue=4.932516434127591e-06)"
      ]
     },
     "execution_count": 260,
     "metadata": {},
     "output_type": "execute_result"
    }
   ],
   "source": [
    "neuromap.append('serotonin')\n",
    "r_vals.append(stats.spearmanr(R_lmer_hemi_fc_G1_sex_contrast_res_tval_fs5, sert_fsaverage_wb, nan_policy='omit')[0])\n",
    "p_vals.append(stats.spearmanr(R_lmer_hemi_fc_G1_sex_contrast_res_tval_fs5, sert_fsaverage_wb, nan_policy='omit')[1])\n",
    "stats.spearmanr(R_lmer_hemi_fc_G1_sex_contrast_res_tval_fs5, sert_fsaverage_wb, nan_policy='omit')"
   ]
  },
  {
   "cell_type": "code",
   "execution_count": 171,
   "id": "54aa1f58-da05-460c-be81-58591b1d8d16",
   "metadata": {},
   "outputs": [
    {
     "name": "stdout",
     "output_type": "stream",
     "text": [
      "permutation 100 of 1000\n",
      "permutation 200 of 1000\n",
      "permutation 300 of 1000\n",
      "permutation 400 of 1000\n",
      "permutation 500 of 1000\n",
      "permutation 600 of 1000\n",
      "permutation 700 of 1000\n",
      "permutation 800 of 1000\n",
      "permutation 900 of 1000\n",
      "permutation 1000 of 1000\n",
      "Spin permutation test p-value: 0.2425\n"
     ]
    },
    {
     "data": {
      "image/png": "[encoded data removed]",
      "text/plain": [
       "<Figure size 1080x216 with 1 Axes>"
      ]
     },
     "metadata": {
      "needs_background": "light"
     },
     "output_type": "display_data"
    }
   ],
   "source": [
    "SpinPermutationTest_Schaefer400(x = R_lmer_hemi_fc_G1_sex_contrast_res_tval_fs5, y = sert_fsaverage_wb, correlation_type = 'spearman')"
   ]
  },
  {
   "cell_type": "markdown",
   "id": "eb4839d3-498e-4747-a386-62174041d515",
   "metadata": {},
   "source": [
    "### Norepinephrin"
   ]
  },
  {
   "cell_type": "code",
   "execution_count": 261,
   "id": "cd0fc53d-d2d8-46db-aa83-59663a5b1cea",
   "metadata": {},
   "outputs": [
    {
     "data": {
      "text/plain": [
       "SpearmanrResult(correlation=0.02629108622579683, pvalue=0.00016777283948677215)"
      ]
     },
     "execution_count": 261,
     "metadata": {},
     "output_type": "execute_result"
    }
   ],
   "source": [
    "neuromap.append('norepinephrin')\n",
    "r_vals.append(stats.spearmanr(R_lmer_hemi_fc_G1_sex_contrast_res_tval_fs5, norepinephrin_fsaverage_wb, nan_policy='omit')[0])\n",
    "p_vals.append(stats.spearmanr(R_lmer_hemi_fc_G1_sex_contrast_res_tval_fs5, norepinephrin_fsaverage_wb, nan_policy='omit')[1])\n",
    "stats.spearmanr(R_lmer_hemi_fc_G1_sex_contrast_res_tval_fs5, norepinephrin_fsaverage_wb, nan_policy='omit')"
   ]
  },
  {
   "cell_type": "code",
   "execution_count": 173,
   "id": "d92834f8-29b3-470b-9b68-f92bde23cf55",
   "metadata": {},
   "outputs": [
    {
     "name": "stdout",
     "output_type": "stream",
     "text": [
      "permutation 100 of 1000\n",
      "permutation 200 of 1000\n",
      "permutation 300 of 1000\n",
      "permutation 400 of 1000\n",
      "permutation 500 of 1000\n",
      "permutation 600 of 1000\n",
      "permutation 700 of 1000\n",
      "permutation 800 of 1000\n",
      "permutation 900 of 1000\n",
      "permutation 1000 of 1000\n",
      "Spin permutation test p-value: 0.1815\n"
     ]
    },
    {
     "data": {
      "image/png": "[encoded data removed]",
      "text/plain": [
       "<Figure size 1080x216 with 1 Axes>"
      ]
     },
     "metadata": {
      "needs_background": "light"
     },
     "output_type": "display_data"
    }
   ],
   "source": [
    "SpinPermutationTest_Schaefer400(x = R_lmer_hemi_fc_G1_sex_contrast_res_tval_fs5, y = norepinephrin_fsaverage_wb, correlation_type = 'spearman')"
   ]
  },
  {
   "cell_type": "markdown",
   "id": "8df1eb87-4018-46c6-afdf-31c84d321717",
   "metadata": {},
   "source": [
    "### Glucose"
   ]
  },
  {
   "cell_type": "code",
   "execution_count": 262,
   "id": "5ac0da6b-fb76-4587-be32-515ecad54725",
   "metadata": {},
   "outputs": [
    {
     "data": {
      "text/plain": [
       "SpearmanrResult(correlation=0.21475381938031016, pvalue=2.650163097978465e-212)"
      ]
     },
     "execution_count": 262,
     "metadata": {},
     "output_type": "execute_result"
    }
   ],
   "source": [
    "neuromap.append('glucose')\n",
    "r_vals.append(stats.spearmanr(R_lmer_hemi_fc_G1_sex_contrast_res_tval_fs5, glucose_fsaverage_wb, nan_policy='omit')[0])\n",
    "p_vals.append(stats.spearmanr(R_lmer_hemi_fc_G1_sex_contrast_res_tval_fs5, glucose_fsaverage_wb, nan_policy='omit')[1])\n",
    "stats.spearmanr(R_lmer_hemi_fc_G1_sex_contrast_res_tval_fs5, glucose_fsaverage_wb, nan_policy='omit')"
   ]
  },
  {
   "cell_type": "code",
   "execution_count": 175,
   "id": "3b4b3e20-ec93-48f9-b9a7-8a8c90a306f9",
   "metadata": {},
   "outputs": [
    {
     "name": "stdout",
     "output_type": "stream",
     "text": [
      "permutation 100 of 1000\n",
      "permutation 200 of 1000\n",
      "permutation 300 of 1000\n",
      "permutation 400 of 1000\n",
      "permutation 500 of 1000\n",
      "permutation 600 of 1000\n",
      "permutation 700 of 1000\n",
      "permutation 800 of 1000\n",
      "permutation 900 of 1000\n",
      "permutation 1000 of 1000\n",
      "Spin permutation test p-value: 0.04\n"
     ]
    },
    {
     "data": {
      "image/png": "[encoded data removed]",
      "text/plain": [
       "<Figure size 1080x216 with 1 Axes>"
      ]
     },
     "metadata": {
      "needs_background": "light"
     },
     "output_type": "display_data"
    }
   ],
   "source": [
    "SpinPermutationTest_Schaefer400(x = R_lmer_hemi_fc_G1_sex_contrast_res_tval_fs5, y = glucose_fsaverage_wb, correlation_type = 'spearman')"
   ]
  },
  {
   "cell_type": "markdown",
   "id": "c848b0a6-3dc5-48d3-b691-333f3fa763e8",
   "metadata": {},
   "source": [
    "### Developmental expansion"
   ]
  },
  {
   "cell_type": "code",
   "execution_count": 263,
   "id": "51cd6e81-e8e6-4168-ae81-71019960ef47",
   "metadata": {},
   "outputs": [
    {
     "data": {
      "text/plain": [
       "SpearmanrResult(correlation=0.01885571407159875, pvalue=0.056656748290939536)"
      ]
     },
     "execution_count": 263,
     "metadata": {},
     "output_type": "execute_result"
    }
   ],
   "source": [
    "neuromap.append('developmental expansion')\n",
    "r_vals.append(stats.spearmanr(R_lmer_hemi_fc_G1_sex_contrast_res_tval_fs5[10242:], devexp_fsaverage_rh, nan_policy='omit')[0])\n",
    "p_vals.append(stats.spearmanr(R_lmer_hemi_fc_G1_sex_contrast_res_tval_fs5[10242:], devexp_fsaverage_rh, nan_policy='omit')[1])\n",
    "stats.spearmanr(R_lmer_hemi_fc_G1_sex_contrast_res_tval_fs5[10242:], devexp_fsaverage_rh, nan_policy='omit')"
   ]
  },
  {
   "cell_type": "code",
   "execution_count": 197,
   "id": "cf29ae17-72ef-4259-acfe-59fcb1f3a23b",
   "metadata": {},
   "outputs": [
    {
     "name": "stdout",
     "output_type": "stream",
     "text": [
      "permutation 100 of 1000\n",
      "permutation 200 of 1000\n",
      "permutation 300 of 1000\n",
      "permutation 400 of 1000\n",
      "permutation 500 of 1000\n",
      "permutation 600 of 1000\n",
      "permutation 700 of 1000\n",
      "permutation 800 of 1000\n",
      "permutation 900 of 1000\n",
      "permutation 1000 of 1000\n",
      "Spin permutation test p-value: 0.449\n"
     ]
    },
    {
     "data": {
      "image/png": "[encoded data removed]",
      "text/plain": [
       "<Figure size 1080x216 with 1 Axes>"
      ]
     },
     "metadata": {
      "needs_background": "light"
     },
     "output_type": "display_data"
    }
   ],
   "source": [
    "SpinPermutationTest_Schaefer400(x = R_lmer_hemi_fc_G1_sex_contrast_res_tval_fs5[10242:], y = devexp_fsaverage_rh, correlation_type = 'spearman')"
   ]
  },
  {
   "cell_type": "markdown",
   "id": "6e0968c5-f271-4358-a8b4-dfe49a69dd7c",
   "metadata": {},
   "source": [
    "### Evolutionary expansion"
   ]
  },
  {
   "cell_type": "code",
   "execution_count": 264,
   "id": "38d86d7c-c9ba-46f3-a014-eae774c72d01",
   "metadata": {},
   "outputs": [
    {
     "data": {
      "text/plain": [
       "SpearmanrResult(correlation=0.25118741189319693, pvalue=8.265921926502586e-147)"
      ]
     },
     "execution_count": 264,
     "metadata": {},
     "output_type": "execute_result"
    }
   ],
   "source": [
    "neuromap.append('evolutionary expansion')\n",
    "r_vals.append(stats.spearmanr(R_lmer_hemi_fc_G1_sex_contrast_res_tval_fs5[10242:], evoexp_fsaverage_rh, nan_policy='omit')[0])\n",
    "p_vals.append(stats.spearmanr(R_lmer_hemi_fc_G1_sex_contrast_res_tval_fs5[10242:], evoexp_fsaverage_rh, nan_policy='omit')[1])\n",
    "stats.spearmanr(R_lmer_hemi_fc_G1_sex_contrast_res_tval_fs5[10242:], evoexp_fsaverage_rh, nan_policy='omit')"
   ]
  },
  {
   "cell_type": "code",
   "execution_count": 199,
   "id": "318b054f-2c19-4208-b502-c40fcbaa5a45",
   "metadata": {},
   "outputs": [
    {
     "name": "stdout",
     "output_type": "stream",
     "text": [
      "permutation 100 of 1000\n",
      "permutation 200 of 1000\n",
      "permutation 300 of 1000\n",
      "permutation 400 of 1000\n",
      "permutation 500 of 1000\n",
      "permutation 600 of 1000\n",
      "permutation 700 of 1000\n",
      "permutation 800 of 1000\n",
      "permutation 900 of 1000\n",
      "permutation 1000 of 1000\n",
      "Spin permutation test p-value: 0.0115\n"
     ]
    },
    {
     "data": {
      "image/png": "[encoded data removed]",
      "text/plain": [
       "<Figure size 1080x216 with 1 Axes>"
      ]
     },
     "metadata": {
      "needs_background": "light"
     },
     "output_type": "display_data"
    }
   ],
   "source": [
    "SpinPermutationTest_Schaefer400(x = R_lmer_hemi_fc_G1_sex_contrast_res_tval_fs5[10242:], y = evoexp_fsaverage_rh, correlation_type = 'spearman')"
   ]
  },
  {
   "cell_type": "markdown",
   "id": "9aff3e51-6cd4-495e-bc72-9fc83a8fe38c",
   "metadata": {},
   "source": [
    "### Results summary with FDR correction"
   ]
  },
  {
   "cell_type": "code",
   "execution_count": 284,
   "id": "a6c84941-ea9c-4e7b-89d1-051540cd0342",
   "metadata": {},
   "outputs": [
    {
     "data": {
      "text/html": [
       "<div>\n",
       "<style scoped>\n",
       "    .dataframe tbody tr th:only-of-type {\n",
       "        vertical-align: middle;\n",
       "    }\n",
       "\n",
       "    .dataframe tbody tr th {\n",
       "        vertical-align: top;\n",
       "    }\n",
       "\n",
       "    .dataframe thead th {\n",
       "        text-align: right;\n",
       "    }\n",
       "</style>\n",
       "<table border=\"1\" class=\"dataframe\">\n",
       "  <thead>\n",
       "    <tr style=\"text-align: right;\">\n",
       "      <th></th>\n",
       "      <th>neuromaps</th>\n",
       "      <th>spearman (r)</th>\n",
       "      <th>uncorrected p</th>\n",
       "      <th>spin p</th>\n",
       "      <th>spin q</th>\n",
       "      <th>significance (FDR-corrected)</th>\n",
       "    </tr>\n",
       "  </thead>\n",
       "  <tbody>\n",
       "    <tr>\n",
       "      <th>0</th>\n",
       "      <td>neurosynth</td>\n",
       "      <td>0.023635</td>\n",
       "      <td>7.172609e-04</td>\n",
       "      <td>0.0460</td>\n",
       "      <td>0.106000</td>\n",
       "      <td>False</td>\n",
       "    </tr>\n",
       "    <tr>\n",
       "      <th>1</th>\n",
       "      <td>abagen</td>\n",
       "      <td>-0.126626</td>\n",
       "      <td>1.001778e-66</td>\n",
       "      <td>0.0125</td>\n",
       "      <td>0.045000</td>\n",
       "      <td>True</td>\n",
       "    </tr>\n",
       "    <tr>\n",
       "      <th>2</th>\n",
       "      <td>cbf</td>\n",
       "      <td>0.352219</td>\n",
       "      <td>0.000000e+00</td>\n",
       "      <td>0.0135</td>\n",
       "      <td>0.045000</td>\n",
       "      <td>True</td>\n",
       "    </tr>\n",
       "    <tr>\n",
       "      <th>3</th>\n",
       "      <td>dopamine</td>\n",
       "      <td>0.127404</td>\n",
       "      <td>7.210485e-75</td>\n",
       "      <td>0.4615</td>\n",
       "      <td>0.461500</td>\n",
       "      <td>False</td>\n",
       "    </tr>\n",
       "    <tr>\n",
       "      <th>4</th>\n",
       "      <td>acetylcholine</td>\n",
       "      <td>0.122679</td>\n",
       "      <td>1.632810e-69</td>\n",
       "      <td>0.1645</td>\n",
       "      <td>0.259286</td>\n",
       "      <td>False</td>\n",
       "    </tr>\n",
       "    <tr>\n",
       "      <th>5</th>\n",
       "      <td>serotonin</td>\n",
       "      <td>0.031909</td>\n",
       "      <td>4.932516e-06</td>\n",
       "      <td>0.2425</td>\n",
       "      <td>0.303125</td>\n",
       "      <td>False</td>\n",
       "    </tr>\n",
       "    <tr>\n",
       "      <th>6</th>\n",
       "      <td>norepinephrin</td>\n",
       "      <td>0.026291</td>\n",
       "      <td>1.677728e-04</td>\n",
       "      <td>0.1815</td>\n",
       "      <td>0.259286</td>\n",
       "      <td>False</td>\n",
       "    </tr>\n",
       "    <tr>\n",
       "      <th>7</th>\n",
       "      <td>glucose</td>\n",
       "      <td>0.214754</td>\n",
       "      <td>2.650163e-212</td>\n",
       "      <td>0.0400</td>\n",
       "      <td>0.100000</td>\n",
       "      <td>False</td>\n",
       "    </tr>\n",
       "    <tr>\n",
       "      <th>8</th>\n",
       "      <td>developmental expansion</td>\n",
       "      <td>0.018856</td>\n",
       "      <td>5.665675e-02</td>\n",
       "      <td>0.4490</td>\n",
       "      <td>0.461500</td>\n",
       "      <td>False</td>\n",
       "    </tr>\n",
       "    <tr>\n",
       "      <th>9</th>\n",
       "      <td>evolutionary expansion</td>\n",
       "      <td>0.251187</td>\n",
       "      <td>8.265922e-147</td>\n",
       "      <td>0.0115</td>\n",
       "      <td>0.045000</td>\n",
       "      <td>True</td>\n",
       "    </tr>\n",
       "  </tbody>\n",
       "</table>\n",
       "</div>"
      ],
      "text/plain": [
       "                 neuromaps  spearman (r)  uncorrected p  spin p    spin q  \\\n",
       "0               neurosynth      0.023635   7.172609e-04  0.0460  0.106000   \n",
       "1                   abagen     -0.126626   1.001778e-66  0.0125  0.045000   \n",
       "2                      cbf      0.352219   0.000000e+00  0.0135  0.045000   \n",
       "3                 dopamine      0.127404   7.210485e-75  0.4615  0.461500   \n",
       "4            acetylcholine      0.122679   1.632810e-69  0.1645  0.259286   \n",
       "5                serotonin      0.031909   4.932516e-06  0.2425  0.303125   \n",
       "6            norepinephrin      0.026291   1.677728e-04  0.1815  0.259286   \n",
       "7                  glucose      0.214754  2.650163e-212  0.0400  0.100000   \n",
       "8  developmental expansion      0.018856   5.665675e-02  0.4490  0.461500   \n",
       "9   evolutionary expansion      0.251187  8.265922e-147  0.0115  0.045000   \n",
       "\n",
       "   significance (FDR-corrected)  \n",
       "0                         False  \n",
       "1                          True  \n",
       "2                          True  \n",
       "3                         False  \n",
       "4                         False  \n",
       "5                         False  \n",
       "6                         False  \n",
       "7                         False  \n",
       "8                         False  \n",
       "9                          True  "
      ]
     },
     "execution_count": 284,
     "metadata": {},
     "output_type": "execute_result"
    }
   ],
   "source": [
    "neuromaps_res = {'neuromaps': neuromap, \n",
    "                 'spearman (r)': r_vals,\n",
    "                 'uncorrected p': p_vals,\n",
    "                 'spin p': [0.046,0.0125,0.0135,0.4615,0.1645,0.2425,0.1815,0.04,0.449,0.0115],\n",
    "                 'spin q': fdrcorrection(pvals = spin_p_vals, alpha=0.05)[1],\n",
    "                 'significance (FDR-corrected)': fdrcorrection(pvals = spin_p_vals, alpha=0.05)[0]}\n",
    "\n",
    "neuromaps_res = pd.DataFrame(neuromaps_res)\n",
    "neuromaps_res"
   ]
  },
  {
   "cell_type": "markdown",
   "id": "6de71a78-4ed4-464e-809b-165fd40b4da5",
   "metadata": {
    "tags": []
   },
   "source": [
    "#### Export results dataframe to csv"
   ]
  },
  {
   "cell_type": "code",
   "execution_count": 285,
   "id": "77e8af27-ea1f-49b4-9f96-b2e6b7c1314a",
   "metadata": {},
   "outputs": [],
   "source": [
    "neuromaps_res.to_csv(resdir_hcp+'neuromaps_res.csv', header = True, index = True)"
   ]
  },
  {
   "cell_type": "code",
   "execution_count": null,
   "id": "3ec0d554-2c06-4592-8aa8-247f1cbb26f7",
   "metadata": {},
   "outputs": [],
   "source": []
  },
  {
   "cell_type": "code",
   "execution_count": null,
   "id": "ab704086-bb6c-4291-b6c5-5cf2db578e98",
   "metadata": {},
   "outputs": [],
   "source": [
    "sns.boxplot(data=dict_ind_var, x='ages', y='r_ind_mean') \n",
    "    plt.show()"
   ]
  },
  {
   "cell_type": "code",
   "execution_count": null,
   "id": "f88b9ca8-fc04-4e20-ab3b-9c6e2e1ea9c2",
   "metadata": {},
   "outputs": [],
   "source": []
  }
 ],
 "metadata": {
  "kernelspec": {
   "display_name": "Python 3 (ipykernel)",
   "language": "python",
   "name": "python3"
  },
  "language_info": {
   "codemirror_mode": {
    "name": "ipython",
    "version": 3
   },
   "file_extension": ".py",
   "mimetype": "text/x-python",
   "name": "python",
   "nbconvert_exporter": "python",
   "pygments_lexer": "ipython3",
   "version": "3.9.7"
  }
 },
 "nbformat": 4,
 "nbformat_minor": 5
}
