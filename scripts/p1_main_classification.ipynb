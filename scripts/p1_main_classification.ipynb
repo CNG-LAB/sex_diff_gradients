{
 "cells": [
  {
   "cell_type": "markdown",
   "id": "59665f5c-24ed-4ecb-ab9c-86d5ddd9f2ca",
   "metadata": {
    "tags": []
   },
   "source": [
    "# Project 1: Sex Differences in brain organization\n",
    "\n",
    "### Main Script: Sex classification"
   ]
  },
  {
   "cell_type": "markdown",
   "id": "e2ec93fe-05ce-4116-9a20-61d219f03e2e",
   "metadata": {
    "tags": []
   },
   "source": [
    "## Load packages"
   ]
  },
  {
   "cell_type": "code",
   "execution_count": 1,
   "id": "3b981a67-12da-409f-ab72-d3d8c224110e",
   "metadata": {},
   "outputs": [],
   "source": [
    "# General\n",
    "import os\n",
    "import sys\n",
    "import numpy as np\n",
    "import pandas as pd\n",
    "import csv\n",
    "import math\n",
    "from math import isnan\n",
    "import statistics\n",
    "#import pingouin as pg\n",
    "import pickle\n",
    "\n",
    "# Computing\n",
    "import scipy.io  # loadmat\n",
    "from scipy import stats\n",
    "import sklearn \n",
    "from brainstat.stats.terms import FixedEffect\n",
    "from brainstat.stats.SLM import SLM\n",
    "\n",
    "# Visualisation\n",
    "import matplotlib.pyplot as plt \n",
    "import seaborn as sns\n",
    "import vtk\n",
    "from IPython.display import display\n",
    "import matplotlib.collections as clt\n",
    "#import ptitprince as pt\n",
    "\n",
    "# Neuroimaging\n",
    "import nibabel\n",
    "import nilearn\n",
    "from brainstat.datasets import fetch_parcellation\n",
    "#from enigmatoolbox.permutation_testing import spin_test, shuf_test\n",
    "\n",
    "# Gradients\n",
    "import brainspace\n",
    "from brainspace.datasets import load_parcellation, load_conte69\n",
    "from brainspace.plotting import plot_hemispheres\n",
    "from brainspace.gradient import GradientMaps\n",
    "from brainspace.utils.parcellation import map_to_labels\n",
    "\n",
    "# ML using scikit learn\n",
    "from sklearn.pipeline import make_pipeline\n",
    "from sklearn.preprocessing import StandardScaler\n",
    "from sklearn.svm import SVC\n",
    "\n",
    "from sklearn.model_selection import cross_validate, KFold \n",
    "from sklearn.model_selection import cross_val_score\n",
    "from sklearn.model_selection import StratifiedKFold\n",
    "\n",
    "from sklearn.base import BaseEstimator, TransformerMixin\n",
    "from sklearn.metrics import RocCurveDisplay\n",
    "from sklearn.metrics import auc\n",
    "\n",
    "from sklearn.feature_selection import SequentialFeatureSelector as SFS"
   ]
  },
  {
   "cell_type": "markdown",
   "id": "99398cfa-d771-4b99-89cb-6e4eff84a2ae",
   "metadata": {
    "tags": []
   },
   "source": [
    "## Define directories"
   ]
  },
  {
   "cell_type": "code",
   "execution_count": 2,
   "id": "b7f2004f-1c13-484d-a418-4a1847698012",
   "metadata": {},
   "outputs": [],
   "source": [
    "codedir = os.path.abspath('')  # obtain current direction from which script is runnning\n",
    "\n",
    "datadir = '/data/p_02667/sex_diff_gradients/data/'\n",
    "\n",
    "resdir_gsp = '/data/p_02667/sex_diff_gradients/results/GSP/'\n",
    "resdir_hcp = '/data/p_02667/sex_diff_gradients/results/HCP/'"
   ]
  },
  {
   "cell_type": "markdown",
   "id": "dc2cb6b6-8812-4420-b618-1439cad70154",
   "metadata": {
    "tags": []
   },
   "source": [
    "## Define functions"
   ]
  },
  {
   "cell_type": "markdown",
   "id": "7859407f-e499-40fa-926c-9f11b98765de",
   "metadata": {},
   "source": [
    "#### Confound removal\n",
    "https://academic.oup.com/gigascience/article/doi/10.1093/gigascience/giac014/6547681#339860007\n",
    "https://github.com/darya-chyzhyk/confound_prediction"
   ]
  },
  {
   "cell_type": "code",
   "execution_count": 3,
   "id": "36b85f5d-2608-41ea-8e85-586d690e9441",
   "metadata": {},
   "outputs": [],
   "source": [
    "from sklearn.base import BaseEstimator, TransformerMixin\n",
    "\n",
    "class ConfoundRegressor(BaseEstimator, TransformerMixin):\n",
    "    \"\"\" Fits a confound onto each feature in X and returns their residuals.\"\"\"\n",
    "\n",
    "    def __init__(self, confound, X, cross_validate=True, precise=False,\n",
    "                 stack_intercept=True):\n",
    "        \"\"\" Regresses out a variable (confound) from each feature in X.\n",
    "\n",
    "        Parameters\n",
    "        ----------\n",
    "        confound : numpy array\n",
    "            Array of length (n_samples, n_confounds) to regress out of each\n",
    "            feature; May have multiple columns for multiple confounds.\n",
    "        X : numpy array\n",
    "            Array of length (n_samples, n_features), from which the confound\n",
    "            will be regressed. This is used to determine how the\n",
    "            confound-models should be cross-validated (which is necessary\n",
    "            to use in in scikit-learn Pipelines).\n",
    "        cross_validate : bool\n",
    "            Whether to cross-validate the confound-parameters (y~confound)\n",
    "            estimated from the train-set to the test set (cross_validate=True)\n",
    "            or whether to fit the confound regressor separately on the test-set\n",
    "            (cross_validate=False). Setting this parameter to True is equivalent\n",
    "            to \"foldwise confound regression\" (FwCR) as described in our paper\n",
    "            (https://www.biorxiv.org/content/early/2018/03/28/290684). Setting\n",
    "            this parameter to False, however, is NOT equivalent to \"whole\n",
    "            dataset confound regression\" (WDCR) as it does not apply confound\n",
    "            regression to the *full* dataset, but simply refits the confound\n",
    "            model on the test-set. We recommend setting this parameter to True.\n",
    "        precise: bool\n",
    "            Transformer-objects in scikit-learn only allow to pass the data\n",
    "            (X) and optionally the target (y) to the fit and transform methods.\n",
    "            However, we need to index the confound accordingly as well. To do so,\n",
    "            we compare the X during initialization (self.X) with the X passed to\n",
    "            fit/transform. As such, we can infer which samples are passed to the\n",
    "            methods and index the confound accordingly. When setting precise to\n",
    "            True, the arrays are compared feature-wise, which is accurate, but\n",
    "            relatively slow. When setting precise to False, it will infer the index\n",
    "            by looking at the sum of all the features, which is less accurate, but much\n",
    "            faster. For dense data, this should work just fine. Also, to aid the\n",
    "            accuracy, we remove the features which are constant (0) across samples.\n",
    "        stack_intercept : bool\n",
    "            Whether to stack an intercept to the confound (default is True)\n",
    "\n",
    "        Attributes\n",
    "        ----------\n",
    "        weights_ : numpy array\n",
    "            Array with weights for the confound(s).\n",
    "        \"\"\"\n",
    "\n",
    "        self.confound = confound\n",
    "        self.cross_validate = cross_validate\n",
    "        self.X = X\n",
    "        self.precise = precise\n",
    "        self.stack_intercept = stack_intercept\n",
    "        self.weights_ = None\n",
    "        self.nonzero_X_ = None\n",
    "\n",
    "\n",
    "    def fit(self, X, y=None):\n",
    "        \"\"\" Fits the confound-regressor to X.\n",
    "\n",
    "        Parameters\n",
    "        ----------\n",
    "        X : numpy array\n",
    "            An array of shape (n_samples, n_features), which should correspond\n",
    "            to your train-set only!\n",
    "        y : None\n",
    "            Included for compatibility; does nothing.\n",
    "        \"\"\"\n",
    "\n",
    "        if self.stack_intercept:\n",
    "            icept = np.ones(self.confound.shape[0])\n",
    "            self.confound = np.c_[icept, self.confound]\n",
    "\n",
    "        # Find nonzero voxels (i.e., voxels which have not all zero\n",
    "        # values across samples)\n",
    "        if self.nonzero_X_ is None:\n",
    "            self.nonzero_X_ = np.sum(self.X, axis=0) != 0\n",
    "            self.X = self.X[:, self.nonzero_X_]\n",
    "\n",
    "        X_nz = X[:, self.nonzero_X_]\n",
    "        confound = self.confound\n",
    "\n",
    "        if self.precise:\n",
    "            tmp = np.in1d(self.X, X_nz).reshape(self.X.shape)\n",
    "            fit_idx = tmp.sum(axis=1) == self.X.shape[1]\n",
    "        else:\n",
    "            fit_idx = np.in1d(self.X.sum(axis=1), X_nz.sum(axis=1))\n",
    "\n",
    "        confound_fit = confound[fit_idx, :]\n",
    "\n",
    "        # Vectorized implementation estimating weights for all features\n",
    "        self.weights_ = np.linalg.lstsq(confound_fit, X_nz, rcond=None)[0]\n",
    "        return self\n",
    "\n",
    "\n",
    "    def transform(self, X):\n",
    "        \"\"\" Regresses out confound from X.\n",
    "\n",
    "        Parameters\n",
    "        ----------\n",
    "        X : numpy array\n",
    "            An array of shape (n_samples, n_features), which should correspond\n",
    "            to your train-set only!\n",
    "\n",
    "        Returns\n",
    "        -------\n",
    "        X_new : ndarray\n",
    "            ndarray with confound-regressed features\n",
    "        \"\"\"\n",
    "\n",
    "        if not self.cross_validate:\n",
    "            self.fit(X)\n",
    "\n",
    "        X_nz = X[:, self.nonzero_X_]\n",
    "\n",
    "        if self.precise:\n",
    "            tmp = np.in1d(self.X, X_nz).reshape(self.X.shape)\n",
    "            transform_idx = tmp.sum(axis=1) == self.X.shape[1]\n",
    "        else:\n",
    "            transform_idx = np.in1d(self.X.sum(axis=1), X_nz.sum(axis=1))\n",
    "\n",
    "        confound_transform = self.confound[transform_idx]\n",
    "        X_new = X - confound_transform.dot(self.weights_)\n",
    "        X_corr = np.zeros_like(X)\n",
    "        X_corr[:, self.nonzero_X_] = X_new\n",
    "        return X_corr"
   ]
  },
  {
   "cell_type": "markdown",
   "id": "efbb23bb-4f9c-4fd0-8360-bc71cbf325eb",
   "metadata": {},
   "source": [
    "## Import data"
   ]
  },
  {
   "cell_type": "code",
   "execution_count": 4,
   "id": "e0c545ef-d5d0-4af0-ab42-17969a3ef39e",
   "metadata": {
    "tags": []
   },
   "outputs": [],
   "source": [
    "# demographics data\n",
    "GSP_demographics_cleaned = pd.read_csv(resdir_gsp+'demographics_cleaned.csv')\n",
    "HCP_demographics_cleaned = pd.read_csv(resdir_hcp+'demographics_cleaned.csv')\n",
    "\n",
    "# CT data\n",
    "GSP_ct_schaefer400 = pd.read_csv(resdir_gsp+'ct_schaefer400.csv')\n",
    "HCP_ct_schaefer400 = pd.read_csv(resdir_hcp+'ct_schaefer400.csv')\n",
    "\n",
    "# functional gradient (visual-heteromodal) data\n",
    "GSP_fc_grad = pd.read_csv(resdir_gsp+'array_aligned_fc_G2.csv')  # G2\n",
    "HCP_fc_grad = pd.read_csv(resdir_hcp+'array_aligned_fc_G1.csv')  # G1"
   ]
  },
  {
   "cell_type": "code",
   "execution_count": 5,
   "id": "fa571052-5c13-4d84-bdb2-64af82a34a55",
   "metadata": {},
   "outputs": [],
   "source": [
    "# rename some data columns to make them same across samples\n",
    "GSP_demographics_cleaned = GSP_demographics_cleaned.rename(columns={'Sex': 'sex', 'Age_Bin': 'age', 'ICV': 'icv'})\n",
    "HCP_demographics_cleaned = HCP_demographics_cleaned.rename(columns={'Gender': 'sex', 'Age_in_Yrs': 'age', 'FS_IntraCranial_Vol': 'icv'})"
   ]
  },
  {
   "cell_type": "markdown",
   "id": "f335391f-cd3e-4072-a3ca-3f221a1d3d45",
   "metadata": {
    "jp-MarkdownHeadingCollapsed": true,
    "tags": []
   },
   "source": [
    "## Classification with cross validation (within GSP sample)"
   ]
  },
  {
   "cell_type": "markdown",
   "id": "c62ab356-e576-4aca-a8d2-93b30cca891e",
   "metadata": {},
   "source": [
    "### local structure"
   ]
  },
  {
   "cell_type": "code",
   "execution_count": 11,
   "id": "ba81a0e3-7ca4-475c-92c5-d75c1877a878",
   "metadata": {},
   "outputs": [
    {
     "name": "stdout",
     "output_type": "stream",
     "text": [
      "the mean cross-validation accuracy is: 0.837 +/- 0.021\n"
     ]
    }
   ],
   "source": [
    "##### define predictor and target variables\n",
    "\n",
    "### target: sex\n",
    "y_GSP = GSP_demographics_cleaned['sex']\n",
    "\n",
    "\n",
    "### predictor: brain data (400 parcels)\n",
    "\n",
    "x_GSP = GSP_ct_schaefer400\n",
    "\n",
    "## confound removal\n",
    "\n",
    "# make a preprocessor confound regressor\n",
    "confound_regressor = ConfoundRegressor(confound = np.array(GSP_demographics_cleaned[['age', 'global_ct']]), X = np.array(x_GSP))\n",
    "\n",
    "# fit it to the predictor data\n",
    "_ = confound_regressor.fit(X = np.array(x_GSP))\n",
    "\n",
    "# transform the predictor data with confound variables regressed out\n",
    "x_GSP_unconf = confound_regressor.transform(X = np.array(x_GSP))\n",
    "\n",
    "\n",
    "\n",
    "##### create model via pipeline\n",
    "\n",
    "# Support Vector Machine algorithms are not scale invariant, so it is highly recommended to scale your data\n",
    "model = make_pipeline(StandardScaler(), SVC(kernel='rbf'))\n",
    "\n",
    "\n",
    "\n",
    "##### within sample cross valiation using stratifued and shuffled k-fold\n",
    "\n",
    "skf = StratifiedKFold(n_splits=10, random_state=42, shuffle=True)\n",
    "#skf.get_n_splits(X, y)\n",
    "#skf.split(x_GSP_unconf, y_GSP)\n",
    "scores = cross_val_score(model, x_GSP_unconf, y_GSP, cv=skf)\n",
    "\n",
    "\n",
    "print(f\"the mean cross-validation accuracy is: \"\n",
    "      f\"{scores.mean():.3f} +/- {scores.std():.3f}\")"
   ]
  },
  {
   "cell_type": "markdown",
   "id": "5dcf3999-0893-4ee2-aecd-cfe59f0d27bd",
   "metadata": {},
   "source": [
    "### functional gradient\n",
    "\n",
    "\n",
    "if I need to be able to distinguish the func/struct data (parcels): df = df.add_suffix('_some_suffix')"
   ]
  },
  {
   "cell_type": "code",
   "execution_count": 12,
   "id": "0b32613a-14f0-4dfd-ae61-9434fcd67e96",
   "metadata": {},
   "outputs": [
    {
     "name": "stdout",
     "output_type": "stream",
     "text": [
      "the mean cross-validation accuracy is: 0.599 +/- 0.028\n"
     ]
    }
   ],
   "source": [
    "##### define predictor and target variables\n",
    "\n",
    "### target: sex\n",
    "y_GSP = GSP_demographics_cleaned['sex']\n",
    "\n",
    "\n",
    "### predictor: brain data (400 parcels)\n",
    "\n",
    "x_GSP = GSP_fc_grad\n",
    "\n",
    "## confound removal\n",
    "\n",
    "# make a preprocessor confound regressor\n",
    "confound_regressor = ConfoundRegressor(confound = np.array(GSP_demographics_cleaned[['age', 'icv']]), X = np.array(x_GSP))\n",
    "\n",
    "# fit it to the predictor data\n",
    "_ = confound_regressor.fit(X = np.array(x_GSP))\n",
    "\n",
    "# transform the predictor data with confound variables regressed out\n",
    "x_GSP_unconf = confound_regressor.transform(X = np.array(x_GSP))\n",
    "\n",
    "\n",
    "\n",
    "##### create model via pipeline\n",
    "\n",
    "# Support Vector Machine algorithms are not scale invariant, so it is highly recommended to scale your data\n",
    "model = make_pipeline(StandardScaler(), SVC(kernel='rbf'))\n",
    "\n",
    "\n",
    "\n",
    "##### within sample cross valiation using stratifued and shuffled k-fold\n",
    "\n",
    "skf = StratifiedKFold(n_splits=10, random_state=42, shuffle=True)\n",
    "#skf.get_n_splits(X, y)\n",
    "#skf.split(x_GSP_unconf, y_GSP)\n",
    "scores = cross_val_score(model, x_GSP_unconf, y_GSP, cv=skf)\n",
    "\n",
    "\n",
    "print(f\"the mean cross-validation accuracy is: \"\n",
    "      f\"{scores.mean():.3f} +/- {scores.std():.3f}\")"
   ]
  },
  {
   "cell_type": "markdown",
   "id": "d8bccc3c-8dc8-4696-b901-9da0f614b4cf",
   "metadata": {},
   "source": [
    "### local structure and functional gradient"
   ]
  },
  {
   "cell_type": "code",
   "execution_count": 14,
   "id": "f0b4395a-45d2-4ff6-853a-397a05834c49",
   "metadata": {},
   "outputs": [
    {
     "name": "stdout",
     "output_type": "stream",
     "text": [
      "the mean cross-validation accuracy is: 0.823 +/- 0.024\n"
     ]
    }
   ],
   "source": [
    "##### define predictor and target variables\n",
    "\n",
    "### target: sex\n",
    "y_GSP = GSP_demographics_cleaned['sex']\n",
    "\n",
    "\n",
    "### predictor: brain data (400 parcels)\n",
    "\n",
    "x_GSP_struct = GSP_ct_schaefer400\n",
    "x_GSP_func = GSP_fc_grad\n",
    "\n",
    "\n",
    "## confound removal (removing structural and functional data's confounding variables respectively)\n",
    "\n",
    "# make a preprocessor confound regressor\n",
    "confound_regressor_struct = ConfoundRegressor(confound = np.array(GSP_demographics_cleaned[['age', 'global_ct']]), X = np.array(x_GSP_struct))\n",
    "confound_regressor_func = ConfoundRegressor(confound = np.array(GSP_demographics_cleaned[['age', 'icv']]), X = np.array(x_GSP_func))\n",
    "\n",
    "# fit it to the predictor data\n",
    "_ = confound_regressor_struct.fit(X = np.array(x_GSP_struct))\n",
    "_ = confound_regressor_func.fit(X = np.array(x_GSP_func))\n",
    "\n",
    "# transform the predictor data with confound variables regressed out\n",
    "x_GSP_struct_unconf = confound_regressor_struct.transform(X = np.array(x_GSP_struct))\n",
    "x_GSP_func_unconf = confound_regressor_func.transform(X = np.array(x_GSP_func))\n",
    "\n",
    "# concatenate the two arrays stored in one predictor variable (800 parcels (400 structural, 400 functional)\n",
    "x_GSP_unconf = np.concatenate((x_GSP_struct_unconf, x_GSP_func_unconf), axis = 1)\n",
    "\n",
    "\n",
    "\n",
    "##### create model via pipeline\n",
    "\n",
    "# Support Vector Machine algorithms are not scale invariant, so it is highly recommended to scale your data\n",
    "model = make_pipeline(StandardScaler(), SVC(kernel='rbf'))\n",
    "\n",
    "\n",
    "\n",
    "##### within sample cross valiation using stratifued and shuffled k-fold\n",
    "\n",
    "skf = StratifiedKFold(n_splits=10, random_state=42, shuffle=True)\n",
    "#skf.get_n_splits(X, y)\n",
    "#skf.split(x_GSP_unconf, y_GSP)\n",
    "scores = cross_val_score(model, x_GSP_unconf, y_GSP, cv=skf)\n",
    "\n",
    "\n",
    "print(f\"the mean cross-validation accuracy is: \"\n",
    "      f\"{scores.mean():.3f} +/- {scores.std():.3f}\")"
   ]
  },
  {
   "cell_type": "markdown",
   "id": "ed4e2012-477e-4242-be2d-d4afd5214fbf",
   "metadata": {},
   "source": [
    "## Classification out of sample (training in GSP, testing in HCP)\n",
    "\n",
    "AUC vs accuracy: https://www.kdnuggets.com/2022/10/metric-accuracy-auc.html\n",
    "\n",
    "**STILL NEED TO DO: REGRESS OUT FAMILY AND TWIN IN HCP PART** https://techoverflow.net/2019/05/22/how-to-fix-numpy-typeerror-cannot-cast-ufunc-subtract-output-from-dtypefloat64-to-dtypeint64-with-casting-rule-same_kind/"
   ]
  },
  {
   "cell_type": "code",
   "execution_count": 6,
   "id": "b9520246-0893-4152-818f-305e7d2e522f",
   "metadata": {},
   "outputs": [
    {
     "name": "stdout",
     "output_type": "stream",
     "text": [
      "Out-of-sample prediction accuracy for model including only local CT: 0.736\n",
      "Out-of-sample prediction accuracy for model including only functional gradient: 0.598\n",
      "Out-of-sample prediction accuracy for model including both local CT and functional gradient: 0.738\n"
     ]
    },
    {
     "data": {
      "text/plain": [
       "<matplotlib.legend.Legend at 0x7ffb4f70c9a0>"
      ]
     },
     "execution_count": 6,
     "metadata": {},
     "output_type": "execute_result"
    },
    {
     "data": {
      "image/png": "[encoded data removed]",
      "text/plain": [
       "<Figure size 432x288 with 1 Axes>"
      ]
     },
     "metadata": {
      "needs_background": "light"
     },
     "output_type": "display_data"
    },
    {
     "data": {
      "image/png": "[encoded data removed]",
      "text/plain": [
       "<Figure size 432x288 with 1 Axes>"
      ]
     },
     "metadata": {
      "needs_background": "light"
     },
     "output_type": "display_data"
    },
    {
     "data": {
      "image/png": "[encoded data removed]",
      "text/plain": [
       "<Figure size 432x288 with 1 Axes>"
      ]
     },
     "metadata": {
      "needs_background": "light"
     },
     "output_type": "display_data"
    },
    {
     "data": {
      "image/png": "[encoded data removed]",
      "text/plain": [
       "<Figure size 1080x720 with 1 Axes>"
      ]
     },
     "metadata": {
      "needs_background": "light"
     },
     "output_type": "display_data"
    }
   ],
   "source": [
    "# TRAIN\n",
    "\n",
    "##### define predictor and target variables\n",
    "\n",
    "### target: sex\n",
    "y_GSP = GSP_demographics_cleaned['sex']\n",
    "\n",
    "\n",
    "### predictor: brain data (400 parcels)\n",
    "x_GSP_struct = GSP_ct_schaefer400\n",
    "x_GSP_func = GSP_fc_grad\n",
    "\n",
    "\n",
    "## confound removal (removing structural and functional data's confounding variables respectively)\n",
    "\n",
    "# make a preprocessor confound regressor\n",
    "confound_regressor_struct = ConfoundRegressor(confound = np.array(GSP_demographics_cleaned[['age', 'global_ct']]), X = np.array(x_GSP_struct))\n",
    "confound_regressor_func = ConfoundRegressor(confound = np.array(GSP_demographics_cleaned[['age', 'icv']]), X = np.array(x_GSP_func))\n",
    "\n",
    "# fit it to the predictor data\n",
    "_ = confound_regressor_struct.fit(X = np.array(x_GSP_struct))\n",
    "_ = confound_regressor_func.fit(X = np.array(x_GSP_func))\n",
    "\n",
    "# transform the predictor data with confound variables regressed out\n",
    "x_GSP_struct_unconf = confound_regressor_struct.transform(X = np.array(x_GSP_struct))\n",
    "x_GSP_func_unconf = confound_regressor_func.transform(X = np.array(x_GSP_func))\n",
    "\n",
    "# concatenate the two arrays stored in one predictor variable (800 parcels (400 structural, 400 functional)\n",
    "x_GSP_both_unconf = np.concatenate((x_GSP_struct_unconf, x_GSP_func_unconf), axis = 1)\n",
    "\n",
    "\n",
    "\n",
    "##### preprocess\n",
    "\n",
    "scaler_struct = StandardScaler()\n",
    "_ = scaler_struct.fit(x_GSP_struct_unconf)\n",
    "x_GSP_struct_unconf_scaled = scaler_struct.transform(x_GSP_struct_unconf)\n",
    "\n",
    "scaler_func = StandardScaler()\n",
    "_ = scaler_func.fit(x_GSP_func_unconf)\n",
    "x_GSP_func_unconf_scaled = scaler_func.transform(x_GSP_func_unconf)\n",
    "\n",
    "\n",
    "# concatenate the two (preprocessed, i.e., scaled) arrays stored in one predictor variable (800 parcels (400 structural, 400 functional)\n",
    "x_GSP_both_unconf_scaled = np.concatenate((x_GSP_struct_unconf_scaled, x_GSP_func_unconf_scaled), axis = 1)\n",
    "\n",
    "\n",
    "\n",
    "##### models\n",
    "\n",
    "model_struct = SVC(kernel='rbf')\n",
    "_ = model_struct.fit(x_GSP_struct_unconf_scaled, y_GSP)\n",
    "\n",
    "model_func = SVC(kernel='rbf')\n",
    "_ = model_func.fit(x_GSP_func_unconf_scaled, y_GSP)\n",
    "\n",
    "model_both = SVC(kernel='rbf')\n",
    "_ = model_both.fit(x_GSP_both_unconf_scaled, y_GSP)\n",
    "\n",
    "\n",
    "\n",
    "\n",
    "\n",
    "# TEST\n",
    "\n",
    "##### define predictor and target variables\n",
    "\n",
    "### target: sex\n",
    "y_HCP = HCP_demographics_cleaned['sex']\n",
    "\n",
    "\n",
    "### predictor: brain data (400 parcels)\n",
    "x_HCP_struct = HCP_ct_schaefer400\n",
    "x_HCP_func = HCP_fc_grad\n",
    "\n",
    "\n",
    "## confound removal (removing structural and functional data's confounding variables respectively)\n",
    "\n",
    "# make a preprocessor confound regressor\n",
    "confound_regressor_struct = ConfoundRegressor(confound = np.array(HCP_demographics_cleaned[['age', 'global_ct']]), X = np.array(x_HCP_struct))\n",
    "confound_regressor_func = ConfoundRegressor(confound = np.array(HCP_demographics_cleaned[['age', 'icv']]), X = np.array(x_HCP_func))\n",
    "\n",
    "# fit it to the predictor data\n",
    "_ = confound_regressor_struct.fit(X = np.array(x_HCP_struct))\n",
    "_ = confound_regressor_func.fit(X = np.array(x_HCP_func))\n",
    "\n",
    "# transform the predictor data with confound variables regressed out\n",
    "x_HCP_struct_unconf = confound_regressor_struct.transform(X = np.array(x_HCP_struct))\n",
    "x_HCP_func_unconf = confound_regressor_func.transform(X = np.array(x_HCP_func))\n",
    "\n",
    "\n",
    "\n",
    "##### preprocess - scale using prefitted scaler on GSP data (correct?) by simply transforming because this is test data \n",
    "    # this is what is instructed at https://stackoverflow.com/questions/57775530/why-does-calling-transform-on-test-data-return-an-error-that-the-data-is-not-f?rq=1\n",
    "\n",
    "x_HCP_struct_unconf_scaled = scaler_struct.transform(x_HCP_struct_unconf)\n",
    "x_HCP_func_unconf_scaled = scaler_func.transform(x_HCP_func_unconf)\n",
    "\n",
    "# concatenate the two arrays stored in one predictor variable (800 parcels (400 structural, 400 functional)\n",
    "x_HCP_both_unconf_scaled = np.concatenate((x_HCP_struct_unconf_scaled, x_HCP_func_unconf_scaled), axis = 1)\n",
    "\n",
    "\n",
    "\n",
    "##### compute prediction accuracy\n",
    "score_struct = model_struct.score(x_HCP_struct_unconf_scaled, y_HCP)\n",
    "score_func = model_func.score(x_HCP_func_unconf_scaled, y_HCP)\n",
    "score_both = model_both.score(x_HCP_both_unconf_scaled, y_HCP)\n",
    "\n",
    "print(f\"Out-of-sample prediction accuracy for model including only local CT: {score_struct:.3f}\")\n",
    "print(f\"Out-of-sample prediction accuracy for model including only functional gradient: {score_func:.3f}\")\n",
    "print(f\"Out-of-sample prediction accuracy for model including both local CT and functional gradient: {score_both:.3f}\")\n",
    "\n",
    "\n",
    "##### plot ROC curves\n",
    "\n",
    "# calculating and plotting ROC for each individually (need to assign value to variable in order to include the .roc_auc value in the graph including 3 models)\n",
    "ROC_struct = RocCurveDisplay.from_estimator(model_struct, x_HCP_struct_unconf_scaled, y_HCP)\n",
    "ROC_func = RocCurveDisplay.from_estimator(model_func, x_HCP_func_unconf_scaled, y_HCP)\n",
    "ROC_both = RocCurveDisplay.from_estimator(model_both, x_HCP_both_unconf_scaled, y_HCP)\n",
    "\n",
    "\n",
    "# plotting the ROC curves in the same plot\n",
    "fig, ax = plt.subplots(figsize=(15, 10))\n",
    "\n",
    "ROC_func = RocCurveDisplay.from_estimator(model_func, x_HCP_func_unconf_scaled, y_HCP, ax = ax, label = \"AUC FC gradient: %1.3f\" %ROC_func.roc_auc, color='darkred')\n",
    "ROC_struct = RocCurveDisplay.from_estimator(model_struct, x_HCP_struct_unconf_scaled, y_HCP, ax = ax, label = \"AUC local CT: %1.3f\" %ROC_struct.roc_auc, color='darkgreen')\n",
    "ROC_both = RocCurveDisplay.from_estimator(model_both, x_HCP_both_unconf_scaled, y_HCP, ax = ax, label = \"AUC FC gradient & local CT: %1.3f\" %ROC_both.roc_auc, color='gold')\n",
    "\n",
    "ax.set_xlabel('False Positive Rate (Positive: Male)', size=30)\n",
    "ax.set_ylabel('True Positive Rate: (Positive: Male)', size=30)\n",
    "\n",
    "plt.xticks(fontsize=20)\n",
    "plt.yticks(fontsize=20)\n",
    "           \n",
    "plt.legend(prop={'size': 30})"
   ]
  },
  {
   "cell_type": "markdown",
   "id": "9f2fb604-a37d-42a3-8754-c3eeb5b78f5b",
   "metadata": {
    "tags": []
   },
   "source": [
    "# attempting to obtain features...?"
   ]
  },
  {
   "cell_type": "code",
   "execution_count": 52,
   "id": "1a06a471-4426-4714-8449-150ac3b4eea8",
   "metadata": {},
   "outputs": [
    {
     "data": {
      "text/plain": [
       "(1362, 800)"
      ]
     },
     "execution_count": 52,
     "metadata": {},
     "output_type": "execute_result"
    }
   ],
   "source": [
    "model_both.support_vectors_.shape"
   ]
  },
  {
   "cell_type": "code",
   "execution_count": 54,
   "id": "4747e9b1-5ab3-44cb-9f7e-2ff1ece6b8e8",
   "metadata": {},
   "outputs": [
    {
     "data": {
      "text/plain": [
       "(1362, 800)"
      ]
     },
     "execution_count": 54,
     "metadata": {},
     "output_type": "execute_result"
    }
   ],
   "source": [
    "model_both.support_vectors_.shape"
   ]
  },
  {
   "cell_type": "code",
   "execution_count": 59,
   "id": "1c1722dd-8987-4e5e-8c01-f893f02c61e7",
   "metadata": {},
   "outputs": [
    {
     "data": {
      "text/plain": [
       "(1, 1362)"
      ]
     },
     "execution_count": 59,
     "metadata": {},
     "output_type": "execute_result"
    }
   ],
   "source": [
    "model_both.dual_coef_.shape"
   ]
  },
  {
   "cell_type": "code",
   "execution_count": 174,
   "id": "4a64dbce-56bd-445e-b0de-a52c161beb9a",
   "metadata": {},
   "outputs": [
    {
     "name": "stdout",
     "output_type": "stream",
     "text": [
      "b =  [-0.56632919]\n",
      "Indices of support vectors =  [   1    3    4 ... 1564 1565 1566]\n",
      "Support vectors =  [[ 0.48598063 -0.66811426 -1.05860876 ... -0.09432214  0.46785621\n",
      "  -0.46369335]\n",
      " [-0.51587322  0.89673548 -0.9293389  ...  0.4616498   0.69256796\n",
      "   0.85861885]\n",
      " [ 0.4917614  -0.0271252  -0.13904656 ... -0.52704208 -0.43234023\n",
      "  -0.34953452]\n",
      " ...\n",
      " [ 1.37202703 -0.12785197 -0.2630806  ... -3.0168924   0.7817022\n",
      "  -0.83393755]\n",
      " [ 0.12058705  1.53662009  0.34710144 ...  0.46570485  0.27153755\n",
      "   0.45476713]\n",
      " [ 1.08124197 -0.28026577 -1.13230577 ...  0.2774659   0.03916664\n",
      "   1.00210895]]\n",
      "Number of support vectors for each class =  [759 603]\n",
      "Coefficients of the support vector in the decision function =  [[1.         0.74873736 1.         ... 1.         0.27220179 1.        ]]\n",
      "Number of coefficients of the support vector in the decision function =  (1, 1362)\n"
     ]
    }
   ],
   "source": [
    "print('b = ', model_both.intercept_)\n",
    "print('Indices of support vectors = ', model_both.support_)\n",
    "print('Support vectors = ', model_both.support_vectors_)\n",
    "print('Number of support vectors for each class = ', model_both.n_support_)\n",
    "print('Coefficients of the support vector in the decision function = ', np.abs(model_both.dual_coef_))\n",
    "print('Number of coefficients of the support vector in the decision function = ', np.abs(model_both.dual_coef_).shape)"
   ]
  },
  {
   "cell_type": "code",
   "execution_count": 213,
   "id": "f24069a0-d0d2-452c-b7b7-3d5fd609d43d",
   "metadata": {},
   "outputs": [
    {
     "data": {
      "text/plain": [
       "(1014, 2)"
      ]
     },
     "execution_count": 213,
     "metadata": {},
     "output_type": "execute_result"
    }
   ],
   "source": [
    "model_both.predict_proba(x_HCP_both_unconf_scaled).shape"
   ]
  },
  {
   "cell_type": "code",
   "execution_count": 214,
   "id": "906e609c-c276-4f65-a86f-ad2ba6fe6370",
   "metadata": {},
   "outputs": [
    {
     "data": {
      "text/plain": [
       "array([[1.55188022e-05, 9.99984481e-01],\n",
       "       [4.07417862e-01, 5.92582138e-01],\n",
       "       [7.21590618e-01, 2.78409382e-01],\n",
       "       ...,\n",
       "       [7.55565609e-01, 2.44434391e-01],\n",
       "       [4.31699244e-02, 9.56830076e-01],\n",
       "       [6.68457123e-01, 3.31542877e-01]])"
      ]
     },
     "execution_count": 214,
     "metadata": {},
     "output_type": "execute_result"
    }
   ],
   "source": [
    "model_both.predict_proba(x_HCP_both_unconf_scaled)"
   ]
  },
  {
   "cell_type": "code",
   "execution_count": null,
   "id": "bc9a3bc6-feeb-450e-9e8a-4a809beacbbb",
   "metadata": {},
   "outputs": [],
   "source": []
  },
  {
   "cell_type": "code",
   "execution_count": null,
   "id": "559b2e94-ce3c-445a-a35c-b745277335b9",
   "metadata": {},
   "outputs": [],
   "source": []
  },
  {
   "cell_type": "code",
   "execution_count": null,
   "id": "1cfa52f0-617e-471e-9a8c-89a38037fb17",
   "metadata": {},
   "outputs": [],
   "source": []
  },
  {
   "cell_type": "code",
   "execution_count": null,
   "id": "5166330a-bb19-4bda-95d9-a7f426048689",
   "metadata": {},
   "outputs": [],
   "source": []
  },
  {
   "cell_type": "code",
   "execution_count": null,
   "id": "83383d62-b132-4df8-8fd1-e1b0ae3c1a01",
   "metadata": {},
   "outputs": [],
   "source": []
  },
  {
   "cell_type": "code",
   "execution_count": null,
   "id": "69204558-52fb-4a3f-848b-945d2bcc7a15",
   "metadata": {},
   "outputs": [],
   "source": []
  },
  {
   "cell_type": "code",
   "execution_count": 41,
   "id": "27abc5db-0079-4c05-9e3b-946bbb241e3e",
   "metadata": {},
   "outputs": [],
   "source": [
    "# sequential feautre selection\n",
    "\n",
    "sfs = SFS(model_both, n_features_to_select='warn', tol=None, direction='forward', scoring=None, cv=None, n_jobs=None)"
   ]
  },
  {
   "cell_type": "code",
   "execution_count": 42,
   "id": "1cf0830f-906e-476e-aec0-1d94a1453fae",
   "metadata": {},
   "outputs": [
    {
     "data": {
      "text/html": [
       "<style>#sk-container-id-1 {color: black;background-color: white;}#sk-container-id-1 pre{padding: 0;}#sk-container-id-1 div.sk-toggleable {background-color: white;}#sk-container-id-1 label.sk-toggleable__label {cursor: pointer;display: block;width: 100%;margin-bottom: 0;padding: 0.3em;box-sizing: border-box;text-align: center;}#sk-container-id-1 label.sk-toggleable__label-arrow:before {content: \"▸\";float: left;margin-right: 0.25em;color: #696969;}#sk-container-id-1 label.sk-toggleable__label-arrow:hover:before {color: black;}#sk-container-id-1 div.sk-estimator:hover label.sk-toggleable__label-arrow:before {color: black;}#sk-container-id-1 div.sk-toggleable__content {max-height: 0;max-width: 0;overflow: hidden;text-align: left;background-color: #f0f8ff;}#sk-container-id-1 div.sk-toggleable__content pre {margin: 0.2em;color: black;border-radius: 0.25em;background-color: #f0f8ff;}#sk-container-id-1 input.sk-toggleable__control:checked~div.sk-toggleable__content {max-height: 200px;max-width: 100%;overflow: auto;}#sk-container-id-1 input.sk-toggleable__control:checked~label.sk-toggleable__label-arrow:before {content: \"▾\";}#sk-container-id-1 div.sk-estimator input.sk-toggleable__control:checked~label.sk-toggleable__label {background-color: #d4ebff;}#sk-container-id-1 div.sk-label input.sk-toggleable__control:checked~label.sk-toggleable__label {background-color: #d4ebff;}#sk-container-id-1 input.sk-hidden--visually {border: 0;clip: rect(1px 1px 1px 1px);clip: rect(1px, 1px, 1px, 1px);height: 1px;margin: -1px;overflow: hidden;padding: 0;position: absolute;width: 1px;}#sk-container-id-1 div.sk-estimator {font-family: monospace;background-color: #f0f8ff;border: 1px dotted black;border-radius: 0.25em;box-sizing: border-box;margin-bottom: 0.5em;}#sk-container-id-1 div.sk-estimator:hover {background-color: #d4ebff;}#sk-container-id-1 div.sk-parallel-item::after {content: \"\";width: 100%;border-bottom: 1px solid gray;flex-grow: 1;}#sk-container-id-1 div.sk-label:hover label.sk-toggleable__label {background-color: #d4ebff;}#sk-container-id-1 div.sk-serial::before {content: \"\";position: absolute;border-left: 1px solid gray;box-sizing: border-box;top: 0;bottom: 0;left: 50%;z-index: 0;}#sk-container-id-1 div.sk-serial {display: flex;flex-direction: column;align-items: center;background-color: white;padding-right: 0.2em;padding-left: 0.2em;position: relative;}#sk-container-id-1 div.sk-item {position: relative;z-index: 1;}#sk-container-id-1 div.sk-parallel {display: flex;align-items: stretch;justify-content: center;background-color: white;position: relative;}#sk-container-id-1 div.sk-item::before, #sk-container-id-1 div.sk-parallel-item::before {content: \"\";position: absolute;border-left: 1px solid gray;box-sizing: border-box;top: 0;bottom: 0;left: 50%;z-index: -1;}#sk-container-id-1 div.sk-parallel-item {display: flex;flex-direction: column;z-index: 1;position: relative;background-color: white;}#sk-container-id-1 div.sk-parallel-item:first-child::after {align-self: flex-end;width: 50%;}#sk-container-id-1 div.sk-parallel-item:last-child::after {align-self: flex-start;width: 50%;}#sk-container-id-1 div.sk-parallel-item:only-child::after {width: 0;}#sk-container-id-1 div.sk-dashed-wrapped {border: 1px dashed gray;margin: 0 0.4em 0.5em 0.4em;box-sizing: border-box;padding-bottom: 0.4em;background-color: white;}#sk-container-id-1 div.sk-label label {font-family: monospace;font-weight: bold;display: inline-block;line-height: 1.2em;}#sk-container-id-1 div.sk-label-container {text-align: center;}#sk-container-id-1 div.sk-container {/* jupyter's `normalize.less` sets `[hidden] { display: none; }` but bootstrap.min.css set `[hidden] { display: none !important; }` so we also need the `!important` here to be able to override the default hidden behavior on the sphinx rendered scikit-learn.org. See: https://github.com/scikit-learn/scikit-learn/issues/21755 */display: inline-block !important;position: relative;}#sk-container-id-1 div.sk-text-repr-fallback {display: none;}</style><div id=\"sk-container-id-1\" class=\"sk-top-container\"><div class=\"sk-text-repr-fallback\"><pre>SequentialFeatureSelector(cv=None, estimator=SVC())</pre><b>In a Jupyter environment, please rerun this cell to show the HTML representation or trust the notebook. <br />On GitHub, the HTML representation is unable to render, please try loading this page with nbviewer.org.</b></div><div class=\"sk-container\" hidden><div class=\"sk-item sk-dashed-wrapped\"><div class=\"sk-label-container\"><div class=\"sk-label sk-toggleable\"><input class=\"sk-toggleable__control sk-hidden--visually\" id=\"sk-estimator-id-1\" type=\"checkbox\" ><label for=\"sk-estimator-id-1\" class=\"sk-toggleable__label sk-toggleable__label-arrow\">SequentialFeatureSelector</label><div class=\"sk-toggleable__content\"><pre>SequentialFeatureSelector(cv=None, estimator=SVC())</pre></div></div></div><div class=\"sk-parallel\"><div class=\"sk-parallel-item\"><div class=\"sk-item\"><div class=\"sk-label-container\"><div class=\"sk-label sk-toggleable\"><input class=\"sk-toggleable__control sk-hidden--visually\" id=\"sk-estimator-id-2\" type=\"checkbox\" ><label for=\"sk-estimator-id-2\" class=\"sk-toggleable__label sk-toggleable__label-arrow\">estimator: SVC</label><div class=\"sk-toggleable__content\"><pre>SVC()</pre></div></div></div><div class=\"sk-serial\"><div class=\"sk-item\"><div class=\"sk-estimator sk-toggleable\"><input class=\"sk-toggleable__control sk-hidden--visually\" id=\"sk-estimator-id-3\" type=\"checkbox\" ><label for=\"sk-estimator-id-3\" class=\"sk-toggleable__label sk-toggleable__label-arrow\">SVC</label><div class=\"sk-toggleable__content\"><pre>SVC()</pre></div></div></div></div></div></div></div></div></div></div>"
      ],
      "text/plain": [
       "SequentialFeatureSelector(cv=None, estimator=SVC())"
      ]
     },
     "execution_count": 42,
     "metadata": {},
     "output_type": "execute_result"
    }
   ],
   "source": [
    "sfs"
   ]
  },
  {
   "cell_type": "code",
   "execution_count": null,
   "id": "1a6399ec-d0e4-48cb-af50-fa2d642343c5",
   "metadata": {},
   "outputs": [],
   "source": [
    "sfs = SFS(lr, k_features=7, forward=True, floating=False, n_jobs=-1,\n",
    "              scoring='neg_mean_absolute_error', cv=False)"
   ]
  },
  {
   "cell_type": "markdown",
   "id": "4679d41d-6341-4a66-b5dc-12be742b2d75",
   "metadata": {},
   "source": [
    "### TRYING TO INCLUDE CATEGORICAL CONFOUND REGRESSION BELOW: ERROR\n",
    "### TROUBLESHOOT https://techoverflow.net/2019/05/22/how-to-fix-numpy-typeerror-cannot-cast-ufunc-subtract-output-from-dtypefloat64-to-dtypeint64-with-casting-rule-same_kind/"
   ]
  },
  {
   "cell_type": "raw",
   "id": "bc5835fc-33ce-4acf-b0a6-bb1295bde661",
   "metadata": {},
   "source": [
    "# TRAIN\n",
    "\n",
    "##### define predictor and target variables\n",
    "\n",
    "### target: sex\n",
    "y_GSP = GSP_demographics_cleaned['sex']\n",
    "\n",
    "\n",
    "### predictor: brain data (400 parcels)\n",
    "x_GSP = GSP_ct_schaefer400\n",
    "\n",
    "## confound removal\n",
    "\n",
    "# make a preprocessor confound regressor\n",
    "confound_regressor = ConfoundRegressor(confound = np.array(GSP_demographics_cleaned[['age', 'global_ct']]), X = np.array(x_GSP))\n",
    "\n",
    "# fit it to the predictor data\n",
    "_ = confound_regressor.fit(X = np.array(x_GSP))\n",
    "\n",
    "# transform the predictor data with confound variables regressed out\n",
    "x_GSP_unconf = confound_regressor.transform(X = np.array(x_GSP))\n",
    "\n",
    "\n",
    "##### preprocess\n",
    "\n",
    "scaler = StandardScaler()\n",
    "_ = scaler.fit(x_GSP_unconf)\n",
    "x_GSP_unconf_scaled = scaler.transform(x_GSP_unconf)\n",
    "\n",
    "\n",
    "##### model\n",
    "\n",
    "model = SVC(kernel='rbf')\n",
    "\n",
    "_ = model.fit(x_GSP_unconf_scaled, y_GSP)\n",
    "\n",
    "\n",
    "\n",
    "\n",
    "# TEST\n",
    "\n",
    "##### define predictor and target variables\n",
    "\n",
    "### target: sex\n",
    "y_HCP = HCP_demographics_cleaned['sex']\n",
    "\n",
    "\n",
    "### predictor: brain data (400 parcels)\n",
    "x_HCP = HCP_ct_schaefer400\n",
    "\n",
    "## confound removal\n",
    "\n",
    "# make a preprocessor confound regressor # ADD Twin stat and Family ID (but categorical so make own preprocessing\n",
    "confound_regressor = ConfoundRegressor(confound = np.array(HCP_demographics_cleaned[['age', 'global_ct', 'Family_ID', 'TwinStatus']]), X = np.array(x_HCP))\n",
    "\n",
    "# fit it to the predictor data\n",
    "_ = confound_regressor.fit(X = np.array(x_HCP))\n",
    "\n",
    "# transform the predictor data with confound variables regressed out\n",
    "x_HCP_unconf = confound_regressor.transform(X = np.array(x_HCP))\n",
    "\n",
    "\n",
    "##### preprocess - scale using prefitted scaler on GSP data (correct?) by simply transforming because this is test data \n",
    "    # this is what is instructed at https://stackoverflow.com/questions/57775530/why-does-calling-transform-on-test-data-return-an-error-that-the-data-is-not-f?rq=1\n",
    "x_HCP_unconf_scaled = scaler.transform(x_HCP_unconf)\n",
    "\n",
    "\n",
    "##### compute prediction accuracy\n",
    "score = model.score(x_HCP_unconf_scaled, y_HCP)\n",
    "\n",
    "print(f\"the model's out of sample prediction accuracy is: {score:.3f}\")"
   ]
  },
  {
   "cell_type": "code",
   "execution_count": null,
   "id": "afbdc6a4-5a0f-46b2-b5ae-0c7d424905f4",
   "metadata": {},
   "outputs": [],
   "source": []
  },
  {
   "cell_type": "code",
   "execution_count": null,
   "id": "7ac6044d-fb37-456c-ad02-836ab1240ecd",
   "metadata": {},
   "outputs": [],
   "source": []
  },
  {
   "cell_type": "code",
   "execution_count": null,
   "id": "203580ed-3994-4f10-84c2-d2dd61348d2a",
   "metadata": {},
   "outputs": [],
   "source": []
  },
  {
   "cell_type": "code",
   "execution_count": null,
   "id": "d371d991-e76d-4385-9018-fb805ae04140",
   "metadata": {},
   "outputs": [],
   "source": []
  },
  {
   "cell_type": "code",
   "execution_count": null,
   "id": "dd2358c1-1a71-49da-9749-9656fffbac42",
   "metadata": {},
   "outputs": [],
   "source": []
  },
  {
   "cell_type": "code",
   "execution_count": null,
   "id": "e60be64f-2ef6-43eb-8d60-41daba86a845",
   "metadata": {},
   "outputs": [],
   "source": []
  },
  {
   "cell_type": "code",
   "execution_count": null,
   "id": "7eb06eff-8075-4791-9399-fe4eb676d50b",
   "metadata": {},
   "outputs": [],
   "source": []
  },
  {
   "cell_type": "code",
   "execution_count": null,
   "id": "b7d72bd0-b8bc-476f-9d23-bd215bc7145c",
   "metadata": {},
   "outputs": [],
   "source": []
  },
  {
   "cell_type": "code",
   "execution_count": null,
   "id": "e95bfe0a-b350-446f-aa34-cceafcc80ba5",
   "metadata": {},
   "outputs": [],
   "source": []
  },
  {
   "cell_type": "markdown",
   "id": "113befb9-6f11-403c-b42f-b93d24c0269f",
   "metadata": {
    "tags": []
   },
   "source": [
    "#\n",
    "#\n",
    "#\n",
    "#\n",
    "# for some reason I get better results when fitting the ROC curve...\n",
    "example -> need to decide after what code I want to run this (see X and y variables)"
   ]
  },
  {
   "cell_type": "code",
   "execution_count": 27,
   "id": "3f6468d3-5f77-46d7-b4a0-2eab60ac2691",
   "metadata": {},
   "outputs": [
    {
     "data": {
      "image/png": "[encoded data removed]",
      "text/plain": [
       "<Figure size 432x288 with 1 Axes>"
      ]
     },
     "metadata": {
      "needs_background": "light"
     },
     "output_type": "display_data"
    }
   ],
   "source": [
    "from sklearn.metrics import auc\n",
    "from sklearn.metrics import RocCurveDisplay\n",
    "from sklearn.model_selection import StratifiedKFold\n",
    "\n",
    "# Run classifier with cross-validation and plot ROC curves\n",
    "cv = StratifiedKFold(n_splits=10, random_state=42, shuffle=True)\n",
    "###cv = cross_validate(cv = 10)\n",
    "#classifier = svm.SVC(kernel=\"linear\", probability=True, random_state=random_state)\n",
    "classifier = make_pipeline(StandardScaler(), SVC(kernel='rbf'))\n",
    "\n",
    "X = x_GSP_unconf\n",
    "y = y_GSP\n",
    "\n",
    "tprs = []\n",
    "aucs = []\n",
    "mean_fpr = np.linspace(0, 1, 100)\n",
    "\n",
    "fig, ax = plt.subplots()\n",
    "for i, (train, test) in enumerate(cv.split(X, y)):\n",
    "    classifier.fit(X[train], y[train])\n",
    "    viz = RocCurveDisplay.from_estimator(\n",
    "        classifier,\n",
    "        X[test],\n",
    "        y[test],\n",
    "        name=\"ROC fold {}\".format(i),\n",
    "        alpha=0.3,\n",
    "        lw=1,\n",
    "        ax=ax,\n",
    "    )\n",
    "    interp_tpr = np.interp(mean_fpr, viz.fpr, viz.tpr)\n",
    "    interp_tpr[0] = 0.0\n",
    "    tprs.append(interp_tpr)\n",
    "    aucs.append(viz.roc_auc)\n",
    "\n",
    "ax.plot([0, 1], [0, 1], linestyle=\"--\", lw=2, color=\"r\", label=\"Chance\", alpha=0.8)\n",
    "\n",
    "mean_tpr = np.mean(tprs, axis=0)\n",
    "mean_tpr[-1] = 1.0\n",
    "mean_auc = auc(mean_fpr, mean_tpr)\n",
    "std_auc = np.std(aucs)\n",
    "ax.plot(\n",
    "    mean_fpr,\n",
    "    mean_tpr,\n",
    "    color=\"b\",\n",
    "    label=r\"Mean ROC (AUC = %0.2f $\\pm$ %0.2f)\" % (mean_auc, std_auc),\n",
    "    lw=2,\n",
    "    alpha=0.8,\n",
    ")\n",
    "\n",
    "std_tpr = np.std(tprs, axis=0)\n",
    "tprs_upper = np.minimum(mean_tpr + std_tpr, 1)\n",
    "tprs_lower = np.maximum(mean_tpr - std_tpr, 0)\n",
    "ax.fill_between(\n",
    "    mean_fpr,\n",
    "    tprs_lower,\n",
    "    tprs_upper,\n",
    "    color=\"grey\",\n",
    "    alpha=0.2,\n",
    "    label=r\"$\\pm$ 1 std. dev.\",\n",
    ")\n",
    "\n",
    "ax.set(\n",
    "    xlim=[-0.05, 1.05],\n",
    "    ylim=[-0.05, 1.05],\n",
    "    title=\"ROC curve\",\n",
    ")\n",
    "ax.legend(loc=(1.04, 0))\n",
    "plt.show()"
   ]
  },
  {
   "cell_type": "markdown",
   "id": "4d49a0e5-d628-439b-8afd-13be01cc7e4b",
   "metadata": {},
   "source": [
    "#\n",
    "#\n",
    "#\n",
    "#\n",
    "# Sofie's script"
   ]
  },
  {
   "cell_type": "code",
   "execution_count": null,
   "id": "b553ce49-8e33-4e9f-86bf-485c64c47a57",
   "metadata": {},
   "outputs": [],
   "source": [
    "'''\n",
    "This is a python script for running supervised machine learning to predict compassion score\n",
    "\n",
    "data input : foldname\n",
    "\n",
    "data output $np.save..... \n",
    "'''\n",
    "\n",
    "import numpy as np\n",
    "import pandas as pd\n",
    "import scipy.stats as ss\n",
    "import sklearn.linear_model as slm\n",
    "from sklearn.linear_model import LinearRegression\n",
    "from sklearn.model_selection import train_test_split\n",
    "from mlxtend.feature_selection import SequentialFeatureSelector as SFS\n",
    "import warnings\n",
    "warnings.filterwarnings(\"ignore\")\n",
    "\n",
    "df_data = pd.read_csv ('../data/attention_data.csv')\n",
    "sex_code = df_data['sex1'].unique()\n",
    "if type(sex_code[0]) == str:\n",
    "    sex_dict = {k: idx for idx, k in enumerate(sex_code)}\n",
    "    df_data['sex1'] = df_data['sex1'].replace(sex_dict)  \n",
    "\n",
    "\n",
    "def model_elasticnet(m): # l1_ratio\n",
    "  print('m', str(m))\n",
    "\n",
    "  dic = {}\n",
    "  for i in range(sample): \n",
    "    lr = slm.ElasticNetCV(alphas=[0.0001, 0.001, 0.01, 0.1, 1], l1_ratio=m, cv=5)\n",
    "    sfs = SFS(lr, k_features=7, forward=True, floating=False, n_jobs=-1,\n",
    "              scoring='neg_mean_absolute_error', cv=False)\n",
    "    model = sfs.fit(x_correct[i], y_train[i])\n",
    "    x_1 = model.transform(x_correct[i])\n",
    "    x_2 = model.transform(x_test_corr[i])\n",
    "    model2 = lr.fit(x_1, y_train[i])\n",
    "    y_pred = lr.predict(x_2)\n",
    "    corr = ss.pearsonr(y_pred, y_test[i])\n",
    "    a = model.get_metric_dict()[7]\n",
    "    a['importance'] = model.estimator.coef_\n",
    "    a['intercept'] = model.estimator.intercept_\n",
    "    a['alpha_best'] = model.estimator.alpha_\n",
    "    a['predict_test_r_p'] = np.array(corr)\n",
    "    a['mean_lr_mse']  = model2.mse_path_.mean()\n",
    "    dic['train_test_'+str(i+1)] = a\n",
    "    print('finish model......', str(i+1))\n",
    "    print(a)\n",
    "  np.save('../results/'+foldname+'feature_20_l1ratio_' + str(m)+ 'zscore.npy', dic)\n",
    "  return print('feature_' + str(20) + '_l1ratio_' + str(m)+'   finished')\n",
    "\n",
    "foldname=['attention']\n",
    "for foldname in foldname:\n",
    "\n",
    "  # IMPORT sample train_test iterations\n",
    "  sample = 100\n",
    "\n",
    "  x_train = [None] * sample\n",
    "  y_train = [None] * sample\n",
    "  x_test = [None] * sample\n",
    "  y_test = [None] * sample\n",
    "  x_correct = [None]  * sample\n",
    "  x_test_corr = [None] * sample\n",
    "  for i in range(sample):\n",
    "    Y_col = 'val1'\n",
    "    X_cols = df_data.loc[:, df_data.columns != Y_col].columns\n",
    "\n",
    "    x_train[i], x_test[i], y_train[i], y_test[i] = train_test_split(        \n",
    "          df_data[X_cols], df_data.iloc[:, 1], test_size=0.3, random_state=i)\n",
    "\t\n",
    "    x_conf = x_train[i].iloc[:,[2,3]]\n",
    "    y_conf = x_train[i].iloc[:,4:39]\n",
    "    x, y   = np.array(x_conf), np.array(y_conf)\n",
    "    model_conf = LinearRegression().fit(x, y)\n",
    "    y_pred = model_conf.predict(x)\n",
    "    x_correct[i] = y  - y_pred\n",
    "    x_conf = x_test[i].iloc[:,[2,3]]\n",
    "    y_conf = x_test[i].iloc[:,4:39]\n",
    "    x, y   = np.array(x_conf), np.array(y_conf)\n",
    "    model_conf = LinearRegression().fit(x, y)\n",
    "    y_pred = model_conf.predict(x)\n",
    "    x_test_corr[i] = y  - y_pred\n",
    "\n",
    "\n",
    "  regulation = [1.0]\n",
    "\n",
    "  for j in regulation:\n",
    "    model_elasticnet(m=j)"
   ]
  }
 ],
 "metadata": {
  "kernelspec": {
   "display_name": "Python 3 (ipykernel)",
   "language": "python",
   "name": "python3"
  },
  "language_info": {
   "codemirror_mode": {
    "name": "ipython",
    "version": 3
   },
   "file_extension": ".py",
   "mimetype": "text/x-python",
   "name": "python",
   "nbconvert_exporter": "python",
   "pygments_lexer": "ipython3",
   "version": "3.9.7"
  }
 },
 "nbformat": 4,
 "nbformat_minor": 5
}
